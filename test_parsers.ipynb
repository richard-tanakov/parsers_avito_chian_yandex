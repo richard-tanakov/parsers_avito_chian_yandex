{
 "cells": [
  {
   "cell_type": "code",
   "execution_count": 1,
   "metadata": {},
   "outputs": [],
   "source": [
    "import requests\n",
    "from bs4 import BeautifulSoup \n",
    "from rich import print\n",
    "from time import sleep\n",
    "import random\n",
    "from selenium import webdriver\n",
    "from selenium.webdriver import ChromeOptions\n",
    "from selenium.webdriver.common.by import By\n",
    "from rich import print as print\n",
    "import logging\n",
    "from Options import ParserCian as pc\n",
    "from Options import AvitoParser as ap\n",
    "from Options import YandexParser as yp"
   ]
  },
  {
   "cell_type": "code",
   "execution_count": 2,
   "metadata": {},
   "outputs": [
    {
     "data": {
      "text/html": [
       "<pre style=\"white-space:pre;overflow-x:auto;line-height:normal;font-family:Menlo,'DejaVu Sans Mono',consolas,'Courier New',monospace\"><span style=\"font-weight: bold\">(</span>\n",
       "    <span style=\"color: #008000; text-decoration-color: #008000\">'Активно'</span>,\n",
       "    <span style=\"color: #008000; text-decoration-color: #008000\">'927940–24196760₽/мес.'</span>,\n",
       "    <span style=\"color: #008000; text-decoration-color: #008000\">'Санкт-Петербург, р-н Петроградский, Посадский, ул. Чапаева, 15к2ВНа карте'</span>,\n",
       "    <span style=\"color: #008000; text-decoration-color: #008000\">'Сдается Офис  (А)вбизнес-центре «Сенатор на ул. Чапаева, 15В»'</span>\n",
       "<span style=\"font-weight: bold\">)</span>\n",
       "<span style=\"color: #0000ff; text-decoration-color: #0000ff; text-decoration: underline\">https://spb.cian.ru/rent/commercial/303822871/</span>\n",
       "</pre>\n"
      ],
      "text/plain": [
       "\u001b[1m(\u001b[0m\n",
       "    \u001b[32m'Активно'\u001b[0m,\n",
       "    \u001b[32m'927940–24196760₽/мес.'\u001b[0m,\n",
       "    \u001b[32m'Санкт-Петербург, р-н Петроградский, Посадский, ул. Чапаева, 15к2ВНа карте'\u001b[0m,\n",
       "    \u001b[32m'Сдается Офис  \u001b[0m\u001b[32m(\u001b[0m\u001b[32mА\u001b[0m\u001b[32m)\u001b[0m\u001b[32mвбизнес-центре «Сенатор на ул. Чапаева, 15В»'\u001b[0m\n",
       "\u001b[1m)\u001b[0m\n",
       "\u001b[4;94mhttps://spb.cian.ru/rent/commercial/303822871/\u001b[0m\n"
      ]
     },
     "metadata": {},
     "output_type": "display_data"
    },
    {
     "data": {
      "text/html": [
       "<pre style=\"white-space:pre;overflow-x:auto;line-height:normal;font-family:Menlo,'DejaVu Sans Mono',consolas,'Courier New',monospace\"><span style=\"font-weight: bold\">(</span><span style=\"color: #008000; text-decoration-color: #008000\">'Объявление снято с публикации'</span>, <span style=\"color: #008000; text-decoration-color: #008000\">'249900₽/мес.'</span>, <span style=\"color: #008000; text-decoration-color: #008000\">'Санкт-Петербург, наб. Реки Мойки, 5'</span>, <span style=\"color: #008000; text-decoration-color: #008000\">'Сдается Офис  (B)'</span><span style=\"font-weight: bold\">)</span>\n",
       "<span style=\"color: #0000ff; text-decoration-color: #0000ff; text-decoration: underline\">https://spb.cian.ru/rent/commercial/307829364/ss</span>\n",
       "</pre>\n"
      ],
      "text/plain": [
       "\u001b[1m(\u001b[0m\u001b[32m'Объявление снято с публикации'\u001b[0m, \u001b[32m'249900₽/мес.'\u001b[0m, \u001b[32m'Санкт-Петербург, наб. Реки Мойки, 5'\u001b[0m, \u001b[32m'Сдается Офис  \u001b[0m\u001b[32m(\u001b[0m\u001b[32mB\u001b[0m\u001b[32m)\u001b[0m\u001b[32m'\u001b[0m\u001b[1m)\u001b[0m\n",
       "\u001b[4;94mhttps://spb.cian.ru/rent/commercial/307829364/ss\u001b[0m\n"
      ]
     },
     "metadata": {},
     "output_type": "display_data"
    }
   ],
   "source": [
    "urls = ('https://spb.cian.ru/rent/commercial/303822871/',\n",
    "        'https://spb.cian.ru/rent/commercial/307829364/ss',)\n",
    "for url in urls: \n",
    "    response, url   =   pc.get_url(url)\n",
    "\n",
    "    get_html_content = pc.html_chian_content(response,url)\n",
    "\n"
   ]
  },
  {
   "cell_type": "code",
   "execution_count": 3,
   "metadata": {},
   "outputs": [
    {
     "data": {
      "text/html": [
       "<pre style=\"white-space:pre;overflow-x:auto;line-height:normal;font-family:Menlo,'DejaVu Sans Mono',consolas,'Courier New',monospace\">Объявление снято с публикации. <span style=\"color: #008080; text-decoration-color: #008080; font-weight: bold\">33</span> <span style=\"color: #008080; text-decoration-color: #008080; font-weight: bold\">814</span> <span style=\"color: #008080; text-decoration-color: #008080; font-weight: bold\">000</span> ₽  \n",
       "<span style=\"color: #0000ff; text-decoration-color: #0000ff; text-decoration: underline\">https://www.avito.ru/sankt-peterburg/kommercheskaya_nedvizhimost/torgovaya_ploschad_122.96_m_3880075333</span>\n",
       "</pre>\n"
      ],
      "text/plain": [
       "Объявление снято с публикации. \u001b[1;36m33\u001b[0m \u001b[1;36m814\u001b[0m \u001b[1;36m000\u001b[0m ₽  \n",
       "\u001b[4;94mhttps://www.avito.ru/sankt-peterburg/kommercheskaya_nedvizhimost/torgovaya_ploschad_122.96_m_3880075333\u001b[0m\n"
      ]
     },
     "metadata": {},
     "output_type": "display_data"
    },
    {
     "data": {
      "text/html": [
       "<pre style=\"white-space:pre;overflow-x:auto;line-height:normal;font-family:Menlo,'DejaVu Sans Mono',consolas,'Courier New',monospace\">Объяление было удалено  \n",
       "<span style=\"color: #0000ff; text-decoration-color: #0000ff; text-decoration: underline\">https://www.avito.ru/sankt-peterburg/kommercheskaya_nedvizhimost/prodazha_pomescheniya_s_arendatorom_bar_zazazu_58_</span>\n",
       "<span style=\"color: #0000ff; text-decoration-color: #0000ff; text-decoration: underline\">m_416138087</span>\n",
       "</pre>\n"
      ],
      "text/plain": [
       "Объяление было удалено  \n",
       "\u001b[4;94mhttps://www.avito.ru/sankt-peterburg/kommercheskaya_nedvizhimost/prodazha_pomescheniya_s_arendatorom_bar_zazazu_58_\u001b[0m\n",
       "\u001b[4;94mm_416138087\u001b[0m\n"
      ]
     },
     "metadata": {},
     "output_type": "display_data"
    },
    {
     "data": {
      "text/html": [
       "<pre style=\"white-space:pre;overflow-x:auto;line-height:normal;font-family:Menlo,'DejaVu Sans Mono',consolas,'Courier New',monospace\"><span style=\"color: #008080; text-decoration-color: #008080; font-weight: bold\">33</span> <span style=\"color: #008080; text-decoration-color: #008080; font-weight: bold\">000</span> <span style=\"color: #008080; text-decoration-color: #008080; font-weight: bold\">000</span> ₽  Активно Санкт-Петербург, ул. Рубинштейна, <span style=\"color: #008080; text-decoration-color: #008080; font-weight: bold\">23</span> \n",
       "<span style=\"color: #0000ff; text-decoration-color: #0000ff; text-decoration: underline\">https://www.avito.ru/sankt-peterburg/kommercheskaya_nedvizhimost/prodazha_pomescheniya_s_arendatorom_bar_zazazu_58_</span>\n",
       "<span style=\"color: #0000ff; text-decoration-color: #0000ff; text-decoration: underline\">m_4161380871</span>\n",
       "</pre>\n"
      ],
      "text/plain": [
       "\u001b[1;36m33\u001b[0m \u001b[1;36m000\u001b[0m \u001b[1;36m000\u001b[0m ₽  Активно Санкт-Петербург, ул. Рубинштейна, \u001b[1;36m23\u001b[0m \n",
       "\u001b[4;94mhttps://www.avito.ru/sankt-peterburg/kommercheskaya_nedvizhimost/prodazha_pomescheniya_s_arendatorom_bar_zazazu_58_\u001b[0m\n",
       "\u001b[4;94mm_4161380871\u001b[0m\n"
      ]
     },
     "metadata": {},
     "output_type": "display_data"
    }
   ],
   "source": [
    "urls = (\n",
    "       'https://www.avito.ru/sankt-peterburg/kommercheskaya_nedvizhimost/torgovaya_ploschad_122.96_m_3880075333',\n",
    "       'https://www.avito.ru/sankt-peterburg/kommercheskaya_nedvizhimost/prodazha_pomescheniya_s_arendatorom_bar_zazazu_58_m_416138087',\n",
    "       'https://www.avito.ru/sankt-peterburg/kommercheskaya_nedvizhimost/prodazha_pomescheniya_s_arendatorom_bar_zazazu_58_m_4161380871',\n",
    "       )\n",
    "\n",
    "\n",
    "\n",
    "for url in urls:\n",
    "\n",
    "    ap.html_avito_content(url)"
   ]
  },
  {
   "cell_type": "code",
   "execution_count": 4,
   "metadata": {},
   "outputs": [
    {
     "data": {
      "text/html": [
       "<pre style=\"white-space:pre;overflow-x:auto;line-height:normal;font-family:Menlo,'DejaVu Sans Mono',consolas,'Courier New',monospace\"><span style=\"color: #008080; text-decoration-color: #008080; font-weight: bold\">3</span> <span style=\"color: #008080; text-decoration-color: #008080; font-weight: bold\">158</span> <span style=\"color: #008080; text-decoration-color: #008080; font-weight: bold\">820</span> ₽ в месяц Объявление активно Бизнес-центр «Сенатор на <span style=\"color: #008080; text-decoration-color: #008080; font-weight: bold\">18</span>-й линии В.О., <span style=\"color: #008080; text-decoration-color: #008080; font-weight: bold\">29</span>» \n",
       "<span style=\"color: #0000ff; text-decoration-color: #0000ff; text-decoration: underline\">https://realty.ya.ru/offer/2375074559489126502/</span>\n",
       "</pre>\n"
      ],
      "text/plain": [
       "\u001b[1;36m3\u001b[0m \u001b[1;36m158\u001b[0m \u001b[1;36m820\u001b[0m ₽ в месяц Объявление активно Бизнес-центр «Сенатор на \u001b[1;36m18\u001b[0m-й линии В.О., \u001b[1;36m29\u001b[0m» \n",
       "\u001b[4;94mhttps://realty.ya.ru/offer/2375074559489126502/\u001b[0m\n"
      ]
     },
     "metadata": {},
     "output_type": "display_data"
    },
    {
     "data": {
      "text/html": [
       "<pre style=\"white-space:pre;overflow-x:auto;line-height:normal;font-family:Menlo,'DejaVu Sans Mono',consolas,'Courier New',monospace\"><span style=\"color: #008080; text-decoration-color: #008080; font-weight: bold\">2</span> <span style=\"color: #008080; text-decoration-color: #008080; font-weight: bold\">644</span> <span style=\"color: #008080; text-decoration-color: #008080; font-weight: bold\">080</span> ₽ в месяц Объявление активно Бизнес-центр «Сенатор на ул. Профессора Попова, <span style=\"color: #008080; text-decoration-color: #008080; font-weight: bold\">37</span>» \n",
       "<span style=\"color: #0000ff; text-decoration-color: #0000ff; text-decoration: underline\">https://realty.ya.ru/offer/2375074591495593923/</span>\n",
       "</pre>\n"
      ],
      "text/plain": [
       "\u001b[1;36m2\u001b[0m \u001b[1;36m644\u001b[0m \u001b[1;36m080\u001b[0m ₽ в месяц Объявление активно Бизнес-центр «Сенатор на ул. Профессора Попова, \u001b[1;36m37\u001b[0m» \n",
       "\u001b[4;94mhttps://realty.ya.ru/offer/2375074591495593923/\u001b[0m\n"
      ]
     },
     "metadata": {},
     "output_type": "display_data"
    },
    {
     "data": {
      "text/html": [
       "<pre style=\"white-space:pre;overflow-x:auto;line-height:normal;font-family:Menlo,'DejaVu Sans Mono',consolas,'Courier New',monospace\"><span style=\"color: #008080; text-decoration-color: #008080; font-weight: bold\">1</span> <span style=\"color: #008080; text-decoration-color: #008080; font-weight: bold\">115</span> <span style=\"color: #008080; text-decoration-color: #008080; font-weight: bold\">640</span> ₽ в месяц Объявление активно Бизнес-центр «Премьер Лига» <span style=\"color: #0000ff; text-decoration-color: #0000ff; text-decoration: underline\">https://realty.ya.ru/offer/3960606821252402695/</span>\n",
       "</pre>\n"
      ],
      "text/plain": [
       "\u001b[1;36m1\u001b[0m \u001b[1;36m115\u001b[0m \u001b[1;36m640\u001b[0m ₽ в месяц Объявление активно Бизнес-центр «Премьер Лига» \u001b[4;94mhttps://realty.ya.ru/offer/3960606821252402695/\u001b[0m\n"
      ]
     },
     "metadata": {},
     "output_type": "display_data"
    },
    {
     "data": {
      "text/html": [
       "<pre style=\"white-space:pre;overflow-x:auto;line-height:normal;font-family:Menlo,'DejaVu Sans Mono',consolas,'Courier New',monospace\">Объяление в архиве <span style=\"color: #0000ff; text-decoration-color: #0000ff; text-decoration: underline\">https://realty.ya.ru/offer/6619495374592763904/</span>\n",
       "</pre>\n"
      ],
      "text/plain": [
       "Объяление в архиве \u001b[4;94mhttps://realty.ya.ru/offer/6619495374592763904/\u001b[0m\n"
      ]
     },
     "metadata": {},
     "output_type": "display_data"
    }
   ],
   "source": [
    "urls = ('https://realty.ya.ru/offer/2375074559489126502/',\n",
    "        'https://realty.ya.ru/offer/2375074591495593923/',\n",
    "        'https://realty.ya.ru/offer/3960606821252402695/',\n",
    "\n",
    "        'https://realty.ya.ru/offer/6619495374592763904/',)\n",
    "\n",
    "for url in urls:\n",
    "    yp.html_yandex_content(url)"
   ]
  }
 ],
 "metadata": {
  "kernelspec": {
   "display_name": "real_estate_transaction-s4JVtSGh",
   "language": "python",
   "name": "python3"
  },
  "language_info": {
   "codemirror_mode": {
    "name": "ipython",
    "version": 3
   },
   "file_extension": ".py",
   "mimetype": "text/x-python",
   "name": "python",
   "nbconvert_exporter": "python",
   "pygments_lexer": "ipython3",
   "version": "3.12.3"
  }
 },
 "nbformat": 4,
 "nbformat_minor": 2
}
