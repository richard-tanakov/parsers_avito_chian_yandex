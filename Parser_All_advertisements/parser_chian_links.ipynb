{
 "cells": [
  {
   "cell_type": "markdown",
   "metadata": {},
   "source": [
    "\n",
    "Парсит все сайты по коммерческой недвижке в SPB\n",
    "\n",
    "\n"
   ]
  },
  {
   "cell_type": "code",
   "execution_count": 1,
   "metadata": {},
   "outputs": [],
   "source": [
    "import requests\n",
    "from bs4 import BeautifulSoup\n",
    "from rich import print as print\n",
    "import json\n",
    "from random import randint\n",
    "from time import sleep\n",
    "\n",
    "\n",
    "\n"
   ]
  },
  {
   "cell_type": "code",
   "execution_count": 2,
   "metadata": {},
   "outputs": [],
   "source": [
    "def parser_info(url):\n",
    "        \n",
    "        #Используем разные маски\n",
    "        headers = {\n",
    "                'User-Agent':'Mozilla/5.0 (Windows NT 6.3; Win64; x64) AppleWebKit/537.36 (KHTML, like Gecko) Chrome/90.0.4430.93 Safari/537.36',\n",
    "        }\n",
    "        response    =   requests.get(url = url,headers = headers)\n",
    "        \n",
    "\n",
    "        \n",
    "        soup = BeautifulSoup(response.text, 'html.parser')\n",
    "\n",
    "        # Находим все объявления на странице\n",
    "        apartments = soup.find_all('div', {'data-name':'CommercialOfferCard'})\n",
    "\n",
    "        # Перебираем найденные объявления и вытаскиваем нужные данные\n",
    "        for apartment in apartments:\n",
    "                title = apartment.find('h3', {'class':\"_32bbee5fda--header-title--gznMp\"}).get_text()\n",
    "                address = apartment.find('div', {'class':\"_32bbee5fda--address-path--co6Io\" }).get_text()\n",
    "                link  = apartment.find('a',{'data-name':\"CommercialTitle\"})\n",
    "                price = title[title.find('м²')+6 : ]   \n",
    "                print(\"Title:\", title)\n",
    "                print(\"Address:\", address)\n",
    "                print('url', link.get('href'))\n",
    "                print('price', price)\n",
    "                print(\"------------\")\n",
    "        \n",
    "        \n",
    "\n",
    "        "
   ]
  },
  {
   "cell_type": "code",
   "execution_count": 3,
   "metadata": {},
   "outputs": [],
   "source": [
    "# Отправляем первую страницу на парсинг, потом переходим по каждой пока активной не станет 1. \n",
    "def page_navigation():\n",
    "    headers = {\n",
    "            'User-Agent': 'Mozilla/5.0 (Windows NT 10.0; Win64; x64) AppleWebKit/537.36 (KHTML, like Gecko) Chrome/79.0.3945.136 Safari/537.36'\n",
    "    }\n",
    "    x = True\n",
    "    count   =   1\n",
    "    links   =   [] \n",
    "    \n",
    "    while x == True:\n",
    "        \n",
    "        sleep(randint(0,100)) # Устанавливаем рандомное прерывание программы с запросом, чтобы сайт не блочил подключение\n",
    "        \n",
    "        \n",
    "        count +=1\n",
    "        \n",
    "        # начинаем со второй страницы при попытке перехода на несуществующую, перебрасывает на первую.         \n",
    "        url = f'https://spb.cian.ru/cat.php?deal_type=rent&engine_version=2&offer_type=offices&office_type%5B0%5D=1&office_type%5B1%5D=2&office_type%5B2%5D=3&office_type%5B3%5D=4&office_type%5B4%5D=5&office_type%5B5%5D=7&office_type%5B6%5D=9&office_type%5B7%5D=11&office_type%5B8%5D=12&p={count}&region=2'\n",
    "        \n",
    "        \n",
    "        r    =    requests.get(url=url, headers=headers)\n",
    "\n",
    "        soup       =   BeautifulSoup(r.text, 'lxml')\n",
    "\n",
    "        page       =    soup.find('li',class_='_32bbee5fda--list-item--FFjMz _32bbee5fda--list-item--active--WifA5')\n",
    "        \n",
    "        \n",
    "        parser_info(url)\n",
    "        print(page.text)\n",
    "        if (page.text).__str__() == '1': # если парсер на первой прерываем цикл\n",
    "            \n",
    "            print(\"Получили все ссылки на объявления\")\n",
    "            x   =    False\n"
   ]
  },
  {
   "cell_type": "code",
   "execution_count": 4,
   "metadata": {},
   "outputs": [
    {
     "data": {
      "text/html": [
       "<pre style=\"white-space:pre;overflow-x:auto;line-height:normal;font-family:Menlo,'DejaVu Sans Mono',consolas,'Courier New',monospace\">Title: ОфисыGregory's Palace <span style=\"font-weight: bold\">(</span>Грегорис Палас<span style=\"font-weight: bold\">)</span><span style=\"color: #008080; text-decoration-color: #008080; font-weight: bold\">95</span> – <span style=\"color: #008080; text-decoration-color: #008080; font-weight: bold\">1</span> <span style=\"color: #008080; text-decoration-color: #008080; font-weight: bold\">700</span> м² от <span style=\"color: #008080; text-decoration-color: #008080; font-weight: bold\">285</span> <span style=\"color: #008080; text-decoration-color: #008080; font-weight: bold\">000</span> ₽<span style=\"color: #800080; text-decoration-color: #800080\">/</span><span style=\"color: #ff00ff; text-decoration-color: #ff00ff\">мес.Видовые</span> офисы класса A+\n",
       "</pre>\n"
      ],
      "text/plain": [
       "Title: ОфисыGregory's Palace \u001b[1m(\u001b[0mГрегорис Палас\u001b[1m)\u001b[0m\u001b[1;36m95\u001b[0m – \u001b[1;36m1\u001b[0m \u001b[1;36m700\u001b[0m м² от \u001b[1;36m285\u001b[0m \u001b[1;36m000\u001b[0m ₽\u001b[35m/\u001b[0m\u001b[95mмес.Видовые\u001b[0m офисы класса A+\n"
      ]
     },
     "metadata": {},
     "output_type": "display_data"
    },
    {
     "data": {
      "text/html": [
       "<pre style=\"white-space:pre;overflow-x:auto;line-height:normal;font-family:Menlo,'DejaVu Sans Mono',consolas,'Courier New',monospace\">Address: Санкт-Петербург, р-н Выборгский, Сампсониевское, м. Лесная, Выборгская набережная, 55к3\n",
       "</pre>\n"
      ],
      "text/plain": [
       "Address: Санкт-Петербург, р-н Выборгский, Сампсониевское, м. Лесная, Выборгская набережная, 55к3\n"
      ]
     },
     "metadata": {},
     "output_type": "display_data"
    },
    {
     "data": {
      "text/html": [
       "<pre style=\"white-space:pre;overflow-x:auto;line-height:normal;font-family:Menlo,'DejaVu Sans Mono',consolas,'Courier New',monospace\">url <span style=\"color: #0000ff; text-decoration-color: #0000ff; text-decoration: underline\">https://spb.cian.ru/rent/commercial/199322166/</span>\n",
       "</pre>\n"
      ],
      "text/plain": [
       "url \u001b[4;94mhttps://spb.cian.ru/rent/commercial/199322166/\u001b[0m\n"
      ]
     },
     "metadata": {},
     "output_type": "display_data"
    },
    {
     "data": {
      "text/html": [
       "<pre style=\"white-space:pre;overflow-x:auto;line-height:normal;font-family:Menlo,'DejaVu Sans Mono',consolas,'Courier New',monospace\">price <span style=\"color: #008080; text-decoration-color: #008080; font-weight: bold\">285</span> <span style=\"color: #008080; text-decoration-color: #008080; font-weight: bold\">000</span> ₽<span style=\"color: #800080; text-decoration-color: #800080\">/</span><span style=\"color: #ff00ff; text-decoration-color: #ff00ff\">мес.Видовые</span> офисы класса A+\n",
       "</pre>\n"
      ],
      "text/plain": [
       "price \u001b[1;36m285\u001b[0m \u001b[1;36m000\u001b[0m ₽\u001b[35m/\u001b[0m\u001b[95mмес.Видовые\u001b[0m офисы класса A+\n"
      ]
     },
     "metadata": {},
     "output_type": "display_data"
    },
    {
     "data": {
      "text/html": [
       "<pre style=\"white-space:pre;overflow-x:auto;line-height:normal;font-family:Menlo,'DejaVu Sans Mono',consolas,'Courier New',monospace\">------------\n",
       "</pre>\n"
      ],
      "text/plain": [
       "------------\n"
      ]
     },
     "metadata": {},
     "output_type": "display_data"
    },
    {
     "data": {
      "text/html": [
       "<pre style=\"white-space:pre;overflow-x:auto;line-height:normal;font-family:Menlo,'DejaVu Sans Mono',consolas,'Courier New',monospace\">Title: ОфисыСенатор на ул. Чапаева, 15В356,<span style=\"color: #008080; text-decoration-color: #008080; font-weight: bold\">9</span> – <span style=\"color: #008080; text-decoration-color: #008080; font-weight: bold\">8</span> <span style=\"color: #008080; text-decoration-color: #008080; font-weight: bold\">641</span>,<span style=\"color: #008080; text-decoration-color: #008080; font-weight: bold\">7</span> м² от <span style=\"color: #008080; text-decoration-color: #008080; font-weight: bold\">1</span> <span style=\"color: #008080; text-decoration-color: #008080; font-weight: bold\">002</span> <span style=\"color: #008080; text-decoration-color: #008080; font-weight: bold\">175</span> ₽<span style=\"color: #800080; text-decoration-color: #800080\">/</span><span style=\"color: #ff00ff; text-decoration-color: #ff00ff\">мес.</span>\n",
       "</pre>\n"
      ],
      "text/plain": [
       "Title: ОфисыСенатор на ул. Чапаева, 15В356,\u001b[1;36m9\u001b[0m – \u001b[1;36m8\u001b[0m \u001b[1;36m641\u001b[0m,\u001b[1;36m7\u001b[0m м² от \u001b[1;36m1\u001b[0m \u001b[1;36m002\u001b[0m \u001b[1;36m175\u001b[0m ₽\u001b[35m/\u001b[0m\u001b[95mмес.\u001b[0m\n"
      ]
     },
     "metadata": {},
     "output_type": "display_data"
    },
    {
     "data": {
      "text/html": [
       "<pre style=\"white-space:pre;overflow-x:auto;line-height:normal;font-family:Menlo,'DejaVu Sans Mono',consolas,'Courier New',monospace\">Address: Санкт-Петербург, р-н Петроградский, Посадский, м. Горьковская, улица Чапаева, 15к2В\n",
       "</pre>\n"
      ],
      "text/plain": [
       "Address: Санкт-Петербург, р-н Петроградский, Посадский, м. Горьковская, улица Чапаева, 15к2В\n"
      ]
     },
     "metadata": {},
     "output_type": "display_data"
    },
    {
     "data": {
      "text/html": [
       "<pre style=\"white-space:pre;overflow-x:auto;line-height:normal;font-family:Menlo,'DejaVu Sans Mono',consolas,'Courier New',monospace\">url <span style=\"color: #0000ff; text-decoration-color: #0000ff; text-decoration: underline\">https://spb.cian.ru/rent/commercial/306472587/</span>\n",
       "</pre>\n"
      ],
      "text/plain": [
       "url \u001b[4;94mhttps://spb.cian.ru/rent/commercial/306472587/\u001b[0m\n"
      ]
     },
     "metadata": {},
     "output_type": "display_data"
    },
    {
     "data": {
      "text/html": [
       "<pre style=\"white-space:pre;overflow-x:auto;line-height:normal;font-family:Menlo,'DejaVu Sans Mono',consolas,'Courier New',monospace\">price <span style=\"color: #008080; text-decoration-color: #008080; font-weight: bold\">1</span> <span style=\"color: #008080; text-decoration-color: #008080; font-weight: bold\">002</span> <span style=\"color: #008080; text-decoration-color: #008080; font-weight: bold\">175</span> ₽<span style=\"color: #800080; text-decoration-color: #800080\">/</span><span style=\"color: #ff00ff; text-decoration-color: #ff00ff\">мес.</span>\n",
       "</pre>\n"
      ],
      "text/plain": [
       "price \u001b[1;36m1\u001b[0m \u001b[1;36m002\u001b[0m \u001b[1;36m175\u001b[0m ₽\u001b[35m/\u001b[0m\u001b[95mмес.\u001b[0m\n"
      ]
     },
     "metadata": {},
     "output_type": "display_data"
    },
    {
     "data": {
      "text/html": [
       "<pre style=\"white-space:pre;overflow-x:auto;line-height:normal;font-family:Menlo,'DejaVu Sans Mono',consolas,'Courier New',monospace\">------------\n",
       "</pre>\n"
      ],
      "text/plain": [
       "------------\n"
      ]
     },
     "metadata": {},
     "output_type": "display_data"
    },
    {
     "data": {
      "text/html": [
       "<pre style=\"white-space:pre;overflow-x:auto;line-height:normal;font-family:Menlo,'DejaVu Sans Mono',consolas,'Courier New',monospace\">Title: ОфисыСобрание <span style=\"color: #008080; text-decoration-color: #008080; font-weight: bold\">2647</span> – <span style=\"color: #008080; text-decoration-color: #008080; font-weight: bold\">15</span> <span style=\"color: #008080; text-decoration-color: #008080; font-weight: bold\">380</span> м² от <span style=\"color: #008080; text-decoration-color: #008080; font-weight: bold\">1</span> <span style=\"color: #008080; text-decoration-color: #008080; font-weight: bold\">099</span> <span style=\"color: #008080; text-decoration-color: #008080; font-weight: bold\">900</span> ₽<span style=\"color: #800080; text-decoration-color: #800080\">/</span><span style=\"color: #ff00ff; text-decoration-color: #ff00ff\">мес.Офисы</span> от <span style=\"color: #008080; text-decoration-color: #008080; font-weight: bold\">647</span> м² в новом БЦ\n",
       "</pre>\n"
      ],
      "text/plain": [
       "Title: ОфисыСобрание \u001b[1;36m2647\u001b[0m – \u001b[1;36m15\u001b[0m \u001b[1;36m380\u001b[0m м² от \u001b[1;36m1\u001b[0m \u001b[1;36m099\u001b[0m \u001b[1;36m900\u001b[0m ₽\u001b[35m/\u001b[0m\u001b[95mмес.Офисы\u001b[0m от \u001b[1;36m647\u001b[0m м² в новом БЦ\n"
      ]
     },
     "metadata": {},
     "output_type": "display_data"
    },
    {
     "data": {
      "text/html": [
       "<pre style=\"white-space:pre;overflow-x:auto;line-height:normal;font-family:Menlo,'DejaVu Sans Mono',consolas,'Courier New',monospace\">Address: Санкт-Петербург, р-н Московский, Московская застава, м. Электросила, Новорощинская улица, 4с2\n",
       "</pre>\n"
      ],
      "text/plain": [
       "Address: Санкт-Петербург, р-н Московский, Московская застава, м. Электросила, Новорощинская улица, 4с2\n"
      ]
     },
     "metadata": {},
     "output_type": "display_data"
    },
    {
     "data": {
      "text/html": [
       "<pre style=\"white-space:pre;overflow-x:auto;line-height:normal;font-family:Menlo,'DejaVu Sans Mono',consolas,'Courier New',monospace\">url <span style=\"color: #0000ff; text-decoration-color: #0000ff; text-decoration: underline\">https://spb.cian.ru/rent/commercial/260948162/</span>\n",
       "</pre>\n"
      ],
      "text/plain": [
       "url \u001b[4;94mhttps://spb.cian.ru/rent/commercial/260948162/\u001b[0m\n"
      ]
     },
     "metadata": {},
     "output_type": "display_data"
    },
    {
     "data": {
      "text/html": [
       "<pre style=\"white-space:pre;overflow-x:auto;line-height:normal;font-family:Menlo,'DejaVu Sans Mono',consolas,'Courier New',monospace\">price <span style=\"color: #008080; text-decoration-color: #008080; font-weight: bold\">1</span> <span style=\"color: #008080; text-decoration-color: #008080; font-weight: bold\">099</span> <span style=\"color: #008080; text-decoration-color: #008080; font-weight: bold\">900</span> ₽<span style=\"color: #800080; text-decoration-color: #800080\">/</span><span style=\"color: #ff00ff; text-decoration-color: #ff00ff\">мес.Офисы</span> от <span style=\"color: #008080; text-decoration-color: #008080; font-weight: bold\">647</span> м² в новом БЦ\n",
       "</pre>\n"
      ],
      "text/plain": [
       "price \u001b[1;36m1\u001b[0m \u001b[1;36m099\u001b[0m \u001b[1;36m900\u001b[0m ₽\u001b[35m/\u001b[0m\u001b[95mмес.Офисы\u001b[0m от \u001b[1;36m647\u001b[0m м² в новом БЦ\n"
      ]
     },
     "metadata": {},
     "output_type": "display_data"
    },
    {
     "data": {
      "text/html": [
       "<pre style=\"white-space:pre;overflow-x:auto;line-height:normal;font-family:Menlo,'DejaVu Sans Mono',consolas,'Courier New',monospace\">------------\n",
       "</pre>\n"
      ],
      "text/plain": [
       "------------\n"
      ]
     },
     "metadata": {},
     "output_type": "display_data"
    },
    {
     "data": {
      "text/html": [
       "<pre style=\"white-space:pre;overflow-x:auto;line-height:normal;font-family:Menlo,'DejaVu Sans Mono',consolas,'Courier New',monospace\">Title: ОфисыСенатор на ул. Профессора Попова, 37Вот <span style=\"color: #008080; text-decoration-color: #008080; font-weight: bold\">1</span> <span style=\"color: #008080; text-decoration-color: #008080; font-weight: bold\">219</span>,<span style=\"color: #008080; text-decoration-color: #008080; font-weight: bold\">6</span> м² от <span style=\"color: #008080; text-decoration-color: #008080; font-weight: bold\">3</span> <span style=\"color: #008080; text-decoration-color: #008080; font-weight: bold\">161</span> <span style=\"color: #008080; text-decoration-color: #008080; font-weight: bold\">203</span> ₽<span style=\"color: #800080; text-decoration-color: #800080\">/</span><span style=\"color: #ff00ff; text-decoration-color: #ff00ff\">мес.Премиум-офис</span> на Петроградской\n",
       "</pre>\n"
      ],
      "text/plain": [
       "Title: ОфисыСенатор на ул. Профессора Попова, 37Вот \u001b[1;36m1\u001b[0m \u001b[1;36m219\u001b[0m,\u001b[1;36m6\u001b[0m м² от \u001b[1;36m3\u001b[0m \u001b[1;36m161\u001b[0m \u001b[1;36m203\u001b[0m ₽\u001b[35m/\u001b[0m\u001b[95mмес.Премиум-офис\u001b[0m на Петроградской\n"
      ]
     },
     "metadata": {},
     "output_type": "display_data"
    },
    {
     "data": {
      "text/html": [
       "<pre style=\"white-space:pre;overflow-x:auto;line-height:normal;font-family:Menlo,'DejaVu Sans Mono',consolas,'Courier New',monospace\">Address: Санкт-Петербург, р-н Петроградский, Чкаловское, м. Петроградская, улица Профессора Попова, 37В\n",
       "</pre>\n"
      ],
      "text/plain": [
       "Address: Санкт-Петербург, р-н Петроградский, Чкаловское, м. Петроградская, улица Профессора Попова, 37В\n"
      ]
     },
     "metadata": {},
     "output_type": "display_data"
    },
    {
     "data": {
      "text/html": [
       "<pre style=\"white-space:pre;overflow-x:auto;line-height:normal;font-family:Menlo,'DejaVu Sans Mono',consolas,'Courier New',monospace\">url <span style=\"color: #0000ff; text-decoration-color: #0000ff; text-decoration: underline\">https://spb.cian.ru/rent/commercial/303274515/</span>\n",
       "</pre>\n"
      ],
      "text/plain": [
       "url \u001b[4;94mhttps://spb.cian.ru/rent/commercial/303274515/\u001b[0m\n"
      ]
     },
     "metadata": {},
     "output_type": "display_data"
    },
    {
     "data": {
      "text/html": [
       "<pre style=\"white-space:pre;overflow-x:auto;line-height:normal;font-family:Menlo,'DejaVu Sans Mono',consolas,'Courier New',monospace\">price <span style=\"color: #008080; text-decoration-color: #008080; font-weight: bold\">3</span> <span style=\"color: #008080; text-decoration-color: #008080; font-weight: bold\">161</span> <span style=\"color: #008080; text-decoration-color: #008080; font-weight: bold\">203</span> ₽<span style=\"color: #800080; text-decoration-color: #800080\">/</span><span style=\"color: #ff00ff; text-decoration-color: #ff00ff\">мес.Премиум-офис</span> на Петроградской\n",
       "</pre>\n"
      ],
      "text/plain": [
       "price \u001b[1;36m3\u001b[0m \u001b[1;36m161\u001b[0m \u001b[1;36m203\u001b[0m ₽\u001b[35m/\u001b[0m\u001b[95mмес.Премиум-офис\u001b[0m на Петроградской\n"
      ]
     },
     "metadata": {},
     "output_type": "display_data"
    },
    {
     "data": {
      "text/html": [
       "<pre style=\"white-space:pre;overflow-x:auto;line-height:normal;font-family:Menlo,'DejaVu Sans Mono',consolas,'Courier New',monospace\">------------\n",
       "</pre>\n"
      ],
      "text/plain": [
       "------------\n"
      ]
     },
     "metadata": {},
     "output_type": "display_data"
    },
    {
     "data": {
      "text/html": [
       "<pre style=\"white-space:pre;overflow-x:auto;line-height:normal;font-family:Menlo,'DejaVu Sans Mono',consolas,'Courier New',monospace\">Title: ОфисыАтриум175 – <span style=\"color: #008080; text-decoration-color: #008080; font-weight: bold\">646</span> м² от <span style=\"color: #008080; text-decoration-color: #008080; font-weight: bold\">525</span> <span style=\"color: #008080; text-decoration-color: #008080; font-weight: bold\">000</span> ₽<span style=\"color: #800080; text-decoration-color: #800080\">/</span><span style=\"color: #ff00ff; text-decoration-color: #ff00ff\">мес.Премиум-офисы</span> у Казанского собора\n",
       "</pre>\n"
      ],
      "text/plain": [
       "Title: ОфисыАтриум175 – \u001b[1;36m646\u001b[0m м² от \u001b[1;36m525\u001b[0m \u001b[1;36m000\u001b[0m ₽\u001b[35m/\u001b[0m\u001b[95mмес.Премиум-офисы\u001b[0m у Казанского собора\n"
      ]
     },
     "metadata": {},
     "output_type": "display_data"
    },
    {
     "data": {
      "text/html": [
       "<pre style=\"white-space:pre;overflow-x:auto;line-height:normal;font-family:Menlo,'DejaVu Sans Mono',consolas,'Courier New',monospace\">Address: Санкт-Петербург, р-н Центральный, № <span style=\"color: #008080; text-decoration-color: #008080; font-weight: bold\">78</span>, м. Невский проспект, Невский проспект, <span style=\"color: #008080; text-decoration-color: #008080; font-weight: bold\">25</span>\n",
       "</pre>\n"
      ],
      "text/plain": [
       "Address: Санкт-Петербург, р-н Центральный, № \u001b[1;36m78\u001b[0m, м. Невский проспект, Невский проспект, \u001b[1;36m25\u001b[0m\n"
      ]
     },
     "metadata": {},
     "output_type": "display_data"
    },
    {
     "data": {
      "text/html": [
       "<pre style=\"white-space:pre;overflow-x:auto;line-height:normal;font-family:Menlo,'DejaVu Sans Mono',consolas,'Courier New',monospace\">url <span style=\"color: #0000ff; text-decoration-color: #0000ff; text-decoration: underline\">https://spb.cian.ru/rent/commercial/271564847/</span>\n",
       "</pre>\n"
      ],
      "text/plain": [
       "url \u001b[4;94mhttps://spb.cian.ru/rent/commercial/271564847/\u001b[0m\n"
      ]
     },
     "metadata": {},
     "output_type": "display_data"
    },
    {
     "data": {
      "text/html": [
       "<pre style=\"white-space:pre;overflow-x:auto;line-height:normal;font-family:Menlo,'DejaVu Sans Mono',consolas,'Courier New',monospace\">price <span style=\"color: #008080; text-decoration-color: #008080; font-weight: bold\">525</span> <span style=\"color: #008080; text-decoration-color: #008080; font-weight: bold\">000</span> ₽<span style=\"color: #800080; text-decoration-color: #800080\">/</span><span style=\"color: #ff00ff; text-decoration-color: #ff00ff\">мес.Премиум-офисы</span> у Казанского собора\n",
       "</pre>\n"
      ],
      "text/plain": [
       "price \u001b[1;36m525\u001b[0m \u001b[1;36m000\u001b[0m ₽\u001b[35m/\u001b[0m\u001b[95mмес.Премиум-офисы\u001b[0m у Казанского собора\n"
      ]
     },
     "metadata": {},
     "output_type": "display_data"
    },
    {
     "data": {
      "text/html": [
       "<pre style=\"white-space:pre;overflow-x:auto;line-height:normal;font-family:Menlo,'DejaVu Sans Mono',consolas,'Courier New',monospace\">------------\n",
       "</pre>\n"
      ],
      "text/plain": [
       "------------\n"
      ]
     },
     "metadata": {},
     "output_type": "display_data"
    },
    {
     "data": {
      "text/html": [
       "<pre style=\"white-space:pre;overflow-x:auto;line-height:normal;font-family:Menlo,'DejaVu Sans Mono',consolas,'Courier New',monospace\">Title: ОфисыЛинкор880 – <span style=\"color: #008080; text-decoration-color: #008080; font-weight: bold\">1</span> <span style=\"color: #008080; text-decoration-color: #008080; font-weight: bold\">096</span> м² от <span style=\"color: #008080; text-decoration-color: #008080; font-weight: bold\">1</span> <span style=\"color: #008080; text-decoration-color: #008080; font-weight: bold\">760</span> <span style=\"color: #008080; text-decoration-color: #008080; font-weight: bold\">000</span> ₽<span style=\"color: #800080; text-decoration-color: #800080\">/</span><span style=\"color: #ff00ff; text-decoration-color: #ff00ff\">мес.Видовые</span> офисы от <span style=\"color: #008080; text-decoration-color: #008080; font-weight: bold\">880</span> м²\n",
       "</pre>\n"
      ],
      "text/plain": [
       "Title: ОфисыЛинкор880 – \u001b[1;36m1\u001b[0m \u001b[1;36m096\u001b[0m м² от \u001b[1;36m1\u001b[0m \u001b[1;36m760\u001b[0m \u001b[1;36m000\u001b[0m ₽\u001b[35m/\u001b[0m\u001b[95mмес.Видовые\u001b[0m офисы от \u001b[1;36m880\u001b[0m м²\n"
      ]
     },
     "metadata": {},
     "output_type": "display_data"
    },
    {
     "data": {
      "text/html": [
       "<pre style=\"white-space:pre;overflow-x:auto;line-height:normal;font-family:Menlo,'DejaVu Sans Mono',consolas,'Courier New',monospace\">Address: Санкт-Петербург, р-н Петроградский, Посадский, м. Горьковская, Петроградская набережная, 36А\n",
       "</pre>\n"
      ],
      "text/plain": [
       "Address: Санкт-Петербург, р-н Петроградский, Посадский, м. Горьковская, Петроградская набережная, 36А\n"
      ]
     },
     "metadata": {},
     "output_type": "display_data"
    },
    {
     "data": {
      "text/html": [
       "<pre style=\"white-space:pre;overflow-x:auto;line-height:normal;font-family:Menlo,'DejaVu Sans Mono',consolas,'Courier New',monospace\">url <span style=\"color: #0000ff; text-decoration-color: #0000ff; text-decoration: underline\">https://spb.cian.ru/rent/commercial/275413393/</span>\n",
       "</pre>\n"
      ],
      "text/plain": [
       "url \u001b[4;94mhttps://spb.cian.ru/rent/commercial/275413393/\u001b[0m\n"
      ]
     },
     "metadata": {},
     "output_type": "display_data"
    },
    {
     "data": {
      "text/html": [
       "<pre style=\"white-space:pre;overflow-x:auto;line-height:normal;font-family:Menlo,'DejaVu Sans Mono',consolas,'Courier New',monospace\">price <span style=\"color: #008080; text-decoration-color: #008080; font-weight: bold\">1</span> <span style=\"color: #008080; text-decoration-color: #008080; font-weight: bold\">760</span> <span style=\"color: #008080; text-decoration-color: #008080; font-weight: bold\">000</span> ₽<span style=\"color: #800080; text-decoration-color: #800080\">/</span><span style=\"color: #ff00ff; text-decoration-color: #ff00ff\">мес.Видовые</span> офисы от <span style=\"color: #008080; text-decoration-color: #008080; font-weight: bold\">880</span> м²\n",
       "</pre>\n"
      ],
      "text/plain": [
       "price \u001b[1;36m1\u001b[0m \u001b[1;36m760\u001b[0m \u001b[1;36m000\u001b[0m ₽\u001b[35m/\u001b[0m\u001b[95mмес.Видовые\u001b[0m офисы от \u001b[1;36m880\u001b[0m м²\n"
      ]
     },
     "metadata": {},
     "output_type": "display_data"
    },
    {
     "data": {
      "text/html": [
       "<pre style=\"white-space:pre;overflow-x:auto;line-height:normal;font-family:Menlo,'DejaVu Sans Mono',consolas,'Courier New',monospace\">------------\n",
       "</pre>\n"
      ],
      "text/plain": [
       "------------\n"
      ]
     },
     "metadata": {},
     "output_type": "display_data"
    },
    {
     "data": {
      "text/html": [
       "<pre style=\"white-space:pre;overflow-x:auto;line-height:normal;font-family:Menlo,'DejaVu Sans Mono',consolas,'Courier New',monospace\">Title: ОфисыФландрия Плаза Корпус А630 – <span style=\"color: #008080; text-decoration-color: #008080; font-weight: bold\">1</span> <span style=\"color: #008080; text-decoration-color: #008080; font-weight: bold\">890</span> м² от <span style=\"color: #008080; text-decoration-color: #008080; font-weight: bold\">1</span> <span style=\"color: #008080; text-decoration-color: #008080; font-weight: bold\">606</span> <span style=\"color: #008080; text-decoration-color: #008080; font-weight: bold\">500</span> ₽<span style=\"color: #800080; text-decoration-color: #800080\">/</span><span style=\"color: #ff00ff; text-decoration-color: #ff00ff\">мес.Новый</span> ремонт, этажи целиком\n",
       "</pre>\n"
      ],
      "text/plain": [
       "Title: ОфисыФландрия Плаза Корпус А630 – \u001b[1;36m1\u001b[0m \u001b[1;36m890\u001b[0m м² от \u001b[1;36m1\u001b[0m \u001b[1;36m606\u001b[0m \u001b[1;36m500\u001b[0m ₽\u001b[35m/\u001b[0m\u001b[95mмес.Новый\u001b[0m ремонт, этажи целиком\n"
      ]
     },
     "metadata": {},
     "output_type": "display_data"
    },
    {
     "data": {
      "text/html": [
       "<pre style=\"white-space:pre;overflow-x:auto;line-height:normal;font-family:Menlo,'DejaVu Sans Mono',consolas,'Courier New',monospace\">Address: Санкт-Петербург, р-н Московский, Московская застава, м. Московские ворота, Ташкентская улица, 3к3А\n",
       "</pre>\n"
      ],
      "text/plain": [
       "Address: Санкт-Петербург, р-н Московский, Московская застава, м. Московские ворота, Ташкентская улица, 3к3А\n"
      ]
     },
     "metadata": {},
     "output_type": "display_data"
    },
    {
     "data": {
      "text/html": [
       "<pre style=\"white-space:pre;overflow-x:auto;line-height:normal;font-family:Menlo,'DejaVu Sans Mono',consolas,'Courier New',monospace\">url <span style=\"color: #0000ff; text-decoration-color: #0000ff; text-decoration: underline\">https://spb.cian.ru/rent/commercial/268343431/</span>\n",
       "</pre>\n"
      ],
      "text/plain": [
       "url \u001b[4;94mhttps://spb.cian.ru/rent/commercial/268343431/\u001b[0m\n"
      ]
     },
     "metadata": {},
     "output_type": "display_data"
    },
    {
     "data": {
      "text/html": [
       "<pre style=\"white-space:pre;overflow-x:auto;line-height:normal;font-family:Menlo,'DejaVu Sans Mono',consolas,'Courier New',monospace\">price <span style=\"color: #008080; text-decoration-color: #008080; font-weight: bold\">1</span> <span style=\"color: #008080; text-decoration-color: #008080; font-weight: bold\">606</span> <span style=\"color: #008080; text-decoration-color: #008080; font-weight: bold\">500</span> ₽<span style=\"color: #800080; text-decoration-color: #800080\">/</span><span style=\"color: #ff00ff; text-decoration-color: #ff00ff\">мес.Новый</span> ремонт, этажи целиком\n",
       "</pre>\n"
      ],
      "text/plain": [
       "price \u001b[1;36m1\u001b[0m \u001b[1;36m606\u001b[0m \u001b[1;36m500\u001b[0m ₽\u001b[35m/\u001b[0m\u001b[95mмес.Новый\u001b[0m ремонт, этажи целиком\n"
      ]
     },
     "metadata": {},
     "output_type": "display_data"
    },
    {
     "data": {
      "text/html": [
       "<pre style=\"white-space:pre;overflow-x:auto;line-height:normal;font-family:Menlo,'DejaVu Sans Mono',consolas,'Courier New',monospace\">------------\n",
       "</pre>\n"
      ],
      "text/plain": [
       "------------\n"
      ]
     },
     "metadata": {},
     "output_type": "display_data"
    },
    {
     "data": {
      "text/html": [
       "<pre style=\"white-space:pre;overflow-x:auto;line-height:normal;font-family:Menlo,'DejaVu Sans Mono',consolas,'Courier New',monospace\">Title: Open space с новым ремонтомОфис <span style=\"color: #008080; text-decoration-color: #008080; font-weight: bold\">542</span> м² за <span style=\"color: #008080; text-decoration-color: #008080; font-weight: bold\">1</span> <span style=\"color: #008080; text-decoration-color: #008080; font-weight: bold\">192</span> <span style=\"color: #008080; text-decoration-color: #008080; font-weight: bold\">400</span> руб.<span style=\"color: #800080; text-decoration-color: #800080\">/</span><span style=\"color: #ff00ff; text-decoration-color: #ff00ff\">мес.</span> Класс A\n",
       "</pre>\n"
      ],
      "text/plain": [
       "Title: Open space с новым ремонтомОфис \u001b[1;36m542\u001b[0m м² за \u001b[1;36m1\u001b[0m \u001b[1;36m192\u001b[0m \u001b[1;36m400\u001b[0m руб.\u001b[35m/\u001b[0m\u001b[95mмес.\u001b[0m Класс A\n"
      ]
     },
     "metadata": {},
     "output_type": "display_data"
    },
    {
     "data": {
      "text/html": [
       "<pre style=\"white-space:pre;overflow-x:auto;line-height:normal;font-family:Menlo,'DejaVu Sans Mono',consolas,'Courier New',monospace\">Address: Санкт-Петербург, р-н Московский, Московская застава, м. Московские ворота, Московский проспект, 120Ас1\n",
       "</pre>\n"
      ],
      "text/plain": [
       "Address: Санкт-Петербург, р-н Московский, Московская застава, м. Московские ворота, Московский проспект, 120Ас1\n"
      ]
     },
     "metadata": {},
     "output_type": "display_data"
    },
    {
     "data": {
      "text/html": [
       "<pre style=\"white-space:pre;overflow-x:auto;line-height:normal;font-family:Menlo,'DejaVu Sans Mono',consolas,'Courier New',monospace\">url <span style=\"color: #0000ff; text-decoration-color: #0000ff; text-decoration: underline\">https://spb.cian.ru/rent/commercial/303918370/</span>\n",
       "</pre>\n"
      ],
      "text/plain": [
       "url \u001b[4;94mhttps://spb.cian.ru/rent/commercial/303918370/\u001b[0m\n"
      ]
     },
     "metadata": {},
     "output_type": "display_data"
    },
    {
     "data": {
      "text/html": [
       "<pre style=\"white-space:pre;overflow-x:auto;line-height:normal;font-family:Menlo,'DejaVu Sans Mono',consolas,'Courier New',monospace\">price <span style=\"color: #008080; text-decoration-color: #008080; font-weight: bold\">1</span> <span style=\"color: #008080; text-decoration-color: #008080; font-weight: bold\">192</span> <span style=\"color: #008080; text-decoration-color: #008080; font-weight: bold\">400</span> руб.<span style=\"color: #800080; text-decoration-color: #800080\">/</span><span style=\"color: #ff00ff; text-decoration-color: #ff00ff\">мес.</span> Класс A\n",
       "</pre>\n"
      ],
      "text/plain": [
       "price \u001b[1;36m1\u001b[0m \u001b[1;36m192\u001b[0m \u001b[1;36m400\u001b[0m руб.\u001b[35m/\u001b[0m\u001b[95mмес.\u001b[0m Класс A\n"
      ]
     },
     "metadata": {},
     "output_type": "display_data"
    },
    {
     "data": {
      "text/html": [
       "<pre style=\"white-space:pre;overflow-x:auto;line-height:normal;font-family:Menlo,'DejaVu Sans Mono',consolas,'Courier New',monospace\">------------\n",
       "</pre>\n"
      ],
      "text/plain": [
       "------------\n"
      ]
     },
     "metadata": {},
     "output_type": "display_data"
    },
    {
     "data": {
      "text/html": [
       "<pre style=\"white-space:pre;overflow-x:auto;line-height:normal;font-family:Menlo,'DejaVu Sans Mono',consolas,'Courier New',monospace\">Title: Дизайнерский офис у ДворцовойОфис <span style=\"color: #008080; text-decoration-color: #008080; font-weight: bold\">500</span> м² за <span style=\"color: #008080; text-decoration-color: #008080; font-weight: bold\">1</span> <span style=\"color: #008080; text-decoration-color: #008080; font-weight: bold\">000</span> <span style=\"color: #008080; text-decoration-color: #008080; font-weight: bold\">000</span> руб.<span style=\"color: #800080; text-decoration-color: #800080\">/</span><span style=\"color: #ff00ff; text-decoration-color: #ff00ff\">мес.</span> Класс B\n",
       "</pre>\n"
      ],
      "text/plain": [
       "Title: Дизайнерский офис у ДворцовойОфис \u001b[1;36m500\u001b[0m м² за \u001b[1;36m1\u001b[0m \u001b[1;36m000\u001b[0m \u001b[1;36m000\u001b[0m руб.\u001b[35m/\u001b[0m\u001b[95mмес.\u001b[0m Класс B\n"
      ]
     },
     "metadata": {},
     "output_type": "display_data"
    },
    {
     "data": {
      "text/html": [
       "<pre style=\"white-space:pre;overflow-x:auto;line-height:normal;font-family:Menlo,'DejaVu Sans Mono',consolas,'Courier New',monospace\">Address: Санкт-Петербург, р-н Центральный, Дворцовый, м. Адмиралтейская, Большая Морская улица, <span style=\"color: #008080; text-decoration-color: #008080; font-weight: bold\">3</span>-<span style=\"color: #008080; text-decoration-color: #008080; font-weight: bold\">5</span>\n",
       "</pre>\n"
      ],
      "text/plain": [
       "Address: Санкт-Петербург, р-н Центральный, Дворцовый, м. Адмиралтейская, Большая Морская улица, \u001b[1;36m3\u001b[0m-\u001b[1;36m5\u001b[0m\n"
      ]
     },
     "metadata": {},
     "output_type": "display_data"
    },
    {
     "data": {
      "text/html": [
       "<pre style=\"white-space:pre;overflow-x:auto;line-height:normal;font-family:Menlo,'DejaVu Sans Mono',consolas,'Courier New',monospace\">url <span style=\"color: #0000ff; text-decoration-color: #0000ff; text-decoration: underline\">https://spb.cian.ru/rent/commercial/306594727/</span>\n",
       "</pre>\n"
      ],
      "text/plain": [
       "url \u001b[4;94mhttps://spb.cian.ru/rent/commercial/306594727/\u001b[0m\n"
      ]
     },
     "metadata": {},
     "output_type": "display_data"
    },
    {
     "data": {
      "text/html": [
       "<pre style=\"white-space:pre;overflow-x:auto;line-height:normal;font-family:Menlo,'DejaVu Sans Mono',consolas,'Courier New',monospace\">price <span style=\"color: #008080; text-decoration-color: #008080; font-weight: bold\">1</span> <span style=\"color: #008080; text-decoration-color: #008080; font-weight: bold\">000</span> <span style=\"color: #008080; text-decoration-color: #008080; font-weight: bold\">000</span> руб.<span style=\"color: #800080; text-decoration-color: #800080\">/</span><span style=\"color: #ff00ff; text-decoration-color: #ff00ff\">мес.</span> Класс B\n",
       "</pre>\n"
      ],
      "text/plain": [
       "price \u001b[1;36m1\u001b[0m \u001b[1;36m000\u001b[0m \u001b[1;36m000\u001b[0m руб.\u001b[35m/\u001b[0m\u001b[95mмес.\u001b[0m Класс B\n"
      ]
     },
     "metadata": {},
     "output_type": "display_data"
    },
    {
     "data": {
      "text/html": [
       "<pre style=\"white-space:pre;overflow-x:auto;line-height:normal;font-family:Menlo,'DejaVu Sans Mono',consolas,'Courier New',monospace\">------------\n",
       "</pre>\n"
      ],
      "text/plain": [
       "------------\n"
      ]
     },
     "metadata": {},
     "output_type": "display_data"
    },
    {
     "data": {
      "text/html": [
       "<pre style=\"white-space:pre;overflow-x:auto;line-height:normal;font-family:Menlo,'DejaVu Sans Mono',consolas,'Courier New',monospace\">Title: Есть серверная, рядом <span style=\"color: #008080; text-decoration-color: #008080; font-weight: bold\">5</span> ст. метроОфис <span style=\"color: #008080; text-decoration-color: #008080; font-weight: bold\">390</span> м² за <span style=\"color: #008080; text-decoration-color: #008080; font-weight: bold\">487</span> <span style=\"color: #008080; text-decoration-color: #008080; font-weight: bold\">500</span> руб.<span style=\"color: #800080; text-decoration-color: #800080\">/</span><span style=\"color: #ff00ff; text-decoration-color: #ff00ff\">мес.</span> Класс B\n",
       "</pre>\n"
      ],
      "text/plain": [
       "Title: Есть серверная, рядом \u001b[1;36m5\u001b[0m ст. метроОфис \u001b[1;36m390\u001b[0m м² за \u001b[1;36m487\u001b[0m \u001b[1;36m500\u001b[0m руб.\u001b[35m/\u001b[0m\u001b[95mмес.\u001b[0m Класс B\n"
      ]
     },
     "metadata": {},
     "output_type": "display_data"
    },
    {
     "data": {
      "text/html": [
       "<pre style=\"white-space:pre;overflow-x:auto;line-height:normal;font-family:Menlo,'DejaVu Sans Mono',consolas,'Courier New',monospace\">Address: Санкт-Петербург, р-н Центральный, Владимирский, м. Лиговский проспект, улица Марата, <span style=\"color: #008080; text-decoration-color: #008080; font-weight: bold\">51</span>\n",
       "</pre>\n"
      ],
      "text/plain": [
       "Address: Санкт-Петербург, р-н Центральный, Владимирский, м. Лиговский проспект, улица Марата, \u001b[1;36m51\u001b[0m\n"
      ]
     },
     "metadata": {},
     "output_type": "display_data"
    },
    {
     "data": {
      "text/html": [
       "<pre style=\"white-space:pre;overflow-x:auto;line-height:normal;font-family:Menlo,'DejaVu Sans Mono',consolas,'Courier New',monospace\">url <span style=\"color: #0000ff; text-decoration-color: #0000ff; text-decoration: underline\">https://spb.cian.ru/rent/commercial/307268186/</span>\n",
       "</pre>\n"
      ],
      "text/plain": [
       "url \u001b[4;94mhttps://spb.cian.ru/rent/commercial/307268186/\u001b[0m\n"
      ]
     },
     "metadata": {},
     "output_type": "display_data"
    },
    {
     "data": {
      "text/html": [
       "<pre style=\"white-space:pre;overflow-x:auto;line-height:normal;font-family:Menlo,'DejaVu Sans Mono',consolas,'Courier New',monospace\">price <span style=\"color: #008080; text-decoration-color: #008080; font-weight: bold\">487</span> <span style=\"color: #008080; text-decoration-color: #008080; font-weight: bold\">500</span> руб.<span style=\"color: #800080; text-decoration-color: #800080\">/</span><span style=\"color: #ff00ff; text-decoration-color: #ff00ff\">мес.</span> Класс B\n",
       "</pre>\n"
      ],
      "text/plain": [
       "price \u001b[1;36m487\u001b[0m \u001b[1;36m500\u001b[0m руб.\u001b[35m/\u001b[0m\u001b[95mмес.\u001b[0m Класс B\n"
      ]
     },
     "metadata": {},
     "output_type": "display_data"
    },
    {
     "data": {
      "text/html": [
       "<pre style=\"white-space:pre;overflow-x:auto;line-height:normal;font-family:Menlo,'DejaVu Sans Mono',consolas,'Courier New',monospace\">------------\n",
       "</pre>\n"
      ],
      "text/plain": [
       "------------\n"
      ]
     },
     "metadata": {},
     "output_type": "display_data"
    },
    {
     "data": {
      "text/html": [
       "<pre style=\"white-space:pre;overflow-x:auto;line-height:normal;font-family:Menlo,'DejaVu Sans Mono',consolas,'Courier New',monospace\">Title: Офисное помещение <span style=\"color: #008080; text-decoration-color: #008080; font-weight: bold\">61</span>,<span style=\"color: #008080; text-decoration-color: #008080; font-weight: bold\">8</span> м2Офис <span style=\"color: #008080; text-decoration-color: #008080; font-weight: bold\">61</span>,<span style=\"color: #008080; text-decoration-color: #008080; font-weight: bold\">8</span> м² за <span style=\"color: #008080; text-decoration-color: #008080; font-weight: bold\">80</span> <span style=\"color: #008080; text-decoration-color: #008080; font-weight: bold\">340</span> руб.<span style=\"color: #800080; text-decoration-color: #800080\">/</span><span style=\"color: #ff00ff; text-decoration-color: #ff00ff\">мес.</span> \n",
       "</pre>\n"
      ],
      "text/plain": [
       "Title: Офисное помещение \u001b[1;36m61\u001b[0m,\u001b[1;36m8\u001b[0m м2Офис \u001b[1;36m61\u001b[0m,\u001b[1;36m8\u001b[0m м² за \u001b[1;36m80\u001b[0m \u001b[1;36m340\u001b[0m руб.\u001b[35m/\u001b[0m\u001b[95mмес.\u001b[0m \n"
      ]
     },
     "metadata": {},
     "output_type": "display_data"
    },
    {
     "data": {
      "text/html": [
       "<pre style=\"white-space:pre;overflow-x:auto;line-height:normal;font-family:Menlo,'DejaVu Sans Mono',consolas,'Courier New',monospace\">Address: Санкт-Петербург, р-н Петроградский, Посадский, м. Горьковская, площадь Троицкая Петроградской стороны, <span style=\"color: #008080; text-decoration-color: #008080; font-weight: bold\">1</span>\n",
       "</pre>\n"
      ],
      "text/plain": [
       "Address: Санкт-Петербург, р-н Петроградский, Посадский, м. Горьковская, площадь Троицкая Петроградской стороны, \u001b[1;36m1\u001b[0m\n"
      ]
     },
     "metadata": {},
     "output_type": "display_data"
    },
    {
     "data": {
      "text/html": [
       "<pre style=\"white-space:pre;overflow-x:auto;line-height:normal;font-family:Menlo,'DejaVu Sans Mono',consolas,'Courier New',monospace\">url <span style=\"color: #0000ff; text-decoration-color: #0000ff; text-decoration: underline\">https://spb.cian.ru/rent/commercial/305945758/</span>\n",
       "</pre>\n"
      ],
      "text/plain": [
       "url \u001b[4;94mhttps://spb.cian.ru/rent/commercial/305945758/\u001b[0m\n"
      ]
     },
     "metadata": {},
     "output_type": "display_data"
    },
    {
     "data": {
      "text/html": [
       "<pre style=\"white-space:pre;overflow-x:auto;line-height:normal;font-family:Menlo,'DejaVu Sans Mono',consolas,'Courier New',monospace\">price <span style=\"color: #008080; text-decoration-color: #008080; font-weight: bold\">80</span> <span style=\"color: #008080; text-decoration-color: #008080; font-weight: bold\">340</span> руб.<span style=\"color: #800080; text-decoration-color: #800080\">/</span><span style=\"color: #ff00ff; text-decoration-color: #ff00ff\">мес.</span> \n",
       "</pre>\n"
      ],
      "text/plain": [
       "price \u001b[1;36m80\u001b[0m \u001b[1;36m340\u001b[0m руб.\u001b[35m/\u001b[0m\u001b[95mмес.\u001b[0m \n"
      ]
     },
     "metadata": {},
     "output_type": "display_data"
    },
    {
     "data": {
      "text/html": [
       "<pre style=\"white-space:pre;overflow-x:auto;line-height:normal;font-family:Menlo,'DejaVu Sans Mono',consolas,'Courier New',monospace\">------------\n",
       "</pre>\n"
      ],
      "text/plain": [
       "------------\n"
      ]
     },
     "metadata": {},
     "output_type": "display_data"
    },
    {
     "data": {
      "text/html": [
       "<pre style=\"white-space:pre;overflow-x:auto;line-height:normal;font-family:Menlo,'DejaVu Sans Mono',consolas,'Courier New',monospace\">Title:  Офис <span style=\"color: #008080; text-decoration-color: #008080; font-weight: bold\">200</span>,<span style=\"color: #008080; text-decoration-color: #008080; font-weight: bold\">2</span> м² за <span style=\"color: #008080; text-decoration-color: #008080; font-weight: bold\">340</span> <span style=\"color: #008080; text-decoration-color: #008080; font-weight: bold\">340</span> руб.<span style=\"color: #800080; text-decoration-color: #800080\">/</span><span style=\"color: #ff00ff; text-decoration-color: #ff00ff\">мес.Класс</span> A\n",
       "</pre>\n"
      ],
      "text/plain": [
       "Title:  Офис \u001b[1;36m200\u001b[0m,\u001b[1;36m2\u001b[0m м² за \u001b[1;36m340\u001b[0m \u001b[1;36m340\u001b[0m руб.\u001b[35m/\u001b[0m\u001b[95mмес.Класс\u001b[0m A\n"
      ]
     },
     "metadata": {},
     "output_type": "display_data"
    },
    {
     "data": {
      "text/html": [
       "<pre style=\"white-space:pre;overflow-x:auto;line-height:normal;font-family:Menlo,'DejaVu Sans Mono',consolas,'Courier New',monospace\">Address: Санкт-Петербург, р-н Центральный, Литейный, м. Чернышевская, улица Чайковского, 1к2\n",
       "</pre>\n"
      ],
      "text/plain": [
       "Address: Санкт-Петербург, р-н Центральный, Литейный, м. Чернышевская, улица Чайковского, 1к2\n"
      ]
     },
     "metadata": {},
     "output_type": "display_data"
    },
    {
     "data": {
      "text/html": [
       "<pre style=\"white-space:pre;overflow-x:auto;line-height:normal;font-family:Menlo,'DejaVu Sans Mono',consolas,'Courier New',monospace\">url <span style=\"color: #0000ff; text-decoration-color: #0000ff; text-decoration: underline\">https://spb.cian.ru/rent/commercial/296028547/</span>\n",
       "</pre>\n"
      ],
      "text/plain": [
       "url \u001b[4;94mhttps://spb.cian.ru/rent/commercial/296028547/\u001b[0m\n"
      ]
     },
     "metadata": {},
     "output_type": "display_data"
    },
    {
     "data": {
      "text/html": [
       "<pre style=\"white-space:pre;overflow-x:auto;line-height:normal;font-family:Menlo,'DejaVu Sans Mono',consolas,'Courier New',monospace\">price <span style=\"color: #008080; text-decoration-color: #008080; font-weight: bold\">340</span> <span style=\"color: #008080; text-decoration-color: #008080; font-weight: bold\">340</span> руб.<span style=\"color: #800080; text-decoration-color: #800080\">/</span><span style=\"color: #ff00ff; text-decoration-color: #ff00ff\">мес.Класс</span> A\n",
       "</pre>\n"
      ],
      "text/plain": [
       "price \u001b[1;36m340\u001b[0m \u001b[1;36m340\u001b[0m руб.\u001b[35m/\u001b[0m\u001b[95mмес.Класс\u001b[0m A\n"
      ]
     },
     "metadata": {},
     "output_type": "display_data"
    },
    {
     "data": {
      "text/html": [
       "<pre style=\"white-space:pre;overflow-x:auto;line-height:normal;font-family:Menlo,'DejaVu Sans Mono',consolas,'Courier New',monospace\">------------\n",
       "</pre>\n"
      ],
      "text/plain": [
       "------------\n"
      ]
     },
     "metadata": {},
     "output_type": "display_data"
    },
    {
     "data": {
      "text/html": [
       "<pre style=\"white-space:pre;overflow-x:auto;line-height:normal;font-family:Menlo,'DejaVu Sans Mono',consolas,'Courier New',monospace\">Title:  Офис <span style=\"color: #008080; text-decoration-color: #008080; font-weight: bold\">492</span>,<span style=\"color: #008080; text-decoration-color: #008080; font-weight: bold\">1</span> м² за <span style=\"color: #008080; text-decoration-color: #008080; font-weight: bold\">885</span> <span style=\"color: #008080; text-decoration-color: #008080; font-weight: bold\">780</span> руб.<span style=\"color: #800080; text-decoration-color: #800080\">/</span><span style=\"color: #ff00ff; text-decoration-color: #ff00ff\">мес.</span>\n",
       "</pre>\n"
      ],
      "text/plain": [
       "Title:  Офис \u001b[1;36m492\u001b[0m,\u001b[1;36m1\u001b[0m м² за \u001b[1;36m885\u001b[0m \u001b[1;36m780\u001b[0m руб.\u001b[35m/\u001b[0m\u001b[95mмес.\u001b[0m\n"
      ]
     },
     "metadata": {},
     "output_type": "display_data"
    },
    {
     "data": {
      "text/html": [
       "<pre style=\"white-space:pre;overflow-x:auto;line-height:normal;font-family:Menlo,'DejaVu Sans Mono',consolas,'Courier New',monospace\">Address: Санкт-Петербург, р-н Фрунзенский, Волковское, м. Обводный канал, набережная Обводного Канала, <span style=\"color: #008080; text-decoration-color: #008080; font-weight: bold\">60</span>\n",
       "</pre>\n"
      ],
      "text/plain": [
       "Address: Санкт-Петербург, р-н Фрунзенский, Волковское, м. Обводный канал, набережная Обводного Канала, \u001b[1;36m60\u001b[0m\n"
      ]
     },
     "metadata": {},
     "output_type": "display_data"
    },
    {
     "data": {
      "text/html": [
       "<pre style=\"white-space:pre;overflow-x:auto;line-height:normal;font-family:Menlo,'DejaVu Sans Mono',consolas,'Courier New',monospace\">url <span style=\"color: #0000ff; text-decoration-color: #0000ff; text-decoration: underline\">https://spb.cian.ru/rent/commercial/299331567/</span>\n",
       "</pre>\n"
      ],
      "text/plain": [
       "url \u001b[4;94mhttps://spb.cian.ru/rent/commercial/299331567/\u001b[0m\n"
      ]
     },
     "metadata": {},
     "output_type": "display_data"
    },
    {
     "data": {
      "text/html": [
       "<pre style=\"white-space:pre;overflow-x:auto;line-height:normal;font-family:Menlo,'DejaVu Sans Mono',consolas,'Courier New',monospace\">price <span style=\"color: #008080; text-decoration-color: #008080; font-weight: bold\">885</span> <span style=\"color: #008080; text-decoration-color: #008080; font-weight: bold\">780</span> руб.<span style=\"color: #800080; text-decoration-color: #800080\">/</span><span style=\"color: #ff00ff; text-decoration-color: #ff00ff\">мес.</span>\n",
       "</pre>\n"
      ],
      "text/plain": [
       "price \u001b[1;36m885\u001b[0m \u001b[1;36m780\u001b[0m руб.\u001b[35m/\u001b[0m\u001b[95mмес.\u001b[0m\n"
      ]
     },
     "metadata": {},
     "output_type": "display_data"
    },
    {
     "data": {
      "text/html": [
       "<pre style=\"white-space:pre;overflow-x:auto;line-height:normal;font-family:Menlo,'DejaVu Sans Mono',consolas,'Courier New',monospace\">------------\n",
       "</pre>\n"
      ],
      "text/plain": [
       "------------\n"
      ]
     },
     "metadata": {},
     "output_type": "display_data"
    },
    {
     "data": {
      "text/html": [
       "<pre style=\"white-space:pre;overflow-x:auto;line-height:normal;font-family:Menlo,'DejaVu Sans Mono',consolas,'Courier New',monospace\">Title: Склад <span style=\"color: #008080; text-decoration-color: #008080; font-weight: bold\">144</span>,<span style=\"color: #008080; text-decoration-color: #008080; font-weight: bold\">5</span> на ЛермонтовскомСклад <span style=\"color: #008080; text-decoration-color: #008080; font-weight: bold\">144</span>,<span style=\"color: #008080; text-decoration-color: #008080; font-weight: bold\">5</span> м² за <span style=\"color: #008080; text-decoration-color: #008080; font-weight: bold\">57</span> <span style=\"color: #008080; text-decoration-color: #008080; font-weight: bold\">800</span> руб.<span style=\"color: #800080; text-decoration-color: #800080\">/</span><span style=\"color: #ff00ff; text-decoration-color: #ff00ff\">мес.</span> \n",
       "</pre>\n"
      ],
      "text/plain": [
       "Title: Склад \u001b[1;36m144\u001b[0m,\u001b[1;36m5\u001b[0m на ЛермонтовскомСклад \u001b[1;36m144\u001b[0m,\u001b[1;36m5\u001b[0m м² за \u001b[1;36m57\u001b[0m \u001b[1;36m800\u001b[0m руб.\u001b[35m/\u001b[0m\u001b[95mмес.\u001b[0m \n"
      ]
     },
     "metadata": {},
     "output_type": "display_data"
    },
    {
     "data": {
      "text/html": [
       "<pre style=\"white-space:pre;overflow-x:auto;line-height:normal;font-family:Menlo,'DejaVu Sans Mono',consolas,'Courier New',monospace\">Address: Санкт-Петербург, р-н Адмиралтейский, Коломна, м. Садовая, Лермонтовский проспект, 7а\n",
       "</pre>\n"
      ],
      "text/plain": [
       "Address: Санкт-Петербург, р-н Адмиралтейский, Коломна, м. Садовая, Лермонтовский проспект, 7а\n"
      ]
     },
     "metadata": {},
     "output_type": "display_data"
    },
    {
     "data": {
      "text/html": [
       "<pre style=\"white-space:pre;overflow-x:auto;line-height:normal;font-family:Menlo,'DejaVu Sans Mono',consolas,'Courier New',monospace\">url <span style=\"color: #0000ff; text-decoration-color: #0000ff; text-decoration: underline\">https://spb.cian.ru/rent/commercial/262709840/</span>\n",
       "</pre>\n"
      ],
      "text/plain": [
       "url \u001b[4;94mhttps://spb.cian.ru/rent/commercial/262709840/\u001b[0m\n"
      ]
     },
     "metadata": {},
     "output_type": "display_data"
    },
    {
     "data": {
      "text/html": [
       "<pre style=\"white-space:pre;overflow-x:auto;line-height:normal;font-family:Menlo,'DejaVu Sans Mono',consolas,'Courier New',monospace\">price <span style=\"color: #008080; text-decoration-color: #008080; font-weight: bold\">57</span> <span style=\"color: #008080; text-decoration-color: #008080; font-weight: bold\">800</span> руб.<span style=\"color: #800080; text-decoration-color: #800080\">/</span><span style=\"color: #ff00ff; text-decoration-color: #ff00ff\">мес.</span> \n",
       "</pre>\n"
      ],
      "text/plain": [
       "price \u001b[1;36m57\u001b[0m \u001b[1;36m800\u001b[0m руб.\u001b[35m/\u001b[0m\u001b[95mмес.\u001b[0m \n"
      ]
     },
     "metadata": {},
     "output_type": "display_data"
    },
    {
     "data": {
      "text/html": [
       "<pre style=\"white-space:pre;overflow-x:auto;line-height:normal;font-family:Menlo,'DejaVu Sans Mono',consolas,'Courier New',monospace\">------------\n",
       "</pre>\n"
      ],
      "text/plain": [
       "------------\n"
      ]
     },
     "metadata": {},
     "output_type": "display_data"
    },
    {
     "data": {
      "text/html": [
       "<pre style=\"white-space:pre;overflow-x:auto;line-height:normal;font-family:Menlo,'DejaVu Sans Mono',consolas,'Courier New',monospace\">Title: Офис <span style=\"color: #008080; text-decoration-color: #008080; font-weight: bold\">44</span>,<span style=\"color: #008080; text-decoration-color: #008080; font-weight: bold\">9</span> на СадовойОфис <span style=\"color: #008080; text-decoration-color: #008080; font-weight: bold\">44</span>,<span style=\"color: #008080; text-decoration-color: #008080; font-weight: bold\">9</span> м² за <span style=\"color: #008080; text-decoration-color: #008080; font-weight: bold\">42</span> <span style=\"color: #008080; text-decoration-color: #008080; font-weight: bold\">655</span> руб.<span style=\"color: #800080; text-decoration-color: #800080\">/</span><span style=\"color: #ff00ff; text-decoration-color: #ff00ff\">мес.</span> \n",
       "</pre>\n"
      ],
      "text/plain": [
       "Title: Офис \u001b[1;36m44\u001b[0m,\u001b[1;36m9\u001b[0m на СадовойОфис \u001b[1;36m44\u001b[0m,\u001b[1;36m9\u001b[0m м² за \u001b[1;36m42\u001b[0m \u001b[1;36m655\u001b[0m руб.\u001b[35m/\u001b[0m\u001b[95mмес.\u001b[0m \n"
      ]
     },
     "metadata": {},
     "output_type": "display_data"
    },
    {
     "data": {
      "text/html": [
       "<pre style=\"white-space:pre;overflow-x:auto;line-height:normal;font-family:Menlo,'DejaVu Sans Mono',consolas,'Courier New',monospace\">Address: Санкт-Петербург, р-н Адмиралтейский, Коломна, м. Садовая, Лермонтовский проспект, 7а\n",
       "</pre>\n"
      ],
      "text/plain": [
       "Address: Санкт-Петербург, р-н Адмиралтейский, Коломна, м. Садовая, Лермонтовский проспект, 7а\n"
      ]
     },
     "metadata": {},
     "output_type": "display_data"
    },
    {
     "data": {
      "text/html": [
       "<pre style=\"white-space:pre;overflow-x:auto;line-height:normal;font-family:Menlo,'DejaVu Sans Mono',consolas,'Courier New',monospace\">url <span style=\"color: #0000ff; text-decoration-color: #0000ff; text-decoration: underline\">https://spb.cian.ru/rent/commercial/303810803/</span>\n",
       "</pre>\n"
      ],
      "text/plain": [
       "url \u001b[4;94mhttps://spb.cian.ru/rent/commercial/303810803/\u001b[0m\n"
      ]
     },
     "metadata": {},
     "output_type": "display_data"
    },
    {
     "data": {
      "text/html": [
       "<pre style=\"white-space:pre;overflow-x:auto;line-height:normal;font-family:Menlo,'DejaVu Sans Mono',consolas,'Courier New',monospace\">price <span style=\"color: #008080; text-decoration-color: #008080; font-weight: bold\">42</span> <span style=\"color: #008080; text-decoration-color: #008080; font-weight: bold\">655</span> руб.<span style=\"color: #800080; text-decoration-color: #800080\">/</span><span style=\"color: #ff00ff; text-decoration-color: #ff00ff\">мес.</span> \n",
       "</pre>\n"
      ],
      "text/plain": [
       "price \u001b[1;36m42\u001b[0m \u001b[1;36m655\u001b[0m руб.\u001b[35m/\u001b[0m\u001b[95mмес.\u001b[0m \n"
      ]
     },
     "metadata": {},
     "output_type": "display_data"
    },
    {
     "data": {
      "text/html": [
       "<pre style=\"white-space:pre;overflow-x:auto;line-height:normal;font-family:Menlo,'DejaVu Sans Mono',consolas,'Courier New',monospace\">------------\n",
       "</pre>\n"
      ],
      "text/plain": [
       "------------\n"
      ]
     },
     "metadata": {},
     "output_type": "display_data"
    },
    {
     "data": {
      "text/html": [
       "<pre style=\"white-space:pre;overflow-x:auto;line-height:normal;font-family:Menlo,'DejaVu Sans Mono',consolas,'Courier New',monospace\">Title:  Офис <span style=\"color: #008080; text-decoration-color: #008080; font-weight: bold\">719</span> м² за <span style=\"color: #008080; text-decoration-color: #008080; font-weight: bold\">1</span> <span style=\"color: #008080; text-decoration-color: #008080; font-weight: bold\">294</span> <span style=\"color: #008080; text-decoration-color: #008080; font-weight: bold\">200</span> руб.<span style=\"color: #800080; text-decoration-color: #800080\">/</span><span style=\"color: #ff00ff; text-decoration-color: #ff00ff\">мес.</span>\n",
       "</pre>\n"
      ],
      "text/plain": [
       "Title:  Офис \u001b[1;36m719\u001b[0m м² за \u001b[1;36m1\u001b[0m \u001b[1;36m294\u001b[0m \u001b[1;36m200\u001b[0m руб.\u001b[35m/\u001b[0m\u001b[95mмес.\u001b[0m\n"
      ]
     },
     "metadata": {},
     "output_type": "display_data"
    },
    {
     "data": {
      "text/html": [
       "<pre style=\"white-space:pre;overflow-x:auto;line-height:normal;font-family:Menlo,'DejaVu Sans Mono',consolas,'Courier New',monospace\">Address: Санкт-Петербург, р-н Василеостровский, № <span style=\"color: #008080; text-decoration-color: #008080; font-weight: bold\">7</span>, м. Василеостровская, <span style=\"color: #008080; text-decoration-color: #008080; font-weight: bold\">18</span>-я Васильевского острова линия, 29литЗ\n",
       "</pre>\n"
      ],
      "text/plain": [
       "Address: Санкт-Петербург, р-н Василеостровский, № \u001b[1;36m7\u001b[0m, м. Василеостровская, \u001b[1;36m18\u001b[0m-я Васильевского острова линия, 29литЗ\n"
      ]
     },
     "metadata": {},
     "output_type": "display_data"
    },
    {
     "data": {
      "text/html": [
       "<pre style=\"white-space:pre;overflow-x:auto;line-height:normal;font-family:Menlo,'DejaVu Sans Mono',consolas,'Courier New',monospace\">url <span style=\"color: #0000ff; text-decoration-color: #0000ff; text-decoration: underline\">https://spb.cian.ru/rent/commercial/302030165/</span>\n",
       "</pre>\n"
      ],
      "text/plain": [
       "url \u001b[4;94mhttps://spb.cian.ru/rent/commercial/302030165/\u001b[0m\n"
      ]
     },
     "metadata": {},
     "output_type": "display_data"
    },
    {
     "data": {
      "text/html": [
       "<pre style=\"white-space:pre;overflow-x:auto;line-height:normal;font-family:Menlo,'DejaVu Sans Mono',consolas,'Courier New',monospace\">price <span style=\"color: #008080; text-decoration-color: #008080; font-weight: bold\">1</span> <span style=\"color: #008080; text-decoration-color: #008080; font-weight: bold\">294</span> <span style=\"color: #008080; text-decoration-color: #008080; font-weight: bold\">200</span> руб.<span style=\"color: #800080; text-decoration-color: #800080\">/</span><span style=\"color: #ff00ff; text-decoration-color: #ff00ff\">мес.</span>\n",
       "</pre>\n"
      ],
      "text/plain": [
       "price \u001b[1;36m1\u001b[0m \u001b[1;36m294\u001b[0m \u001b[1;36m200\u001b[0m руб.\u001b[35m/\u001b[0m\u001b[95mмес.\u001b[0m\n"
      ]
     },
     "metadata": {},
     "output_type": "display_data"
    },
    {
     "data": {
      "text/html": [
       "<pre style=\"white-space:pre;overflow-x:auto;line-height:normal;font-family:Menlo,'DejaVu Sans Mono',consolas,'Courier New',monospace\">------------\n",
       "</pre>\n"
      ],
      "text/plain": [
       "------------\n"
      ]
     },
     "metadata": {},
     "output_type": "display_data"
    },
    {
     "data": {
      "text/html": [
       "<pre style=\"white-space:pre;overflow-x:auto;line-height:normal;font-family:Menlo,'DejaVu Sans Mono',consolas,'Courier New',monospace\">Title: Автодром <span style=\"color: #008080; text-decoration-color: #008080; font-weight: bold\">1400</span> м²Своб. назнач. <span style=\"color: #008080; text-decoration-color: #008080; font-weight: bold\">1</span> <span style=\"color: #008080; text-decoration-color: #008080; font-weight: bold\">400</span> м² за <span style=\"color: #008080; text-decoration-color: #008080; font-weight: bold\">105</span> <span style=\"color: #008080; text-decoration-color: #008080; font-weight: bold\">000</span> руб.<span style=\"color: #800080; text-decoration-color: #800080\">/</span><span style=\"color: #ff00ff; text-decoration-color: #ff00ff\">мес.</span> \n",
       "</pre>\n"
      ],
      "text/plain": [
       "Title: Автодром \u001b[1;36m1400\u001b[0m м²Своб. назнач. \u001b[1;36m1\u001b[0m \u001b[1;36m400\u001b[0m м² за \u001b[1;36m105\u001b[0m \u001b[1;36m000\u001b[0m руб.\u001b[35m/\u001b[0m\u001b[95mмес.\u001b[0m \n"
      ]
     },
     "metadata": {},
     "output_type": "display_data"
    },
    {
     "data": {
      "text/html": [
       "<pre style=\"white-space:pre;overflow-x:auto;line-height:normal;font-family:Menlo,'DejaVu Sans Mono',consolas,'Courier New',monospace\">Address: Санкт-Петербург, р-н Кировский, Автово, м. Кировский завод, улица Возрождения, <span style=\"color: #008080; text-decoration-color: #008080; font-weight: bold\">42</span>\n",
       "</pre>\n"
      ],
      "text/plain": [
       "Address: Санкт-Петербург, р-н Кировский, Автово, м. Кировский завод, улица Возрождения, \u001b[1;36m42\u001b[0m\n"
      ]
     },
     "metadata": {},
     "output_type": "display_data"
    },
    {
     "data": {
      "text/html": [
       "<pre style=\"white-space:pre;overflow-x:auto;line-height:normal;font-family:Menlo,'DejaVu Sans Mono',consolas,'Courier New',monospace\">url <span style=\"color: #0000ff; text-decoration-color: #0000ff; text-decoration: underline\">https://spb.cian.ru/rent/commercial/301157274/</span>\n",
       "</pre>\n"
      ],
      "text/plain": [
       "url \u001b[4;94mhttps://spb.cian.ru/rent/commercial/301157274/\u001b[0m\n"
      ]
     },
     "metadata": {},
     "output_type": "display_data"
    },
    {
     "data": {
      "text/html": [
       "<pre style=\"white-space:pre;overflow-x:auto;line-height:normal;font-family:Menlo,'DejaVu Sans Mono',consolas,'Courier New',monospace\">price . назнач. <span style=\"color: #008080; text-decoration-color: #008080; font-weight: bold\">1</span> <span style=\"color: #008080; text-decoration-color: #008080; font-weight: bold\">400</span> м² за <span style=\"color: #008080; text-decoration-color: #008080; font-weight: bold\">105</span> <span style=\"color: #008080; text-decoration-color: #008080; font-weight: bold\">000</span> руб.<span style=\"color: #800080; text-decoration-color: #800080\">/</span><span style=\"color: #ff00ff; text-decoration-color: #ff00ff\">мес.</span> \n",
       "</pre>\n"
      ],
      "text/plain": [
       "price . назнач. \u001b[1;36m1\u001b[0m \u001b[1;36m400\u001b[0m м² за \u001b[1;36m105\u001b[0m \u001b[1;36m000\u001b[0m руб.\u001b[35m/\u001b[0m\u001b[95mмес.\u001b[0m \n"
      ]
     },
     "metadata": {},
     "output_type": "display_data"
    },
    {
     "data": {
      "text/html": [
       "<pre style=\"white-space:pre;overflow-x:auto;line-height:normal;font-family:Menlo,'DejaVu Sans Mono',consolas,'Courier New',monospace\">------------\n",
       "</pre>\n"
      ],
      "text/plain": [
       "------------\n"
      ]
     },
     "metadata": {},
     "output_type": "display_data"
    },
    {
     "data": {
      "text/html": [
       "<pre style=\"white-space:pre;overflow-x:auto;line-height:normal;font-family:Menlo,'DejaVu Sans Mono',consolas,'Courier New',monospace\">Title:  Офис <span style=\"color: #008080; text-decoration-color: #008080; font-weight: bold\">592</span> м² за <span style=\"color: #008080; text-decoration-color: #008080; font-weight: bold\">1</span> <span style=\"color: #008080; text-decoration-color: #008080; font-weight: bold\">184</span> <span style=\"color: #008080; text-decoration-color: #008080; font-weight: bold\">000</span> руб.<span style=\"color: #800080; text-decoration-color: #800080\">/</span><span style=\"color: #ff00ff; text-decoration-color: #ff00ff\">мес.Класс</span> A\n",
       "</pre>\n"
      ],
      "text/plain": [
       "Title:  Офис \u001b[1;36m592\u001b[0m м² за \u001b[1;36m1\u001b[0m \u001b[1;36m184\u001b[0m \u001b[1;36m000\u001b[0m руб.\u001b[35m/\u001b[0m\u001b[95mмес.Класс\u001b[0m A\n"
      ]
     },
     "metadata": {},
     "output_type": "display_data"
    },
    {
     "data": {
      "text/html": [
       "<pre style=\"white-space:pre;overflow-x:auto;line-height:normal;font-family:Menlo,'DejaVu Sans Mono',consolas,'Courier New',monospace\">Address: Санкт-Петербург, р-н Адмиралтейский, Семёновский, м. Фрунзенская, Московский проспект, <span style=\"color: #008080; text-decoration-color: #008080; font-weight: bold\">60</span>/<span style=\"color: #008080; text-decoration-color: #008080; font-weight: bold\">129</span>\n",
       "</pre>\n"
      ],
      "text/plain": [
       "Address: Санкт-Петербург, р-н Адмиралтейский, Семёновский, м. Фрунзенская, Московский проспект, \u001b[1;36m60\u001b[0m/\u001b[1;36m129\u001b[0m\n"
      ]
     },
     "metadata": {},
     "output_type": "display_data"
    },
    {
     "data": {
      "text/html": [
       "<pre style=\"white-space:pre;overflow-x:auto;line-height:normal;font-family:Menlo,'DejaVu Sans Mono',consolas,'Courier New',monospace\">url <span style=\"color: #0000ff; text-decoration-color: #0000ff; text-decoration: underline\">https://spb.cian.ru/rent/commercial/302030169/</span>\n",
       "</pre>\n"
      ],
      "text/plain": [
       "url \u001b[4;94mhttps://spb.cian.ru/rent/commercial/302030169/\u001b[0m\n"
      ]
     },
     "metadata": {},
     "output_type": "display_data"
    },
    {
     "data": {
      "text/html": [
       "<pre style=\"white-space:pre;overflow-x:auto;line-height:normal;font-family:Menlo,'DejaVu Sans Mono',consolas,'Courier New',monospace\">price <span style=\"color: #008080; text-decoration-color: #008080; font-weight: bold\">1</span> <span style=\"color: #008080; text-decoration-color: #008080; font-weight: bold\">184</span> <span style=\"color: #008080; text-decoration-color: #008080; font-weight: bold\">000</span> руб.<span style=\"color: #800080; text-decoration-color: #800080\">/</span><span style=\"color: #ff00ff; text-decoration-color: #ff00ff\">мес.Класс</span> A\n",
       "</pre>\n"
      ],
      "text/plain": [
       "price \u001b[1;36m1\u001b[0m \u001b[1;36m184\u001b[0m \u001b[1;36m000\u001b[0m руб.\u001b[35m/\u001b[0m\u001b[95mмес.Класс\u001b[0m A\n"
      ]
     },
     "metadata": {},
     "output_type": "display_data"
    },
    {
     "data": {
      "text/html": [
       "<pre style=\"white-space:pre;overflow-x:auto;line-height:normal;font-family:Menlo,'DejaVu Sans Mono',consolas,'Courier New',monospace\">------------\n",
       "</pre>\n"
      ],
      "text/plain": [
       "------------\n"
      ]
     },
     "metadata": {},
     "output_type": "display_data"
    },
    {
     "data": {
      "text/html": [
       "<pre style=\"white-space:pre;overflow-x:auto;line-height:normal;font-family:Menlo,'DejaVu Sans Mono',consolas,'Courier New',monospace\">Title:  Офис <span style=\"color: #008080; text-decoration-color: #008080; font-weight: bold\">691</span>,<span style=\"color: #008080; text-decoration-color: #008080; font-weight: bold\">3</span> м² за <span style=\"color: #008080; text-decoration-color: #008080; font-weight: bold\">1</span> <span style=\"color: #008080; text-decoration-color: #008080; font-weight: bold\">728</span> <span style=\"color: #008080; text-decoration-color: #008080; font-weight: bold\">250</span> руб.<span style=\"color: #800080; text-decoration-color: #800080\">/</span><span style=\"color: #ff00ff; text-decoration-color: #ff00ff\">мес.</span>\n",
       "</pre>\n"
      ],
      "text/plain": [
       "Title:  Офис \u001b[1;36m691\u001b[0m,\u001b[1;36m3\u001b[0m м² за \u001b[1;36m1\u001b[0m \u001b[1;36m728\u001b[0m \u001b[1;36m250\u001b[0m руб.\u001b[35m/\u001b[0m\u001b[95mмес.\u001b[0m\n"
      ]
     },
     "metadata": {},
     "output_type": "display_data"
    },
    {
     "data": {
      "text/html": [
       "<pre style=\"white-space:pre;overflow-x:auto;line-height:normal;font-family:Menlo,'DejaVu Sans Mono',consolas,'Courier New',monospace\">Address: Санкт-Петербург, р-н Петроградский, Посадский, м. Горьковская, улица Чапаева, 15к2В\n",
       "</pre>\n"
      ],
      "text/plain": [
       "Address: Санкт-Петербург, р-н Петроградский, Посадский, м. Горьковская, улица Чапаева, 15к2В\n"
      ]
     },
     "metadata": {},
     "output_type": "display_data"
    },
    {
     "data": {
      "text/html": [
       "<pre style=\"white-space:pre;overflow-x:auto;line-height:normal;font-family:Menlo,'DejaVu Sans Mono',consolas,'Courier New',monospace\">url <span style=\"color: #0000ff; text-decoration-color: #0000ff; text-decoration: underline\">https://spb.cian.ru/rent/commercial/303072641/</span>\n",
       "</pre>\n"
      ],
      "text/plain": [
       "url \u001b[4;94mhttps://spb.cian.ru/rent/commercial/303072641/\u001b[0m\n"
      ]
     },
     "metadata": {},
     "output_type": "display_data"
    },
    {
     "data": {
      "text/html": [
       "<pre style=\"white-space:pre;overflow-x:auto;line-height:normal;font-family:Menlo,'DejaVu Sans Mono',consolas,'Courier New',monospace\">price <span style=\"color: #008080; text-decoration-color: #008080; font-weight: bold\">1</span> <span style=\"color: #008080; text-decoration-color: #008080; font-weight: bold\">728</span> <span style=\"color: #008080; text-decoration-color: #008080; font-weight: bold\">250</span> руб.<span style=\"color: #800080; text-decoration-color: #800080\">/</span><span style=\"color: #ff00ff; text-decoration-color: #ff00ff\">мес.</span>\n",
       "</pre>\n"
      ],
      "text/plain": [
       "price \u001b[1;36m1\u001b[0m \u001b[1;36m728\u001b[0m \u001b[1;36m250\u001b[0m руб.\u001b[35m/\u001b[0m\u001b[95mмес.\u001b[0m\n"
      ]
     },
     "metadata": {},
     "output_type": "display_data"
    },
    {
     "data": {
      "text/html": [
       "<pre style=\"white-space:pre;overflow-x:auto;line-height:normal;font-family:Menlo,'DejaVu Sans Mono',consolas,'Courier New',monospace\">------------\n",
       "</pre>\n"
      ],
      "text/plain": [
       "------------\n"
      ]
     },
     "metadata": {},
     "output_type": "display_data"
    },
    {
     "data": {
      "text/html": [
       "<pre style=\"white-space:pre;overflow-x:auto;line-height:normal;font-family:Menlo,'DejaVu Sans Mono',consolas,'Courier New',monospace\">Title: Офисына Приморском проспекте, <span style=\"color: #008080; text-decoration-color: #008080; font-weight: bold\">701</span> <span style=\"color: #008080; text-decoration-color: #008080; font-weight: bold\">084</span> – <span style=\"color: #008080; text-decoration-color: #008080; font-weight: bold\">10</span> <span style=\"color: #008080; text-decoration-color: #008080; font-weight: bold\">355</span> м² от <span style=\"color: #008080; text-decoration-color: #008080; font-weight: bold\">4</span> <span style=\"color: #008080; text-decoration-color: #008080; font-weight: bold\">552</span> <span style=\"color: #008080; text-decoration-color: #008080; font-weight: bold\">800</span> ₽<span style=\"color: #800080; text-decoration-color: #800080\">/</span><span style=\"color: #ff00ff; text-decoration-color: #ff00ff\">мес.Премиум-офисы</span> с мебелью на Неве\n",
       "</pre>\n"
      ],
      "text/plain": [
       "Title: Офисына Приморском проспекте, \u001b[1;36m701\u001b[0m \u001b[1;36m084\u001b[0m – \u001b[1;36m10\u001b[0m \u001b[1;36m355\u001b[0m м² от \u001b[1;36m4\u001b[0m \u001b[1;36m552\u001b[0m \u001b[1;36m800\u001b[0m ₽\u001b[35m/\u001b[0m\u001b[95mмес.Премиум-офисы\u001b[0m с мебелью на Неве\n"
      ]
     },
     "metadata": {},
     "output_type": "display_data"
    },
    {
     "data": {
      "text/html": [
       "<pre style=\"white-space:pre;overflow-x:auto;line-height:normal;font-family:Menlo,'DejaVu Sans Mono',consolas,'Courier New',monospace\">Address: Санкт-Петербург, р-н Приморский, № <span style=\"color: #008080; text-decoration-color: #008080; font-weight: bold\">65</span>, м. Беговая, Приморский проспект, <span style=\"color: #008080; text-decoration-color: #008080; font-weight: bold\">70</span>\n",
       "</pre>\n"
      ],
      "text/plain": [
       "Address: Санкт-Петербург, р-н Приморский, № \u001b[1;36m65\u001b[0m, м. Беговая, Приморский проспект, \u001b[1;36m70\u001b[0m\n"
      ]
     },
     "metadata": {},
     "output_type": "display_data"
    },
    {
     "data": {
      "text/html": [
       "<pre style=\"white-space:pre;overflow-x:auto;line-height:normal;font-family:Menlo,'DejaVu Sans Mono',consolas,'Courier New',monospace\">url <span style=\"color: #0000ff; text-decoration-color: #0000ff; text-decoration: underline\">https://spb.cian.ru/rent/commercial/300743117/</span>\n",
       "</pre>\n"
      ],
      "text/plain": [
       "url \u001b[4;94mhttps://spb.cian.ru/rent/commercial/300743117/\u001b[0m\n"
      ]
     },
     "metadata": {},
     "output_type": "display_data"
    },
    {
     "data": {
      "text/html": [
       "<pre style=\"white-space:pre;overflow-x:auto;line-height:normal;font-family:Menlo,'DejaVu Sans Mono',consolas,'Courier New',monospace\">price <span style=\"color: #008080; text-decoration-color: #008080; font-weight: bold\">4</span> <span style=\"color: #008080; text-decoration-color: #008080; font-weight: bold\">552</span> <span style=\"color: #008080; text-decoration-color: #008080; font-weight: bold\">800</span> ₽<span style=\"color: #800080; text-decoration-color: #800080\">/</span><span style=\"color: #ff00ff; text-decoration-color: #ff00ff\">мес.Премиум-офисы</span> с мебелью на Неве\n",
       "</pre>\n"
      ],
      "text/plain": [
       "price \u001b[1;36m4\u001b[0m \u001b[1;36m552\u001b[0m \u001b[1;36m800\u001b[0m ₽\u001b[35m/\u001b[0m\u001b[95mмес.Премиум-офисы\u001b[0m с мебелью на Неве\n"
      ]
     },
     "metadata": {},
     "output_type": "display_data"
    },
    {
     "data": {
      "text/html": [
       "<pre style=\"white-space:pre;overflow-x:auto;line-height:normal;font-family:Menlo,'DejaVu Sans Mono',consolas,'Courier New',monospace\">------------\n",
       "</pre>\n"
      ],
      "text/plain": [
       "------------\n"
      ]
     },
     "metadata": {},
     "output_type": "display_data"
    },
    {
     "data": {
      "text/html": [
       "<pre style=\"white-space:pre;overflow-x:auto;line-height:normal;font-family:Menlo,'DejaVu Sans Mono',consolas,'Courier New',monospace\">Title: Офисына Приморском проспекте, <span style=\"color: #008080; text-decoration-color: #008080; font-weight: bold\">701</span> <span style=\"color: #008080; text-decoration-color: #008080; font-weight: bold\">130</span> – <span style=\"color: #008080; text-decoration-color: #008080; font-weight: bold\">9</span> <span style=\"color: #008080; text-decoration-color: #008080; font-weight: bold\">040</span> м² от <span style=\"color: #008080; text-decoration-color: #008080; font-weight: bold\">4</span> <span style=\"color: #008080; text-decoration-color: #008080; font-weight: bold\">746</span> <span style=\"color: #008080; text-decoration-color: #008080; font-weight: bold\">000</span> ₽<span style=\"color: #800080; text-decoration-color: #800080\">/</span><span style=\"color: #ff00ff; text-decoration-color: #ff00ff\">мес.</span>\n",
       "</pre>\n"
      ],
      "text/plain": [
       "Title: Офисына Приморском проспекте, \u001b[1;36m701\u001b[0m \u001b[1;36m130\u001b[0m – \u001b[1;36m9\u001b[0m \u001b[1;36m040\u001b[0m м² от \u001b[1;36m4\u001b[0m \u001b[1;36m746\u001b[0m \u001b[1;36m000\u001b[0m ₽\u001b[35m/\u001b[0m\u001b[95mмес.\u001b[0m\n"
      ]
     },
     "metadata": {},
     "output_type": "display_data"
    },
    {
     "data": {
      "text/html": [
       "<pre style=\"white-space:pre;overflow-x:auto;line-height:normal;font-family:Menlo,'DejaVu Sans Mono',consolas,'Courier New',monospace\">Address: Санкт-Петербург, р-н Приморский, № <span style=\"color: #008080; text-decoration-color: #008080; font-weight: bold\">65</span>, м. Беговая, Приморский проспект, <span style=\"color: #008080; text-decoration-color: #008080; font-weight: bold\">70</span>\n",
       "</pre>\n"
      ],
      "text/plain": [
       "Address: Санкт-Петербург, р-н Приморский, № \u001b[1;36m65\u001b[0m, м. Беговая, Приморский проспект, \u001b[1;36m70\u001b[0m\n"
      ]
     },
     "metadata": {},
     "output_type": "display_data"
    },
    {
     "data": {
      "text/html": [
       "<pre style=\"white-space:pre;overflow-x:auto;line-height:normal;font-family:Menlo,'DejaVu Sans Mono',consolas,'Courier New',monospace\">url <span style=\"color: #0000ff; text-decoration-color: #0000ff; text-decoration: underline\">https://spb.cian.ru/rent/commercial/300478630/</span>\n",
       "</pre>\n"
      ],
      "text/plain": [
       "url \u001b[4;94mhttps://spb.cian.ru/rent/commercial/300478630/\u001b[0m\n"
      ]
     },
     "metadata": {},
     "output_type": "display_data"
    },
    {
     "data": {
      "text/html": [
       "<pre style=\"white-space:pre;overflow-x:auto;line-height:normal;font-family:Menlo,'DejaVu Sans Mono',consolas,'Courier New',monospace\">price <span style=\"color: #008080; text-decoration-color: #008080; font-weight: bold\">4</span> <span style=\"color: #008080; text-decoration-color: #008080; font-weight: bold\">746</span> <span style=\"color: #008080; text-decoration-color: #008080; font-weight: bold\">000</span> ₽<span style=\"color: #800080; text-decoration-color: #800080\">/</span><span style=\"color: #ff00ff; text-decoration-color: #ff00ff\">мес.</span>\n",
       "</pre>\n"
      ],
      "text/plain": [
       "price \u001b[1;36m4\u001b[0m \u001b[1;36m746\u001b[0m \u001b[1;36m000\u001b[0m ₽\u001b[35m/\u001b[0m\u001b[95mмес.\u001b[0m\n"
      ]
     },
     "metadata": {},
     "output_type": "display_data"
    },
    {
     "data": {
      "text/html": [
       "<pre style=\"white-space:pre;overflow-x:auto;line-height:normal;font-family:Menlo,'DejaVu Sans Mono',consolas,'Courier New',monospace\">------------\n",
       "</pre>\n"
      ],
      "text/plain": [
       "------------\n"
      ]
     },
     "metadata": {},
     "output_type": "display_data"
    },
    {
     "data": {
      "text/html": [
       "<pre style=\"white-space:pre;overflow-x:auto;line-height:normal;font-family:Menlo,'DejaVu Sans Mono',consolas,'Courier New',monospace\">Title: ОфисыЛитера122,<span style=\"color: #008080; text-decoration-color: #008080; font-weight: bold\">3</span> – <span style=\"color: #008080; text-decoration-color: #008080; font-weight: bold\">374</span>,<span style=\"color: #008080; text-decoration-color: #008080; font-weight: bold\">3</span> м² от <span style=\"color: #008080; text-decoration-color: #008080; font-weight: bold\">226</span> <span style=\"color: #008080; text-decoration-color: #008080; font-weight: bold\">255</span> ₽<span style=\"color: #800080; text-decoration-color: #800080\">/</span><span style=\"color: #ff00ff; text-decoration-color: #ff00ff\">мес.Офисы</span> у Александровского сада\n",
       "</pre>\n"
      ],
      "text/plain": [
       "Title: ОфисыЛитера122,\u001b[1;36m3\u001b[0m – \u001b[1;36m374\u001b[0m,\u001b[1;36m3\u001b[0m м² от \u001b[1;36m226\u001b[0m \u001b[1;36m255\u001b[0m ₽\u001b[35m/\u001b[0m\u001b[95mмес.Офисы\u001b[0m у Александровского сада\n"
      ]
     },
     "metadata": {},
     "output_type": "display_data"
    },
    {
     "data": {
      "text/html": [
       "<pre style=\"white-space:pre;overflow-x:auto;line-height:normal;font-family:Menlo,'DejaVu Sans Mono',consolas,'Courier New',monospace\">Address: Санкт-Петербург, р-н Адмиралтейский, Адмиралтейский, м. Адмиралтейская, Галерная улица, <span style=\"color: #008080; text-decoration-color: #008080; font-weight: bold\">10</span>\n",
       "</pre>\n"
      ],
      "text/plain": [
       "Address: Санкт-Петербург, р-н Адмиралтейский, Адмиралтейский, м. Адмиралтейская, Галерная улица, \u001b[1;36m10\u001b[0m\n"
      ]
     },
     "metadata": {},
     "output_type": "display_data"
    },
    {
     "data": {
      "text/html": [
       "<pre style=\"white-space:pre;overflow-x:auto;line-height:normal;font-family:Menlo,'DejaVu Sans Mono',consolas,'Courier New',monospace\">url <span style=\"color: #0000ff; text-decoration-color: #0000ff; text-decoration: underline\">https://spb.cian.ru/rent/commercial/306346827/</span>\n",
       "</pre>\n"
      ],
      "text/plain": [
       "url \u001b[4;94mhttps://spb.cian.ru/rent/commercial/306346827/\u001b[0m\n"
      ]
     },
     "metadata": {},
     "output_type": "display_data"
    },
    {
     "data": {
      "text/html": [
       "<pre style=\"white-space:pre;overflow-x:auto;line-height:normal;font-family:Menlo,'DejaVu Sans Mono',consolas,'Courier New',monospace\">price <span style=\"color: #008080; text-decoration-color: #008080; font-weight: bold\">226</span> <span style=\"color: #008080; text-decoration-color: #008080; font-weight: bold\">255</span> ₽<span style=\"color: #800080; text-decoration-color: #800080\">/</span><span style=\"color: #ff00ff; text-decoration-color: #ff00ff\">мес.Офисы</span> у Александровского сада\n",
       "</pre>\n"
      ],
      "text/plain": [
       "price \u001b[1;36m226\u001b[0m \u001b[1;36m255\u001b[0m ₽\u001b[35m/\u001b[0m\u001b[95mмес.Офисы\u001b[0m у Александровского сада\n"
      ]
     },
     "metadata": {},
     "output_type": "display_data"
    },
    {
     "data": {
      "text/html": [
       "<pre style=\"white-space:pre;overflow-x:auto;line-height:normal;font-family:Menlo,'DejaVu Sans Mono',consolas,'Courier New',monospace\">------------\n",
       "</pre>\n"
      ],
      "text/plain": [
       "------------\n"
      ]
     },
     "metadata": {},
     "output_type": "display_data"
    },
    {
     "data": {
      "text/html": [
       "<pre style=\"white-space:pre;overflow-x:auto;line-height:normal;font-family:Menlo,'DejaVu Sans Mono',consolas,'Courier New',monospace\">Title: Своб. назнач.BOILERHOUSE <span style=\"font-weight: bold\">(</span>Бойлер Хаус<span style=\"font-weight: bold\">)</span><span style=\"color: #008080; text-decoration-color: #008080; font-weight: bold\">248</span> – <span style=\"color: #008080; text-decoration-color: #008080; font-weight: bold\">1</span> <span style=\"color: #008080; text-decoration-color: #008080; font-weight: bold\">130</span> м² от <span style=\"color: #008080; text-decoration-color: #008080; font-weight: bold\">446</span> <span style=\"color: #008080; text-decoration-color: #008080; font-weight: bold\">400</span> ₽<span style=\"color: #800080; text-decoration-color: #800080\">/</span><span style=\"color: #ff00ff; text-decoration-color: #ff00ff\">мес.Новый</span> деловой квартал, от <span style=\"color: #008080; text-decoration-color: #008080; font-weight: bold\">248</span> м²\n",
       "</pre>\n"
      ],
      "text/plain": [
       "Title: Своб. назнач.BOILERHOUSE \u001b[1m(\u001b[0mБойлер Хаус\u001b[1m)\u001b[0m\u001b[1;36m248\u001b[0m – \u001b[1;36m1\u001b[0m \u001b[1;36m130\u001b[0m м² от \u001b[1;36m446\u001b[0m \u001b[1;36m400\u001b[0m ₽\u001b[35m/\u001b[0m\u001b[95mмес.Новый\u001b[0m деловой квартал, от \u001b[1;36m248\u001b[0m м²\n"
      ]
     },
     "metadata": {},
     "output_type": "display_data"
    },
    {
     "data": {
      "text/html": [
       "<pre style=\"white-space:pre;overflow-x:auto;line-height:normal;font-family:Menlo,'DejaVu Sans Mono',consolas,'Courier New',monospace\">Address: Санкт-Петербург, р-н Адмиралтейский, Измайловское, м. Балтийская, набережная Обводного Канала, 118аУ\n",
       "</pre>\n"
      ],
      "text/plain": [
       "Address: Санкт-Петербург, р-н Адмиралтейский, Измайловское, м. Балтийская, набережная Обводного Канала, 118аУ\n"
      ]
     },
     "metadata": {},
     "output_type": "display_data"
    },
    {
     "data": {
      "text/html": [
       "<pre style=\"white-space:pre;overflow-x:auto;line-height:normal;font-family:Menlo,'DejaVu Sans Mono',consolas,'Courier New',monospace\">url <span style=\"color: #0000ff; text-decoration-color: #0000ff; text-decoration: underline\">https://spb.cian.ru/rent/commercial/260212701/</span>\n",
       "</pre>\n"
      ],
      "text/plain": [
       "url \u001b[4;94mhttps://spb.cian.ru/rent/commercial/260212701/\u001b[0m\n"
      ]
     },
     "metadata": {},
     "output_type": "display_data"
    },
    {
     "data": {
      "text/html": [
       "<pre style=\"white-space:pre;overflow-x:auto;line-height:normal;font-family:Menlo,'DejaVu Sans Mono',consolas,'Courier New',monospace\">price <span style=\"color: #008080; text-decoration-color: #008080; font-weight: bold\">446</span> <span style=\"color: #008080; text-decoration-color: #008080; font-weight: bold\">400</span> ₽<span style=\"color: #800080; text-decoration-color: #800080\">/</span><span style=\"color: #ff00ff; text-decoration-color: #ff00ff\">мес.Новый</span> деловой квартал, от <span style=\"color: #008080; text-decoration-color: #008080; font-weight: bold\">248</span> м²\n",
       "</pre>\n"
      ],
      "text/plain": [
       "price \u001b[1;36m446\u001b[0m \u001b[1;36m400\u001b[0m ₽\u001b[35m/\u001b[0m\u001b[95mмес.Новый\u001b[0m деловой квартал, от \u001b[1;36m248\u001b[0m м²\n"
      ]
     },
     "metadata": {},
     "output_type": "display_data"
    },
    {
     "data": {
      "text/html": [
       "<pre style=\"white-space:pre;overflow-x:auto;line-height:normal;font-family:Menlo,'DejaVu Sans Mono',consolas,'Courier New',monospace\">------------\n",
       "</pre>\n"
      ],
      "text/plain": [
       "------------\n"
      ]
     },
     "metadata": {},
     "output_type": "display_data"
    },
    {
     "data": {
      "text/html": [
       "<pre style=\"white-space:pre;overflow-x:auto;line-height:normal;font-family:Menlo,'DejaVu Sans Mono',consolas,'Courier New',monospace\">Title: Офис в стиле ампир, кухня и с/уОфис <span style=\"color: #008080; text-decoration-color: #008080; font-weight: bold\">275</span> м² за <span style=\"color: #008080; text-decoration-color: #008080; font-weight: bold\">440</span> <span style=\"color: #008080; text-decoration-color: #008080; font-weight: bold\">000</span> руб.<span style=\"color: #800080; text-decoration-color: #800080\">/</span><span style=\"color: #ff00ff; text-decoration-color: #ff00ff\">мес.</span> \n",
       "</pre>\n"
      ],
      "text/plain": [
       "Title: Офис в стиле ампир, кухня и с/уОфис \u001b[1;36m275\u001b[0m м² за \u001b[1;36m440\u001b[0m \u001b[1;36m000\u001b[0m руб.\u001b[35m/\u001b[0m\u001b[95mмес.\u001b[0m \n"
      ]
     },
     "metadata": {},
     "output_type": "display_data"
    },
    {
     "data": {
      "text/html": [
       "<pre style=\"white-space:pre;overflow-x:auto;line-height:normal;font-family:Menlo,'DejaVu Sans Mono',consolas,'Courier New',monospace\">Address: Санкт-Петербург, р-н Адмиралтейский, Коломна, м. Балтийская, Лермонтовский проспект, <span style=\"color: #008080; text-decoration-color: #008080; font-weight: bold\">35</span>\n",
       "</pre>\n"
      ],
      "text/plain": [
       "Address: Санкт-Петербург, р-н Адмиралтейский, Коломна, м. Балтийская, Лермонтовский проспект, \u001b[1;36m35\u001b[0m\n"
      ]
     },
     "metadata": {},
     "output_type": "display_data"
    },
    {
     "data": {
      "text/html": [
       "<pre style=\"white-space:pre;overflow-x:auto;line-height:normal;font-family:Menlo,'DejaVu Sans Mono',consolas,'Courier New',monospace\">url <span style=\"color: #0000ff; text-decoration-color: #0000ff; text-decoration: underline\">https://spb.cian.ru/rent/commercial/299143123/</span>\n",
       "</pre>\n"
      ],
      "text/plain": [
       "url \u001b[4;94mhttps://spb.cian.ru/rent/commercial/299143123/\u001b[0m\n"
      ]
     },
     "metadata": {},
     "output_type": "display_data"
    },
    {
     "data": {
      "text/html": [
       "<pre style=\"white-space:pre;overflow-x:auto;line-height:normal;font-family:Menlo,'DejaVu Sans Mono',consolas,'Courier New',monospace\">price <span style=\"color: #008080; text-decoration-color: #008080; font-weight: bold\">440</span> <span style=\"color: #008080; text-decoration-color: #008080; font-weight: bold\">000</span> руб.<span style=\"color: #800080; text-decoration-color: #800080\">/</span><span style=\"color: #ff00ff; text-decoration-color: #ff00ff\">мес.</span> \n",
       "</pre>\n"
      ],
      "text/plain": [
       "price \u001b[1;36m440\u001b[0m \u001b[1;36m000\u001b[0m руб.\u001b[35m/\u001b[0m\u001b[95mмес.\u001b[0m \n"
      ]
     },
     "metadata": {},
     "output_type": "display_data"
    },
    {
     "data": {
      "text/html": [
       "<pre style=\"white-space:pre;overflow-x:auto;line-height:normal;font-family:Menlo,'DejaVu Sans Mono',consolas,'Courier New',monospace\">------------\n",
       "</pre>\n"
      ],
      "text/plain": [
       "------------\n"
      ]
     },
     "metadata": {},
     "output_type": "display_data"
    },
    {
     "data": {
      "text/html": [
       "<pre style=\"white-space:pre;overflow-x:auto;line-height:normal;font-family:Menlo,'DejaVu Sans Mono',consolas,'Courier New',monospace\">Title: ОфисыШагал223,<span style=\"color: #008080; text-decoration-color: #008080; font-weight: bold\">5</span> – <span style=\"color: #008080; text-decoration-color: #008080; font-weight: bold\">688</span>,<span style=\"color: #008080; text-decoration-color: #008080; font-weight: bold\">1</span> м² от <span style=\"color: #008080; text-decoration-color: #008080; font-weight: bold\">357</span> <span style=\"color: #008080; text-decoration-color: #008080; font-weight: bold\">600</span> ₽<span style=\"color: #800080; text-decoration-color: #800080\">/</span><span style=\"color: #ff00ff; text-decoration-color: #ff00ff\">мес.Loft-офисы</span>, есть офис с террасой\n",
       "</pre>\n"
      ],
      "text/plain": [
       "Title: ОфисыШагал223,\u001b[1;36m5\u001b[0m – \u001b[1;36m688\u001b[0m,\u001b[1;36m1\u001b[0m м² от \u001b[1;36m357\u001b[0m \u001b[1;36m600\u001b[0m ₽\u001b[35m/\u001b[0m\u001b[95mмес.Loft-офисы\u001b[0m, есть офис с террасой\n"
      ]
     },
     "metadata": {},
     "output_type": "display_data"
    },
    {
     "data": {
      "text/html": [
       "<pre style=\"white-space:pre;overflow-x:auto;line-height:normal;font-family:Menlo,'DejaVu Sans Mono',consolas,'Courier New',monospace\">Address: Санкт-Петербург, р-н Выборгский, Сампсониевское, м. Выборгская, переулок Зеленков, 7аЗ\n",
       "</pre>\n"
      ],
      "text/plain": [
       "Address: Санкт-Петербург, р-н Выборгский, Сампсониевское, м. Выборгская, переулок Зеленков, 7аЗ\n"
      ]
     },
     "metadata": {},
     "output_type": "display_data"
    },
    {
     "data": {
      "text/html": [
       "<pre style=\"white-space:pre;overflow-x:auto;line-height:normal;font-family:Menlo,'DejaVu Sans Mono',consolas,'Courier New',monospace\">url <span style=\"color: #0000ff; text-decoration-color: #0000ff; text-decoration: underline\">https://spb.cian.ru/rent/commercial/305636988/</span>\n",
       "</pre>\n"
      ],
      "text/plain": [
       "url \u001b[4;94mhttps://spb.cian.ru/rent/commercial/305636988/\u001b[0m\n"
      ]
     },
     "metadata": {},
     "output_type": "display_data"
    },
    {
     "data": {
      "text/html": [
       "<pre style=\"white-space:pre;overflow-x:auto;line-height:normal;font-family:Menlo,'DejaVu Sans Mono',consolas,'Courier New',monospace\">price <span style=\"color: #008080; text-decoration-color: #008080; font-weight: bold\">357</span> <span style=\"color: #008080; text-decoration-color: #008080; font-weight: bold\">600</span> ₽<span style=\"color: #800080; text-decoration-color: #800080\">/</span><span style=\"color: #ff00ff; text-decoration-color: #ff00ff\">мес.Loft-офисы</span>, есть офис с террасой\n",
       "</pre>\n"
      ],
      "text/plain": [
       "price \u001b[1;36m357\u001b[0m \u001b[1;36m600\u001b[0m ₽\u001b[35m/\u001b[0m\u001b[95mмес.Loft-офисы\u001b[0m, есть офис с террасой\n"
      ]
     },
     "metadata": {},
     "output_type": "display_data"
    },
    {
     "data": {
      "text/html": [
       "<pre style=\"white-space:pre;overflow-x:auto;line-height:normal;font-family:Menlo,'DejaVu Sans Mono',consolas,'Courier New',monospace\">------------\n",
       "</pre>\n"
      ],
      "text/plain": [
       "------------\n"
      ]
     },
     "metadata": {},
     "output_type": "display_data"
    },
    {
     "data": {
      "text/html": [
       "<pre style=\"white-space:pre;overflow-x:auto;line-height:normal;font-family:Menlo,'DejaVu Sans Mono',consolas,'Courier New',monospace\">Title: ОфисыМельник148,<span style=\"color: #008080; text-decoration-color: #008080; font-weight: bold\">6</span> – <span style=\"color: #008080; text-decoration-color: #008080; font-weight: bold\">675</span>,<span style=\"color: #008080; text-decoration-color: #008080; font-weight: bold\">5</span> м² от <span style=\"color: #008080; text-decoration-color: #008080; font-weight: bold\">401</span> <span style=\"color: #008080; text-decoration-color: #008080; font-weight: bold\">220</span> ₽<span style=\"color: #800080; text-decoration-color: #800080\">/</span><span style=\"color: #ff00ff; text-decoration-color: #ff00ff\">мес.Офисы</span> с мебелью и оргтехникой\n",
       "</pre>\n"
      ],
      "text/plain": [
       "Title: ОфисыМельник148,\u001b[1;36m6\u001b[0m – \u001b[1;36m675\u001b[0m,\u001b[1;36m5\u001b[0m м² от \u001b[1;36m401\u001b[0m \u001b[1;36m220\u001b[0m ₽\u001b[35m/\u001b[0m\u001b[95mмес.Офисы\u001b[0m с мебелью и оргтехникой\n"
      ]
     },
     "metadata": {},
     "output_type": "display_data"
    },
    {
     "data": {
      "text/html": [
       "<pre style=\"white-space:pre;overflow-x:auto;line-height:normal;font-family:Menlo,'DejaVu Sans Mono',consolas,'Courier New',monospace\">Address: Санкт-Петербург, р-н Невский, Невская застава, м. Площадь Александра Невского, улица Профессора Качалова, \n",
       "<span style=\"color: #008080; text-decoration-color: #008080; font-weight: bold\">7</span>\n",
       "</pre>\n"
      ],
      "text/plain": [
       "Address: Санкт-Петербург, р-н Невский, Невская застава, м. Площадь Александра Невского, улица Профессора Качалова, \n",
       "\u001b[1;36m7\u001b[0m\n"
      ]
     },
     "metadata": {},
     "output_type": "display_data"
    },
    {
     "data": {
      "text/html": [
       "<pre style=\"white-space:pre;overflow-x:auto;line-height:normal;font-family:Menlo,'DejaVu Sans Mono',consolas,'Courier New',monospace\">url <span style=\"color: #0000ff; text-decoration-color: #0000ff; text-decoration: underline\">https://spb.cian.ru/rent/commercial/307721337/</span>\n",
       "</pre>\n"
      ],
      "text/plain": [
       "url \u001b[4;94mhttps://spb.cian.ru/rent/commercial/307721337/\u001b[0m\n"
      ]
     },
     "metadata": {},
     "output_type": "display_data"
    },
    {
     "data": {
      "text/html": [
       "<pre style=\"white-space:pre;overflow-x:auto;line-height:normal;font-family:Menlo,'DejaVu Sans Mono',consolas,'Courier New',monospace\">price <span style=\"color: #008080; text-decoration-color: #008080; font-weight: bold\">401</span> <span style=\"color: #008080; text-decoration-color: #008080; font-weight: bold\">220</span> ₽<span style=\"color: #800080; text-decoration-color: #800080\">/</span><span style=\"color: #ff00ff; text-decoration-color: #ff00ff\">мес.Офисы</span> с мебелью и оргтехникой\n",
       "</pre>\n"
      ],
      "text/plain": [
       "price \u001b[1;36m401\u001b[0m \u001b[1;36m220\u001b[0m ₽\u001b[35m/\u001b[0m\u001b[95mмес.Офисы\u001b[0m с мебелью и оргтехникой\n"
      ]
     },
     "metadata": {},
     "output_type": "display_data"
    },
    {
     "data": {
      "text/html": [
       "<pre style=\"white-space:pre;overflow-x:auto;line-height:normal;font-family:Menlo,'DejaVu Sans Mono',consolas,'Courier New',monospace\">------------\n",
       "</pre>\n"
      ],
      "text/plain": [
       "------------\n"
      ]
     },
     "metadata": {},
     "output_type": "display_data"
    },
    {
     "data": {
      "text/html": [
       "<pre style=\"white-space:pre;overflow-x:auto;line-height:normal;font-family:Menlo,'DejaVu Sans Mono',consolas,'Courier New',monospace\">Title: Историческое здание, БЦ целикомОфис <span style=\"color: #008080; text-decoration-color: #008080; font-weight: bold\">1</span> <span style=\"color: #008080; text-decoration-color: #008080; font-weight: bold\">956</span> м² за <span style=\"color: #008080; text-decoration-color: #008080; font-weight: bold\">9</span> <span style=\"color: #008080; text-decoration-color: #008080; font-weight: bold\">780</span> <span style=\"color: #008080; text-decoration-color: #008080; font-weight: bold\">000</span> руб.<span style=\"color: #800080; text-decoration-color: #800080\">/</span><span style=\"color: #ff00ff; text-decoration-color: #ff00ff\">мес.</span> \n",
       "</pre>\n"
      ],
      "text/plain": [
       "Title: Историческое здание, БЦ целикомОфис \u001b[1;36m1\u001b[0m \u001b[1;36m956\u001b[0m м² за \u001b[1;36m9\u001b[0m \u001b[1;36m780\u001b[0m \u001b[1;36m000\u001b[0m руб.\u001b[35m/\u001b[0m\u001b[95mмес.\u001b[0m \n"
      ]
     },
     "metadata": {},
     "output_type": "display_data"
    },
    {
     "data": {
      "text/html": [
       "<pre style=\"white-space:pre;overflow-x:auto;line-height:normal;font-family:Menlo,'DejaVu Sans Mono',consolas,'Courier New',monospace\">Address: Санкт-Петербург, р-н Центральный, Литейный, м. Маяковская, Невский проспект, <span style=\"color: #008080; text-decoration-color: #008080; font-weight: bold\">72</span>\n",
       "</pre>\n"
      ],
      "text/plain": [
       "Address: Санкт-Петербург, р-н Центральный, Литейный, м. Маяковская, Невский проспект, \u001b[1;36m72\u001b[0m\n"
      ]
     },
     "metadata": {},
     "output_type": "display_data"
    },
    {
     "data": {
      "text/html": [
       "<pre style=\"white-space:pre;overflow-x:auto;line-height:normal;font-family:Menlo,'DejaVu Sans Mono',consolas,'Courier New',monospace\">url <span style=\"color: #0000ff; text-decoration-color: #0000ff; text-decoration: underline\">https://spb.cian.ru/rent/commercial/301778711/</span>\n",
       "</pre>\n"
      ],
      "text/plain": [
       "url \u001b[4;94mhttps://spb.cian.ru/rent/commercial/301778711/\u001b[0m\n"
      ]
     },
     "metadata": {},
     "output_type": "display_data"
    },
    {
     "data": {
      "text/html": [
       "<pre style=\"white-space:pre;overflow-x:auto;line-height:normal;font-family:Menlo,'DejaVu Sans Mono',consolas,'Courier New',monospace\">price <span style=\"color: #008080; text-decoration-color: #008080; font-weight: bold\">9</span> <span style=\"color: #008080; text-decoration-color: #008080; font-weight: bold\">780</span> <span style=\"color: #008080; text-decoration-color: #008080; font-weight: bold\">000</span> руб.<span style=\"color: #800080; text-decoration-color: #800080\">/</span><span style=\"color: #ff00ff; text-decoration-color: #ff00ff\">мес.</span> \n",
       "</pre>\n"
      ],
      "text/plain": [
       "price \u001b[1;36m9\u001b[0m \u001b[1;36m780\u001b[0m \u001b[1;36m000\u001b[0m руб.\u001b[35m/\u001b[0m\u001b[95mмес.\u001b[0m \n"
      ]
     },
     "metadata": {},
     "output_type": "display_data"
    },
    {
     "data": {
      "text/html": [
       "<pre style=\"white-space:pre;overflow-x:auto;line-height:normal;font-family:Menlo,'DejaVu Sans Mono',consolas,'Courier New',monospace\">------------\n",
       "</pre>\n"
      ],
      "text/plain": [
       "------------\n"
      ]
     },
     "metadata": {},
     "output_type": "display_data"
    },
    {
     "data": {
      "text/html": [
       "<pre style=\"white-space:pre;overflow-x:auto;line-height:normal;font-family:Menlo,'DejaVu Sans Mono',consolas,'Courier New',monospace\">Title: ОфисыЭнерго1 <span style=\"color: #008080; text-decoration-color: #008080; font-weight: bold\">383</span> – <span style=\"color: #008080; text-decoration-color: #008080; font-weight: bold\">2</span> <span style=\"color: #008080; text-decoration-color: #008080; font-weight: bold\">766</span> м² от <span style=\"color: #008080; text-decoration-color: #008080; font-weight: bold\">2</span> <span style=\"color: #008080; text-decoration-color: #008080; font-weight: bold\">212</span> <span style=\"color: #008080; text-decoration-color: #008080; font-weight: bold\">800</span> ₽<span style=\"color: #800080; text-decoration-color: #800080\">/</span><span style=\"color: #ff00ff; text-decoration-color: #ff00ff\">мес.Офисы</span> с качественным ремонтом\n",
       "</pre>\n"
      ],
      "text/plain": [
       "Title: ОфисыЭнерго1 \u001b[1;36m383\u001b[0m – \u001b[1;36m2\u001b[0m \u001b[1;36m766\u001b[0m м² от \u001b[1;36m2\u001b[0m \u001b[1;36m212\u001b[0m \u001b[1;36m800\u001b[0m ₽\u001b[35m/\u001b[0m\u001b[95mмес.Офисы\u001b[0m с качественным ремонтом\n"
      ]
     },
     "metadata": {},
     "output_type": "display_data"
    },
    {
     "data": {
      "text/html": [
       "<pre style=\"white-space:pre;overflow-x:auto;line-height:normal;font-family:Menlo,'DejaVu Sans Mono',consolas,'Courier New',monospace\">Address: Санкт-Петербург, р-н Московский, Московская застава, м. Фрунзенская, Киевская улица, 5к4\n",
       "</pre>\n"
      ],
      "text/plain": [
       "Address: Санкт-Петербург, р-н Московский, Московская застава, м. Фрунзенская, Киевская улица, 5к4\n"
      ]
     },
     "metadata": {},
     "output_type": "display_data"
    },
    {
     "data": {
      "text/html": [
       "<pre style=\"white-space:pre;overflow-x:auto;line-height:normal;font-family:Menlo,'DejaVu Sans Mono',consolas,'Courier New',monospace\">url <span style=\"color: #0000ff; text-decoration-color: #0000ff; text-decoration: underline\">https://spb.cian.ru/rent/commercial/275876065/</span>\n",
       "</pre>\n"
      ],
      "text/plain": [
       "url \u001b[4;94mhttps://spb.cian.ru/rent/commercial/275876065/\u001b[0m\n"
      ]
     },
     "metadata": {},
     "output_type": "display_data"
    },
    {
     "data": {
      "text/html": [
       "<pre style=\"white-space:pre;overflow-x:auto;line-height:normal;font-family:Menlo,'DejaVu Sans Mono',consolas,'Courier New',monospace\">price <span style=\"color: #008080; text-decoration-color: #008080; font-weight: bold\">2</span> <span style=\"color: #008080; text-decoration-color: #008080; font-weight: bold\">212</span> <span style=\"color: #008080; text-decoration-color: #008080; font-weight: bold\">800</span> ₽<span style=\"color: #800080; text-decoration-color: #800080\">/</span><span style=\"color: #ff00ff; text-decoration-color: #ff00ff\">мес.Офисы</span> с качественным ремонтом\n",
       "</pre>\n"
      ],
      "text/plain": [
       "price \u001b[1;36m2\u001b[0m \u001b[1;36m212\u001b[0m \u001b[1;36m800\u001b[0m ₽\u001b[35m/\u001b[0m\u001b[95mмес.Офисы\u001b[0m с качественным ремонтом\n"
      ]
     },
     "metadata": {},
     "output_type": "display_data"
    },
    {
     "data": {
      "text/html": [
       "<pre style=\"white-space:pre;overflow-x:auto;line-height:normal;font-family:Menlo,'DejaVu Sans Mono',consolas,'Courier New',monospace\">------------\n",
       "</pre>\n"
      ],
      "text/plain": [
       "------------\n"
      ]
     },
     "metadata": {},
     "output_type": "display_data"
    },
    {
     "data": {
      "text/html": [
       "<pre style=\"white-space:pre;overflow-x:auto;line-height:normal;font-family:Menlo,'DejaVu Sans Mono',consolas,'Courier New',monospace\"><span style=\"color: #008080; text-decoration-color: #008080; font-weight: bold\">2</span>\n",
       "</pre>\n"
      ],
      "text/plain": [
       "\u001b[1;36m2\u001b[0m\n"
      ]
     },
     "metadata": {},
     "output_type": "display_data"
    },
    {
     "data": {
      "text/html": [
       "<pre style=\"white-space:pre;overflow-x:auto;line-height:normal;font-family:Menlo,'DejaVu Sans Mono',consolas,'Courier New',monospace\">Title: ОфисыПетергофский249,<span style=\"color: #008080; text-decoration-color: #008080; font-weight: bold\">9</span> – <span style=\"color: #008080; text-decoration-color: #008080; font-weight: bold\">293</span>,<span style=\"color: #008080; text-decoration-color: #008080; font-weight: bold\">9</span> м² от <span style=\"color: #008080; text-decoration-color: #008080; font-weight: bold\">499</span> <span style=\"color: #008080; text-decoration-color: #008080; font-weight: bold\">800</span> ₽<span style=\"color: #800080; text-decoration-color: #800080\">/</span><span style=\"color: #ff00ff; text-decoration-color: #ff00ff\">мес.Современный</span> офис класса B+\n",
       "</pre>\n"
      ],
      "text/plain": [
       "Title: ОфисыПетергофский249,\u001b[1;36m9\u001b[0m – \u001b[1;36m293\u001b[0m,\u001b[1;36m9\u001b[0m м² от \u001b[1;36m499\u001b[0m \u001b[1;36m800\u001b[0m ₽\u001b[35m/\u001b[0m\u001b[95mмес.Современный\u001b[0m офис класса B+\n"
      ]
     },
     "metadata": {},
     "output_type": "display_data"
    },
    {
     "data": {
      "text/html": [
       "<pre style=\"white-space:pre;overflow-x:auto;line-height:normal;font-family:Menlo,'DejaVu Sans Mono',consolas,'Courier New',monospace\">Address: Санкт-Петербург, р-н Адмиралтейский, Екатерингофский, м. Нарвская, Старо-Петергофский проспект, <span style=\"color: #008080; text-decoration-color: #008080; font-weight: bold\">19</span>\n",
       "</pre>\n"
      ],
      "text/plain": [
       "Address: Санкт-Петербург, р-н Адмиралтейский, Екатерингофский, м. Нарвская, Старо-Петергофский проспект, \u001b[1;36m19\u001b[0m\n"
      ]
     },
     "metadata": {},
     "output_type": "display_data"
    },
    {
     "data": {
      "text/html": [
       "<pre style=\"white-space:pre;overflow-x:auto;line-height:normal;font-family:Menlo,'DejaVu Sans Mono',consolas,'Courier New',monospace\">url <span style=\"color: #0000ff; text-decoration-color: #0000ff; text-decoration: underline\">https://spb.cian.ru/rent/commercial/295988266/</span>\n",
       "</pre>\n"
      ],
      "text/plain": [
       "url \u001b[4;94mhttps://spb.cian.ru/rent/commercial/295988266/\u001b[0m\n"
      ]
     },
     "metadata": {},
     "output_type": "display_data"
    },
    {
     "data": {
      "text/html": [
       "<pre style=\"white-space:pre;overflow-x:auto;line-height:normal;font-family:Menlo,'DejaVu Sans Mono',consolas,'Courier New',monospace\">price <span style=\"color: #008080; text-decoration-color: #008080; font-weight: bold\">499</span> <span style=\"color: #008080; text-decoration-color: #008080; font-weight: bold\">800</span> ₽<span style=\"color: #800080; text-decoration-color: #800080\">/</span><span style=\"color: #ff00ff; text-decoration-color: #ff00ff\">мес.Современный</span> офис класса B+\n",
       "</pre>\n"
      ],
      "text/plain": [
       "price \u001b[1;36m499\u001b[0m \u001b[1;36m800\u001b[0m ₽\u001b[35m/\u001b[0m\u001b[95mмес.Современный\u001b[0m офис класса B+\n"
      ]
     },
     "metadata": {},
     "output_type": "display_data"
    },
    {
     "data": {
      "text/html": [
       "<pre style=\"white-space:pre;overflow-x:auto;line-height:normal;font-family:Menlo,'DejaVu Sans Mono',consolas,'Courier New',monospace\">------------\n",
       "</pre>\n"
      ],
      "text/plain": [
       "------------\n"
      ]
     },
     "metadata": {},
     "output_type": "display_data"
    },
    {
     "data": {
      "text/html": [
       "<pre style=\"white-space:pre;overflow-x:auto;line-height:normal;font-family:Menlo,'DejaVu Sans Mono',consolas,'Courier New',monospace\">Title: ОфисыMiller Center <span style=\"font-weight: bold\">(</span>Миллер Центр<span style=\"font-weight: bold\">)</span><span style=\"color: #008080; text-decoration-color: #008080; font-weight: bold\">360</span> – <span style=\"color: #008080; text-decoration-color: #008080; font-weight: bold\">853</span> м² от <span style=\"color: #008080; text-decoration-color: #008080; font-weight: bold\">519</span> <span style=\"color: #008080; text-decoration-color: #008080; font-weight: bold\">660</span> ₽<span style=\"color: #800080; text-decoration-color: #800080\">/</span><span style=\"color: #ff00ff; text-decoration-color: #ff00ff\">мес.Лофт-офисы</span> в МФК <span style=\"color: #008000; text-decoration-color: #008000\">\"Миллер Центр\"</span>\n",
       "</pre>\n"
      ],
      "text/plain": [
       "Title: ОфисыMiller Center \u001b[1m(\u001b[0mМиллер Центр\u001b[1m)\u001b[0m\u001b[1;36m360\u001b[0m – \u001b[1;36m853\u001b[0m м² от \u001b[1;36m519\u001b[0m \u001b[1;36m660\u001b[0m ₽\u001b[35m/\u001b[0m\u001b[95mмес.Лофт-офисы\u001b[0m в МФК \u001b[32m\"Миллер Центр\"\u001b[0m\n"
      ]
     },
     "metadata": {},
     "output_type": "display_data"
    },
    {
     "data": {
      "text/html": [
       "<pre style=\"white-space:pre;overflow-x:auto;line-height:normal;font-family:Menlo,'DejaVu Sans Mono',consolas,'Courier New',monospace\">Address: Санкт-Петербург, р-н Приморский, Озеро Долгое, м. Комендантский проспект, проспект Испытателей, <span style=\"color: #008080; text-decoration-color: #008080; font-weight: bold\">37</span>\n",
       "</pre>\n"
      ],
      "text/plain": [
       "Address: Санкт-Петербург, р-н Приморский, Озеро Долгое, м. Комендантский проспект, проспект Испытателей, \u001b[1;36m37\u001b[0m\n"
      ]
     },
     "metadata": {},
     "output_type": "display_data"
    },
    {
     "data": {
      "text/html": [
       "<pre style=\"white-space:pre;overflow-x:auto;line-height:normal;font-family:Menlo,'DejaVu Sans Mono',consolas,'Courier New',monospace\">url <span style=\"color: #0000ff; text-decoration-color: #0000ff; text-decoration: underline\">https://spb.cian.ru/rent/commercial/304595400/</span>\n",
       "</pre>\n"
      ],
      "text/plain": [
       "url \u001b[4;94mhttps://spb.cian.ru/rent/commercial/304595400/\u001b[0m\n"
      ]
     },
     "metadata": {},
     "output_type": "display_data"
    },
    {
     "data": {
      "text/html": [
       "<pre style=\"white-space:pre;overflow-x:auto;line-height:normal;font-family:Menlo,'DejaVu Sans Mono',consolas,'Courier New',monospace\">price <span style=\"color: #008080; text-decoration-color: #008080; font-weight: bold\">519</span> <span style=\"color: #008080; text-decoration-color: #008080; font-weight: bold\">660</span> ₽<span style=\"color: #800080; text-decoration-color: #800080\">/</span><span style=\"color: #ff00ff; text-decoration-color: #ff00ff\">мес.Лофт-офисы</span> в МФК <span style=\"color: #008000; text-decoration-color: #008000\">\"Миллер Центр\"</span>\n",
       "</pre>\n"
      ],
      "text/plain": [
       "price \u001b[1;36m519\u001b[0m \u001b[1;36m660\u001b[0m ₽\u001b[35m/\u001b[0m\u001b[95mмес.Лофт-офисы\u001b[0m в МФК \u001b[32m\"Миллер Центр\"\u001b[0m\n"
      ]
     },
     "metadata": {},
     "output_type": "display_data"
    },
    {
     "data": {
      "text/html": [
       "<pre style=\"white-space:pre;overflow-x:auto;line-height:normal;font-family:Menlo,'DejaVu Sans Mono',consolas,'Courier New',monospace\">------------\n",
       "</pre>\n"
      ],
      "text/plain": [
       "------------\n"
      ]
     },
     "metadata": {},
     "output_type": "display_data"
    },
    {
     "data": {
      "text/html": [
       "<pre style=\"white-space:pre;overflow-x:auto;line-height:normal;font-family:Menlo,'DejaVu Sans Mono',consolas,'Courier New',monospace\">Title: Всё включено, в т.ч. паркингОфис <span style=\"color: #008080; text-decoration-color: #008080; font-weight: bold\">529</span> м² за <span style=\"color: #008080; text-decoration-color: #008080; font-weight: bold\">1</span> <span style=\"color: #008080; text-decoration-color: #008080; font-weight: bold\">005</span> <span style=\"color: #008080; text-decoration-color: #008080; font-weight: bold\">100</span> руб.<span style=\"color: #800080; text-decoration-color: #800080\">/</span><span style=\"color: #ff00ff; text-decoration-color: #ff00ff\">мес.</span> Класс B+\n",
       "</pre>\n"
      ],
      "text/plain": [
       "Title: Всё включено, в т.ч. паркингОфис \u001b[1;36m529\u001b[0m м² за \u001b[1;36m1\u001b[0m \u001b[1;36m005\u001b[0m \u001b[1;36m100\u001b[0m руб.\u001b[35m/\u001b[0m\u001b[95mмес.\u001b[0m Класс B+\n"
      ]
     },
     "metadata": {},
     "output_type": "display_data"
    },
    {
     "data": {
      "text/html": [
       "<pre style=\"white-space:pre;overflow-x:auto;line-height:normal;font-family:Menlo,'DejaVu Sans Mono',consolas,'Courier New',monospace\">Address: Санкт-Петербург, р-н Центральный, Смольнинское, м. Площадь Восстания, проспект Бакунина, <span style=\"color: #008080; text-decoration-color: #008080; font-weight: bold\">5</span>\n",
       "</pre>\n"
      ],
      "text/plain": [
       "Address: Санкт-Петербург, р-н Центральный, Смольнинское, м. Площадь Восстания, проспект Бакунина, \u001b[1;36m5\u001b[0m\n"
      ]
     },
     "metadata": {},
     "output_type": "display_data"
    },
    {
     "data": {
      "text/html": [
       "<pre style=\"white-space:pre;overflow-x:auto;line-height:normal;font-family:Menlo,'DejaVu Sans Mono',consolas,'Courier New',monospace\">url <span style=\"color: #0000ff; text-decoration-color: #0000ff; text-decoration: underline\">https://spb.cian.ru/rent/commercial/305000971/</span>\n",
       "</pre>\n"
      ],
      "text/plain": [
       "url \u001b[4;94mhttps://spb.cian.ru/rent/commercial/305000971/\u001b[0m\n"
      ]
     },
     "metadata": {},
     "output_type": "display_data"
    },
    {
     "data": {
      "text/html": [
       "<pre style=\"white-space:pre;overflow-x:auto;line-height:normal;font-family:Menlo,'DejaVu Sans Mono',consolas,'Courier New',monospace\">price <span style=\"color: #008080; text-decoration-color: #008080; font-weight: bold\">1</span> <span style=\"color: #008080; text-decoration-color: #008080; font-weight: bold\">005</span> <span style=\"color: #008080; text-decoration-color: #008080; font-weight: bold\">100</span> руб.<span style=\"color: #800080; text-decoration-color: #800080\">/</span><span style=\"color: #ff00ff; text-decoration-color: #ff00ff\">мес.</span> Класс B+\n",
       "</pre>\n"
      ],
      "text/plain": [
       "price \u001b[1;36m1\u001b[0m \u001b[1;36m005\u001b[0m \u001b[1;36m100\u001b[0m руб.\u001b[35m/\u001b[0m\u001b[95mмес.\u001b[0m Класс B+\n"
      ]
     },
     "metadata": {},
     "output_type": "display_data"
    },
    {
     "data": {
      "text/html": [
       "<pre style=\"white-space:pre;overflow-x:auto;line-height:normal;font-family:Menlo,'DejaVu Sans Mono',consolas,'Courier New',monospace\">------------\n",
       "</pre>\n"
      ],
      "text/plain": [
       "------------\n"
      ]
     },
     "metadata": {},
     "output_type": "display_data"
    },
    {
     "data": {
      "text/html": [
       "<pre style=\"white-space:pre;overflow-x:auto;line-height:normal;font-family:Menlo,'DejaVu Sans Mono',consolas,'Courier New',monospace\">Title: Дизайнерский офис, всё включеноОфис <span style=\"color: #008080; text-decoration-color: #008080; font-weight: bold\">800</span> м² за <span style=\"color: #008080; text-decoration-color: #008080; font-weight: bold\">1</span> <span style=\"color: #008080; text-decoration-color: #008080; font-weight: bold\">480</span> <span style=\"color: #008080; text-decoration-color: #008080; font-weight: bold\">000</span> руб.<span style=\"color: #800080; text-decoration-color: #800080\">/</span><span style=\"color: #ff00ff; text-decoration-color: #ff00ff\">мес.</span> \n",
       "</pre>\n"
      ],
      "text/plain": [
       "Title: Дизайнерский офис, всё включеноОфис \u001b[1;36m800\u001b[0m м² за \u001b[1;36m1\u001b[0m \u001b[1;36m480\u001b[0m \u001b[1;36m000\u001b[0m руб.\u001b[35m/\u001b[0m\u001b[95mмес.\u001b[0m \n"
      ]
     },
     "metadata": {},
     "output_type": "display_data"
    },
    {
     "data": {
      "text/html": [
       "<pre style=\"white-space:pre;overflow-x:auto;line-height:normal;font-family:Menlo,'DejaVu Sans Mono',consolas,'Courier New',monospace\">Address: Санкт-Петербург, р-н Приморский, Озеро Долгое, м. Комендантский проспект, проспект Сизова, <span style=\"color: #008080; text-decoration-color: #008080; font-weight: bold\">9</span>\n",
       "</pre>\n"
      ],
      "text/plain": [
       "Address: Санкт-Петербург, р-н Приморский, Озеро Долгое, м. Комендантский проспект, проспект Сизова, \u001b[1;36m9\u001b[0m\n"
      ]
     },
     "metadata": {},
     "output_type": "display_data"
    },
    {
     "data": {
      "text/html": [
       "<pre style=\"white-space:pre;overflow-x:auto;line-height:normal;font-family:Menlo,'DejaVu Sans Mono',consolas,'Courier New',monospace\">url <span style=\"color: #0000ff; text-decoration-color: #0000ff; text-decoration: underline\">https://spb.cian.ru/rent/commercial/292945320/</span>\n",
       "</pre>\n"
      ],
      "text/plain": [
       "url \u001b[4;94mhttps://spb.cian.ru/rent/commercial/292945320/\u001b[0m\n"
      ]
     },
     "metadata": {},
     "output_type": "display_data"
    },
    {
     "data": {
      "text/html": [
       "<pre style=\"white-space:pre;overflow-x:auto;line-height:normal;font-family:Menlo,'DejaVu Sans Mono',consolas,'Courier New',monospace\">price <span style=\"color: #008080; text-decoration-color: #008080; font-weight: bold\">1</span> <span style=\"color: #008080; text-decoration-color: #008080; font-weight: bold\">480</span> <span style=\"color: #008080; text-decoration-color: #008080; font-weight: bold\">000</span> руб.<span style=\"color: #800080; text-decoration-color: #800080\">/</span><span style=\"color: #ff00ff; text-decoration-color: #ff00ff\">мес.</span> \n",
       "</pre>\n"
      ],
      "text/plain": [
       "price \u001b[1;36m1\u001b[0m \u001b[1;36m480\u001b[0m \u001b[1;36m000\u001b[0m руб.\u001b[35m/\u001b[0m\u001b[95mмес.\u001b[0m \n"
      ]
     },
     "metadata": {},
     "output_type": "display_data"
    },
    {
     "data": {
      "text/html": [
       "<pre style=\"white-space:pre;overflow-x:auto;line-height:normal;font-family:Menlo,'DejaVu Sans Mono',consolas,'Courier New',monospace\">------------\n",
       "</pre>\n"
      ],
      "text/plain": [
       "------------\n"
      ]
     },
     "metadata": {},
     "output_type": "display_data"
    },
    {
     "data": {
      "text/html": [
       "<pre style=\"white-space:pre;overflow-x:auto;line-height:normal;font-family:Menlo,'DejaVu Sans Mono',consolas,'Courier New',monospace\">Title:  Офис <span style=\"color: #008080; text-decoration-color: #008080; font-weight: bold\">1</span> <span style=\"color: #008080; text-decoration-color: #008080; font-weight: bold\">300</span>,<span style=\"color: #008080; text-decoration-color: #008080; font-weight: bold\">1</span> м² за <span style=\"color: #008080; text-decoration-color: #008080; font-weight: bold\">2</span> <span style=\"color: #008080; text-decoration-color: #008080; font-weight: bold\">860</span> <span style=\"color: #008080; text-decoration-color: #008080; font-weight: bold\">220</span> руб.<span style=\"color: #800080; text-decoration-color: #800080\">/</span><span style=\"color: #ff00ff; text-decoration-color: #ff00ff\">мес.Класс</span> A\n",
       "</pre>\n"
      ],
      "text/plain": [
       "Title:  Офис \u001b[1;36m1\u001b[0m \u001b[1;36m300\u001b[0m,\u001b[1;36m1\u001b[0m м² за \u001b[1;36m2\u001b[0m \u001b[1;36m860\u001b[0m \u001b[1;36m220\u001b[0m руб.\u001b[35m/\u001b[0m\u001b[95mмес.Класс\u001b[0m A\n"
      ]
     },
     "metadata": {},
     "output_type": "display_data"
    },
    {
     "data": {
      "text/html": [
       "<pre style=\"white-space:pre;overflow-x:auto;line-height:normal;font-family:Menlo,'DejaVu Sans Mono',consolas,'Courier New',monospace\">Address: Санкт-Петербург, р-н Центральный, Смольнинское, м. Площадь Восстания, <span style=\"color: #008080; text-decoration-color: #008080; font-weight: bold\">2</span>-я Советская улица, <span style=\"color: #008080; text-decoration-color: #008080; font-weight: bold\">7</span>\n",
       "</pre>\n"
      ],
      "text/plain": [
       "Address: Санкт-Петербург, р-н Центральный, Смольнинское, м. Площадь Восстания, \u001b[1;36m2\u001b[0m-я Советская улица, \u001b[1;36m7\u001b[0m\n"
      ]
     },
     "metadata": {},
     "output_type": "display_data"
    },
    {
     "data": {
      "text/html": [
       "<pre style=\"white-space:pre;overflow-x:auto;line-height:normal;font-family:Menlo,'DejaVu Sans Mono',consolas,'Courier New',monospace\">url <span style=\"color: #0000ff; text-decoration-color: #0000ff; text-decoration: underline\">https://spb.cian.ru/rent/commercial/305726318/</span>\n",
       "</pre>\n"
      ],
      "text/plain": [
       "url \u001b[4;94mhttps://spb.cian.ru/rent/commercial/305726318/\u001b[0m\n"
      ]
     },
     "metadata": {},
     "output_type": "display_data"
    },
    {
     "data": {
      "text/html": [
       "<pre style=\"white-space:pre;overflow-x:auto;line-height:normal;font-family:Menlo,'DejaVu Sans Mono',consolas,'Courier New',monospace\">price <span style=\"color: #008080; text-decoration-color: #008080; font-weight: bold\">2</span> <span style=\"color: #008080; text-decoration-color: #008080; font-weight: bold\">860</span> <span style=\"color: #008080; text-decoration-color: #008080; font-weight: bold\">220</span> руб.<span style=\"color: #800080; text-decoration-color: #800080\">/</span><span style=\"color: #ff00ff; text-decoration-color: #ff00ff\">мес.Класс</span> A\n",
       "</pre>\n"
      ],
      "text/plain": [
       "price \u001b[1;36m2\u001b[0m \u001b[1;36m860\u001b[0m \u001b[1;36m220\u001b[0m руб.\u001b[35m/\u001b[0m\u001b[95mмес.Класс\u001b[0m A\n"
      ]
     },
     "metadata": {},
     "output_type": "display_data"
    },
    {
     "data": {
      "text/html": [
       "<pre style=\"white-space:pre;overflow-x:auto;line-height:normal;font-family:Menlo,'DejaVu Sans Mono',consolas,'Courier New',monospace\">------------\n",
       "</pre>\n"
      ],
      "text/plain": [
       "------------\n"
      ]
     },
     "metadata": {},
     "output_type": "display_data"
    },
    {
     "data": {
      "text/html": [
       "<pre style=\"white-space:pre;overflow-x:auto;line-height:normal;font-family:Menlo,'DejaVu Sans Mono',consolas,'Courier New',monospace\">Title:  Торговая площадь <span style=\"color: #008080; text-decoration-color: #008080; font-weight: bold\">121</span>,<span style=\"color: #008080; text-decoration-color: #008080; font-weight: bold\">8</span> м² за <span style=\"color: #008080; text-decoration-color: #008080; font-weight: bold\">219</span> <span style=\"color: #008080; text-decoration-color: #008080; font-weight: bold\">240</span> руб.<span style=\"color: #800080; text-decoration-color: #800080\">/</span><span style=\"color: #ff00ff; text-decoration-color: #ff00ff\">мес.Класс</span> A\n",
       "</pre>\n"
      ],
      "text/plain": [
       "Title:  Торговая площадь \u001b[1;36m121\u001b[0m,\u001b[1;36m8\u001b[0m м² за \u001b[1;36m219\u001b[0m \u001b[1;36m240\u001b[0m руб.\u001b[35m/\u001b[0m\u001b[95mмес.Класс\u001b[0m A\n"
      ]
     },
     "metadata": {},
     "output_type": "display_data"
    },
    {
     "data": {
      "text/html": [
       "<pre style=\"white-space:pre;overflow-x:auto;line-height:normal;font-family:Menlo,'DejaVu Sans Mono',consolas,'Courier New',monospace\">Address: Санкт-Петербург, р-н Василеостровский, № <span style=\"color: #008080; text-decoration-color: #008080; font-weight: bold\">7</span>, м. Василеостровская, проспект Большой Васильевского острова, \n",
       "80Р\n",
       "</pre>\n"
      ],
      "text/plain": [
       "Address: Санкт-Петербург, р-н Василеостровский, № \u001b[1;36m7\u001b[0m, м. Василеостровская, проспект Большой Васильевского острова, \n",
       "80Р\n"
      ]
     },
     "metadata": {},
     "output_type": "display_data"
    },
    {
     "data": {
      "text/html": [
       "<pre style=\"white-space:pre;overflow-x:auto;line-height:normal;font-family:Menlo,'DejaVu Sans Mono',consolas,'Courier New',monospace\">url <span style=\"color: #0000ff; text-decoration-color: #0000ff; text-decoration: underline\">https://spb.cian.ru/rent/commercial/303864173/</span>\n",
       "</pre>\n"
      ],
      "text/plain": [
       "url \u001b[4;94mhttps://spb.cian.ru/rent/commercial/303864173/\u001b[0m\n"
      ]
     },
     "metadata": {},
     "output_type": "display_data"
    },
    {
     "data": {
      "text/html": [
       "<pre style=\"white-space:pre;overflow-x:auto;line-height:normal;font-family:Menlo,'DejaVu Sans Mono',consolas,'Courier New',monospace\">price <span style=\"color: #008080; text-decoration-color: #008080; font-weight: bold\">219</span> <span style=\"color: #008080; text-decoration-color: #008080; font-weight: bold\">240</span> руб.<span style=\"color: #800080; text-decoration-color: #800080\">/</span><span style=\"color: #ff00ff; text-decoration-color: #ff00ff\">мес.Класс</span> A\n",
       "</pre>\n"
      ],
      "text/plain": [
       "price \u001b[1;36m219\u001b[0m \u001b[1;36m240\u001b[0m руб.\u001b[35m/\u001b[0m\u001b[95mмес.Класс\u001b[0m A\n"
      ]
     },
     "metadata": {},
     "output_type": "display_data"
    },
    {
     "data": {
      "text/html": [
       "<pre style=\"white-space:pre;overflow-x:auto;line-height:normal;font-family:Menlo,'DejaVu Sans Mono',consolas,'Courier New',monospace\">------------\n",
       "</pre>\n"
      ],
      "text/plain": [
       "------------\n"
      ]
     },
     "metadata": {},
     "output_type": "display_data"
    },
    {
     "data": {
      "text/html": [
       "<pre style=\"white-space:pre;overflow-x:auto;line-height:normal;font-family:Menlo,'DejaVu Sans Mono',consolas,'Courier New',monospace\">Title:  Торговая площадь <span style=\"color: #008080; text-decoration-color: #008080; font-weight: bold\">270</span>,<span style=\"color: #008080; text-decoration-color: #008080; font-weight: bold\">7</span> м² за <span style=\"color: #008080; text-decoration-color: #008080; font-weight: bold\">378</span> <span style=\"color: #008080; text-decoration-color: #008080; font-weight: bold\">980</span> руб.<span style=\"color: #800080; text-decoration-color: #800080\">/</span><span style=\"color: #ff00ff; text-decoration-color: #ff00ff\">мес.Класс</span> A\n",
       "</pre>\n"
      ],
      "text/plain": [
       "Title:  Торговая площадь \u001b[1;36m270\u001b[0m,\u001b[1;36m7\u001b[0m м² за \u001b[1;36m378\u001b[0m \u001b[1;36m980\u001b[0m руб.\u001b[35m/\u001b[0m\u001b[95mмес.Класс\u001b[0m A\n"
      ]
     },
     "metadata": {},
     "output_type": "display_data"
    },
    {
     "data": {
      "text/html": [
       "<pre style=\"white-space:pre;overflow-x:auto;line-height:normal;font-family:Menlo,'DejaVu Sans Mono',consolas,'Courier New',monospace\">Address: Санкт-Петербург, р-н Центральный, Дворцовый, м. Невский проспект, Невский проспект, <span style=\"color: #008080; text-decoration-color: #008080; font-weight: bold\">38</span>/<span style=\"color: #008080; text-decoration-color: #008080; font-weight: bold\">4</span>\n",
       "</pre>\n"
      ],
      "text/plain": [
       "Address: Санкт-Петербург, р-н Центральный, Дворцовый, м. Невский проспект, Невский проспект, \u001b[1;36m38\u001b[0m/\u001b[1;36m4\u001b[0m\n"
      ]
     },
     "metadata": {},
     "output_type": "display_data"
    },
    {
     "data": {
      "text/html": [
       "<pre style=\"white-space:pre;overflow-x:auto;line-height:normal;font-family:Menlo,'DejaVu Sans Mono',consolas,'Courier New',monospace\">url <span style=\"color: #0000ff; text-decoration-color: #0000ff; text-decoration: underline\">https://spb.cian.ru/rent/commercial/272376333/</span>\n",
       "</pre>\n"
      ],
      "text/plain": [
       "url \u001b[4;94mhttps://spb.cian.ru/rent/commercial/272376333/\u001b[0m\n"
      ]
     },
     "metadata": {},
     "output_type": "display_data"
    },
    {
     "data": {
      "text/html": [
       "<pre style=\"white-space:pre;overflow-x:auto;line-height:normal;font-family:Menlo,'DejaVu Sans Mono',consolas,'Courier New',monospace\">price <span style=\"color: #008080; text-decoration-color: #008080; font-weight: bold\">378</span> <span style=\"color: #008080; text-decoration-color: #008080; font-weight: bold\">980</span> руб.<span style=\"color: #800080; text-decoration-color: #800080\">/</span><span style=\"color: #ff00ff; text-decoration-color: #ff00ff\">мес.Класс</span> A\n",
       "</pre>\n"
      ],
      "text/plain": [
       "price \u001b[1;36m378\u001b[0m \u001b[1;36m980\u001b[0m руб.\u001b[35m/\u001b[0m\u001b[95mмес.Класс\u001b[0m A\n"
      ]
     },
     "metadata": {},
     "output_type": "display_data"
    },
    {
     "data": {
      "text/html": [
       "<pre style=\"white-space:pre;overflow-x:auto;line-height:normal;font-family:Menlo,'DejaVu Sans Mono',consolas,'Courier New',monospace\">------------\n",
       "</pre>\n"
      ],
      "text/plain": [
       "------------\n"
      ]
     },
     "metadata": {},
     "output_type": "display_data"
    },
    {
     "data": {
      "text/html": [
       "<pre style=\"white-space:pre;overflow-x:auto;line-height:normal;font-family:Menlo,'DejaVu Sans Mono',consolas,'Courier New',monospace\">Title:  Офис <span style=\"color: #008080; text-decoration-color: #008080; font-weight: bold\">475</span>,<span style=\"color: #008080; text-decoration-color: #008080; font-weight: bold\">1</span> м² за <span style=\"color: #008080; text-decoration-color: #008080; font-weight: bold\">855</span> <span style=\"color: #008080; text-decoration-color: #008080; font-weight: bold\">180</span> руб.<span style=\"color: #800080; text-decoration-color: #800080\">/</span><span style=\"color: #ff00ff; text-decoration-color: #ff00ff\">мес.Класс</span> B\n",
       "</pre>\n"
      ],
      "text/plain": [
       "Title:  Офис \u001b[1;36m475\u001b[0m,\u001b[1;36m1\u001b[0m м² за \u001b[1;36m855\u001b[0m \u001b[1;36m180\u001b[0m руб.\u001b[35m/\u001b[0m\u001b[95mмес.Класс\u001b[0m B\n"
      ]
     },
     "metadata": {},
     "output_type": "display_data"
    },
    {
     "data": {
      "text/html": [
       "<pre style=\"white-space:pre;overflow-x:auto;line-height:normal;font-family:Menlo,'DejaVu Sans Mono',consolas,'Courier New',monospace\">Address: Санкт-Петербург, р-н Василеостровский, Васильевский, м. Василеостровская, <span style=\"color: #008080; text-decoration-color: #008080; font-weight: bold\">7</span>-я Васильевского острова линия,\n",
       "<span style=\"color: #008080; text-decoration-color: #008080; font-weight: bold\">76</span>\n",
       "</pre>\n"
      ],
      "text/plain": [
       "Address: Санкт-Петербург, р-н Василеостровский, Васильевский, м. Василеостровская, \u001b[1;36m7\u001b[0m-я Васильевского острова линия,\n",
       "\u001b[1;36m76\u001b[0m\n"
      ]
     },
     "metadata": {},
     "output_type": "display_data"
    },
    {
     "data": {
      "text/html": [
       "<pre style=\"white-space:pre;overflow-x:auto;line-height:normal;font-family:Menlo,'DejaVu Sans Mono',consolas,'Courier New',monospace\">url <span style=\"color: #0000ff; text-decoration-color: #0000ff; text-decoration: underline\">https://spb.cian.ru/rent/commercial/304729208/</span>\n",
       "</pre>\n"
      ],
      "text/plain": [
       "url \u001b[4;94mhttps://spb.cian.ru/rent/commercial/304729208/\u001b[0m\n"
      ]
     },
     "metadata": {},
     "output_type": "display_data"
    },
    {
     "data": {
      "text/html": [
       "<pre style=\"white-space:pre;overflow-x:auto;line-height:normal;font-family:Menlo,'DejaVu Sans Mono',consolas,'Courier New',monospace\">price <span style=\"color: #008080; text-decoration-color: #008080; font-weight: bold\">855</span> <span style=\"color: #008080; text-decoration-color: #008080; font-weight: bold\">180</span> руб.<span style=\"color: #800080; text-decoration-color: #800080\">/</span><span style=\"color: #ff00ff; text-decoration-color: #ff00ff\">мес.Класс</span> B\n",
       "</pre>\n"
      ],
      "text/plain": [
       "price \u001b[1;36m855\u001b[0m \u001b[1;36m180\u001b[0m руб.\u001b[35m/\u001b[0m\u001b[95mмес.Класс\u001b[0m B\n"
      ]
     },
     "metadata": {},
     "output_type": "display_data"
    },
    {
     "data": {
      "text/html": [
       "<pre style=\"white-space:pre;overflow-x:auto;line-height:normal;font-family:Menlo,'DejaVu Sans Mono',consolas,'Courier New',monospace\">------------\n",
       "</pre>\n"
      ],
      "text/plain": [
       "------------\n"
      ]
     },
     "metadata": {},
     "output_type": "display_data"
    },
    {
     "data": {
      "text/html": [
       "<pre style=\"white-space:pre;overflow-x:auto;line-height:normal;font-family:Menlo,'DejaVu Sans Mono',consolas,'Courier New',monospace\">Title:  Офис <span style=\"color: #008080; text-decoration-color: #008080; font-weight: bold\">1</span> <span style=\"color: #008080; text-decoration-color: #008080; font-weight: bold\">384</span>,<span style=\"color: #008080; text-decoration-color: #008080; font-weight: bold\">9</span> м² за <span style=\"color: #008080; text-decoration-color: #008080; font-weight: bold\">3</span> <span style=\"color: #008080; text-decoration-color: #008080; font-weight: bold\">185</span> <span style=\"color: #008080; text-decoration-color: #008080; font-weight: bold\">270</span> руб.<span style=\"color: #800080; text-decoration-color: #800080\">/</span><span style=\"color: #ff00ff; text-decoration-color: #ff00ff\">мес.Класс</span> A\n",
       "</pre>\n"
      ],
      "text/plain": [
       "Title:  Офис \u001b[1;36m1\u001b[0m \u001b[1;36m384\u001b[0m,\u001b[1;36m9\u001b[0m м² за \u001b[1;36m3\u001b[0m \u001b[1;36m185\u001b[0m \u001b[1;36m270\u001b[0m руб.\u001b[35m/\u001b[0m\u001b[95mмес.Класс\u001b[0m A\n"
      ]
     },
     "metadata": {},
     "output_type": "display_data"
    },
    {
     "data": {
      "text/html": [
       "<pre style=\"white-space:pre;overflow-x:auto;line-height:normal;font-family:Menlo,'DejaVu Sans Mono',consolas,'Courier New',monospace\">Address: Санкт-Петербург, р-н Петроградский, Кронверкское, м. Горьковская, улица Кропоткина, <span style=\"color: #008080; text-decoration-color: #008080; font-weight: bold\">1</span>\n",
       "</pre>\n"
      ],
      "text/plain": [
       "Address: Санкт-Петербург, р-н Петроградский, Кронверкское, м. Горьковская, улица Кропоткина, \u001b[1;36m1\u001b[0m\n"
      ]
     },
     "metadata": {},
     "output_type": "display_data"
    },
    {
     "data": {
      "text/html": [
       "<pre style=\"white-space:pre;overflow-x:auto;line-height:normal;font-family:Menlo,'DejaVu Sans Mono',consolas,'Courier New',monospace\">url <span style=\"color: #0000ff; text-decoration-color: #0000ff; text-decoration: underline\">https://spb.cian.ru/rent/commercial/304779430/</span>\n",
       "</pre>\n"
      ],
      "text/plain": [
       "url \u001b[4;94mhttps://spb.cian.ru/rent/commercial/304779430/\u001b[0m\n"
      ]
     },
     "metadata": {},
     "output_type": "display_data"
    },
    {
     "data": {
      "text/html": [
       "<pre style=\"white-space:pre;overflow-x:auto;line-height:normal;font-family:Menlo,'DejaVu Sans Mono',consolas,'Courier New',monospace\">price <span style=\"color: #008080; text-decoration-color: #008080; font-weight: bold\">3</span> <span style=\"color: #008080; text-decoration-color: #008080; font-weight: bold\">185</span> <span style=\"color: #008080; text-decoration-color: #008080; font-weight: bold\">270</span> руб.<span style=\"color: #800080; text-decoration-color: #800080\">/</span><span style=\"color: #ff00ff; text-decoration-color: #ff00ff\">мес.Класс</span> A\n",
       "</pre>\n"
      ],
      "text/plain": [
       "price \u001b[1;36m3\u001b[0m \u001b[1;36m185\u001b[0m \u001b[1;36m270\u001b[0m руб.\u001b[35m/\u001b[0m\u001b[95mмес.Класс\u001b[0m A\n"
      ]
     },
     "metadata": {},
     "output_type": "display_data"
    },
    {
     "data": {
      "text/html": [
       "<pre style=\"white-space:pre;overflow-x:auto;line-height:normal;font-family:Menlo,'DejaVu Sans Mono',consolas,'Courier New',monospace\">------------\n",
       "</pre>\n"
      ],
      "text/plain": [
       "------------\n"
      ]
     },
     "metadata": {},
     "output_type": "display_data"
    },
    {
     "data": {
      "text/html": [
       "<pre style=\"white-space:pre;overflow-x:auto;line-height:normal;font-family:Menlo,'DejaVu Sans Mono',consolas,'Courier New',monospace\">Title: Торговая площадь <span style=\"color: #008080; text-decoration-color: #008080; font-weight: bold\">50</span> м2 у м.ОзеркиТорговая площадь <span style=\"color: #008080; text-decoration-color: #008080; font-weight: bold\">50</span> м² за <span style=\"color: #008080; text-decoration-color: #008080; font-weight: bold\">110</span> <span style=\"color: #008080; text-decoration-color: #008080; font-weight: bold\">000</span> руб.<span style=\"color: #800080; text-decoration-color: #800080\">/</span><span style=\"color: #ff00ff; text-decoration-color: #ff00ff\">мес.</span> \n",
       "</pre>\n"
      ],
      "text/plain": [
       "Title: Торговая площадь \u001b[1;36m50\u001b[0m м2 у м.ОзеркиТорговая площадь \u001b[1;36m50\u001b[0m м² за \u001b[1;36m110\u001b[0m \u001b[1;36m000\u001b[0m руб.\u001b[35m/\u001b[0m\u001b[95mмес.\u001b[0m \n"
      ]
     },
     "metadata": {},
     "output_type": "display_data"
    },
    {
     "data": {
      "text/html": [
       "<pre style=\"white-space:pre;overflow-x:auto;line-height:normal;font-family:Menlo,'DejaVu Sans Mono',consolas,'Courier New',monospace\">Address: Санкт-Петербург, р-н Выборгский, Сосновское, м. Озерки, проспект Энгельса, 115К1\n",
       "</pre>\n"
      ],
      "text/plain": [
       "Address: Санкт-Петербург, р-н Выборгский, Сосновское, м. Озерки, проспект Энгельса, 115К1\n"
      ]
     },
     "metadata": {},
     "output_type": "display_data"
    },
    {
     "data": {
      "text/html": [
       "<pre style=\"white-space:pre;overflow-x:auto;line-height:normal;font-family:Menlo,'DejaVu Sans Mono',consolas,'Courier New',monospace\">url <span style=\"color: #0000ff; text-decoration-color: #0000ff; text-decoration: underline\">https://spb.cian.ru/rent/commercial/298223122/</span>\n",
       "</pre>\n"
      ],
      "text/plain": [
       "url \u001b[4;94mhttps://spb.cian.ru/rent/commercial/298223122/\u001b[0m\n"
      ]
     },
     "metadata": {},
     "output_type": "display_data"
    },
    {
     "data": {
      "text/html": [
       "<pre style=\"white-space:pre;overflow-x:auto;line-height:normal;font-family:Menlo,'DejaVu Sans Mono',consolas,'Courier New',monospace\">price <span style=\"color: #008080; text-decoration-color: #008080; font-weight: bold\">110</span> <span style=\"color: #008080; text-decoration-color: #008080; font-weight: bold\">000</span> руб.<span style=\"color: #800080; text-decoration-color: #800080\">/</span><span style=\"color: #ff00ff; text-decoration-color: #ff00ff\">мес.</span> \n",
       "</pre>\n"
      ],
      "text/plain": [
       "price \u001b[1;36m110\u001b[0m \u001b[1;36m000\u001b[0m руб.\u001b[35m/\u001b[0m\u001b[95mмес.\u001b[0m \n"
      ]
     },
     "metadata": {},
     "output_type": "display_data"
    },
    {
     "data": {
      "text/html": [
       "<pre style=\"white-space:pre;overflow-x:auto;line-height:normal;font-family:Menlo,'DejaVu Sans Mono',consolas,'Courier New',monospace\">------------\n",
       "</pre>\n"
      ],
      "text/plain": [
       "------------\n"
      ]
     },
     "metadata": {},
     "output_type": "display_data"
    },
    {
     "data": {
      "text/html": [
       "<pre style=\"white-space:pre;overflow-x:auto;line-height:normal;font-family:Menlo,'DejaVu Sans Mono',consolas,'Courier New',monospace\">Title: Свободного назначения, <span style=\"color: #008080; text-decoration-color: #008080; font-weight: bold\">1</span> <span style=\"color: #008080; text-decoration-color: #008080; font-weight: bold\">601</span> м²Своб. назнач. <span style=\"color: #008080; text-decoration-color: #008080; font-weight: bold\">1</span> <span style=\"color: #008080; text-decoration-color: #008080; font-weight: bold\">600</span>,<span style=\"color: #008080; text-decoration-color: #008080; font-weight: bold\">9</span> м² за <span style=\"color: #008080; text-decoration-color: #008080; font-weight: bold\">2</span> <span style=\"color: #008080; text-decoration-color: #008080; font-weight: bold\">500</span> <span style=\"color: #008080; text-decoration-color: #008080; font-weight: bold\">000</span> руб.<span style=\"color: #800080; text-decoration-color: #800080\">/</span><span style=\"color: #ff00ff; text-decoration-color: #ff00ff\">мес.</span> \n",
       "</pre>\n"
      ],
      "text/plain": [
       "Title: Свободного назначения, \u001b[1;36m1\u001b[0m \u001b[1;36m601\u001b[0m м²Своб. назнач. \u001b[1;36m1\u001b[0m \u001b[1;36m600\u001b[0m,\u001b[1;36m9\u001b[0m м² за \u001b[1;36m2\u001b[0m \u001b[1;36m500\u001b[0m \u001b[1;36m000\u001b[0m руб.\u001b[35m/\u001b[0m\u001b[95mмес.\u001b[0m \n"
      ]
     },
     "metadata": {},
     "output_type": "display_data"
    },
    {
     "data": {
      "text/html": [
       "<pre style=\"white-space:pre;overflow-x:auto;line-height:normal;font-family:Menlo,'DejaVu Sans Mono',consolas,'Courier New',monospace\">Address: Санкт-Петербург, р-н Петроградский, Петровский, м. Чкаловская, Ждановская улица, <span style=\"color: #008080; text-decoration-color: #008080; font-weight: bold\">45</span>\n",
       "</pre>\n"
      ],
      "text/plain": [
       "Address: Санкт-Петербург, р-н Петроградский, Петровский, м. Чкаловская, Ждановская улица, \u001b[1;36m45\u001b[0m\n"
      ]
     },
     "metadata": {},
     "output_type": "display_data"
    },
    {
     "data": {
      "text/html": [
       "<pre style=\"white-space:pre;overflow-x:auto;line-height:normal;font-family:Menlo,'DejaVu Sans Mono',consolas,'Courier New',monospace\">url <span style=\"color: #0000ff; text-decoration-color: #0000ff; text-decoration: underline\">https://spb.cian.ru/rent/commercial/308154530/</span>\n",
       "</pre>\n"
      ],
      "text/plain": [
       "url \u001b[4;94mhttps://spb.cian.ru/rent/commercial/308154530/\u001b[0m\n"
      ]
     },
     "metadata": {},
     "output_type": "display_data"
    },
    {
     "data": {
      "text/html": [
       "<pre style=\"white-space:pre;overflow-x:auto;line-height:normal;font-family:Menlo,'DejaVu Sans Mono',consolas,'Courier New',monospace\">price . назнач. <span style=\"color: #008080; text-decoration-color: #008080; font-weight: bold\">1</span> <span style=\"color: #008080; text-decoration-color: #008080; font-weight: bold\">600</span>,<span style=\"color: #008080; text-decoration-color: #008080; font-weight: bold\">9</span> м² за <span style=\"color: #008080; text-decoration-color: #008080; font-weight: bold\">2</span> <span style=\"color: #008080; text-decoration-color: #008080; font-weight: bold\">500</span> <span style=\"color: #008080; text-decoration-color: #008080; font-weight: bold\">000</span> руб.<span style=\"color: #800080; text-decoration-color: #800080\">/</span><span style=\"color: #ff00ff; text-decoration-color: #ff00ff\">мес.</span> \n",
       "</pre>\n"
      ],
      "text/plain": [
       "price . назнач. \u001b[1;36m1\u001b[0m \u001b[1;36m600\u001b[0m,\u001b[1;36m9\u001b[0m м² за \u001b[1;36m2\u001b[0m \u001b[1;36m500\u001b[0m \u001b[1;36m000\u001b[0m руб.\u001b[35m/\u001b[0m\u001b[95mмес.\u001b[0m \n"
      ]
     },
     "metadata": {},
     "output_type": "display_data"
    },
    {
     "data": {
      "text/html": [
       "<pre style=\"white-space:pre;overflow-x:auto;line-height:normal;font-family:Menlo,'DejaVu Sans Mono',consolas,'Courier New',monospace\">------------\n",
       "</pre>\n"
      ],
      "text/plain": [
       "------------\n"
      ]
     },
     "metadata": {},
     "output_type": "display_data"
    },
    {
     "data": {
      "text/html": [
       "<pre style=\"white-space:pre;overflow-x:auto;line-height:normal;font-family:Menlo,'DejaVu Sans Mono',consolas,'Courier New',monospace\">Title: Торговое помещение <span style=\"color: #008080; text-decoration-color: #008080; font-weight: bold\">263</span> м²Торговая площадь <span style=\"color: #008080; text-decoration-color: #008080; font-weight: bold\">263</span> м² за <span style=\"color: #008080; text-decoration-color: #008080; font-weight: bold\">526</span> <span style=\"color: #008080; text-decoration-color: #008080; font-weight: bold\">000</span> руб.<span style=\"color: #800080; text-decoration-color: #800080\">/</span><span style=\"color: #ff00ff; text-decoration-color: #ff00ff\">мес.</span> \n",
       "</pre>\n"
      ],
      "text/plain": [
       "Title: Торговое помещение \u001b[1;36m263\u001b[0m м²Торговая площадь \u001b[1;36m263\u001b[0m м² за \u001b[1;36m526\u001b[0m \u001b[1;36m000\u001b[0m руб.\u001b[35m/\u001b[0m\u001b[95mмес.\u001b[0m \n"
      ]
     },
     "metadata": {},
     "output_type": "display_data"
    },
    {
     "data": {
      "text/html": [
       "<pre style=\"white-space:pre;overflow-x:auto;line-height:normal;font-family:Menlo,'DejaVu Sans Mono',consolas,'Courier New',monospace\">Address: Санкт-Петербург, р-н Выборгский, м. Парнас, Домостроительная улица, <span style=\"color: #008080; text-decoration-color: #008080; font-weight: bold\">16</span>\n",
       "</pre>\n"
      ],
      "text/plain": [
       "Address: Санкт-Петербург, р-н Выборгский, м. Парнас, Домостроительная улица, \u001b[1;36m16\u001b[0m\n"
      ]
     },
     "metadata": {},
     "output_type": "display_data"
    },
    {
     "data": {
      "text/html": [
       "<pre style=\"white-space:pre;overflow-x:auto;line-height:normal;font-family:Menlo,'DejaVu Sans Mono',consolas,'Courier New',monospace\">url <span style=\"color: #0000ff; text-decoration-color: #0000ff; text-decoration: underline\">https://spb.cian.ru/rent/commercial/297750284/</span>\n",
       "</pre>\n"
      ],
      "text/plain": [
       "url \u001b[4;94mhttps://spb.cian.ru/rent/commercial/297750284/\u001b[0m\n"
      ]
     },
     "metadata": {},
     "output_type": "display_data"
    },
    {
     "data": {
      "text/html": [
       "<pre style=\"white-space:pre;overflow-x:auto;line-height:normal;font-family:Menlo,'DejaVu Sans Mono',consolas,'Courier New',monospace\">price овая площадь <span style=\"color: #008080; text-decoration-color: #008080; font-weight: bold\">263</span> м² за <span style=\"color: #008080; text-decoration-color: #008080; font-weight: bold\">526</span> <span style=\"color: #008080; text-decoration-color: #008080; font-weight: bold\">000</span> руб.<span style=\"color: #800080; text-decoration-color: #800080\">/</span><span style=\"color: #ff00ff; text-decoration-color: #ff00ff\">мес.</span> \n",
       "</pre>\n"
      ],
      "text/plain": [
       "price овая площадь \u001b[1;36m263\u001b[0m м² за \u001b[1;36m526\u001b[0m \u001b[1;36m000\u001b[0m руб.\u001b[35m/\u001b[0m\u001b[95mмес.\u001b[0m \n"
      ]
     },
     "metadata": {},
     "output_type": "display_data"
    },
    {
     "data": {
      "text/html": [
       "<pre style=\"white-space:pre;overflow-x:auto;line-height:normal;font-family:Menlo,'DejaVu Sans Mono',consolas,'Courier New',monospace\">------------\n",
       "</pre>\n"
      ],
      "text/plain": [
       "------------\n"
      ]
     },
     "metadata": {},
     "output_type": "display_data"
    },
    {
     "data": {
      "text/html": [
       "<pre style=\"white-space:pre;overflow-x:auto;line-height:normal;font-family:Menlo,'DejaVu Sans Mono',consolas,'Courier New',monospace\">Title:  Офис <span style=\"color: #008080; text-decoration-color: #008080; font-weight: bold\">11</span> м² за <span style=\"color: #008080; text-decoration-color: #008080; font-weight: bold\">12</span> <span style=\"color: #008080; text-decoration-color: #008080; font-weight: bold\">100</span> руб.<span style=\"color: #800080; text-decoration-color: #800080\">/</span><span style=\"color: #ff00ff; text-decoration-color: #ff00ff\">мес.</span>\n",
       "</pre>\n"
      ],
      "text/plain": [
       "Title:  Офис \u001b[1;36m11\u001b[0m м² за \u001b[1;36m12\u001b[0m \u001b[1;36m100\u001b[0m руб.\u001b[35m/\u001b[0m\u001b[95mмес.\u001b[0m\n"
      ]
     },
     "metadata": {},
     "output_type": "display_data"
    },
    {
     "data": {
      "text/html": [
       "<pre style=\"white-space:pre;overflow-x:auto;line-height:normal;font-family:Menlo,'DejaVu Sans Mono',consolas,'Courier New',monospace\">Address: Санкт-Петербург, р-н Выборгский, м. Парнас, Домостроительная улица, <span style=\"color: #008080; text-decoration-color: #008080; font-weight: bold\">16</span>\n",
       "</pre>\n"
      ],
      "text/plain": [
       "Address: Санкт-Петербург, р-н Выборгский, м. Парнас, Домостроительная улица, \u001b[1;36m16\u001b[0m\n"
      ]
     },
     "metadata": {},
     "output_type": "display_data"
    },
    {
     "data": {
      "text/html": [
       "<pre style=\"white-space:pre;overflow-x:auto;line-height:normal;font-family:Menlo,'DejaVu Sans Mono',consolas,'Courier New',monospace\">url <span style=\"color: #0000ff; text-decoration-color: #0000ff; text-decoration: underline\">https://spb.cian.ru/rent/commercial/302450830/</span>\n",
       "</pre>\n"
      ],
      "text/plain": [
       "url \u001b[4;94mhttps://spb.cian.ru/rent/commercial/302450830/\u001b[0m\n"
      ]
     },
     "metadata": {},
     "output_type": "display_data"
    },
    {
     "data": {
      "text/html": [
       "<pre style=\"white-space:pre;overflow-x:auto;line-height:normal;font-family:Menlo,'DejaVu Sans Mono',consolas,'Courier New',monospace\">price <span style=\"color: #008080; text-decoration-color: #008080; font-weight: bold\">12</span> <span style=\"color: #008080; text-decoration-color: #008080; font-weight: bold\">100</span> руб.<span style=\"color: #800080; text-decoration-color: #800080\">/</span><span style=\"color: #ff00ff; text-decoration-color: #ff00ff\">мес.</span>\n",
       "</pre>\n"
      ],
      "text/plain": [
       "price \u001b[1;36m12\u001b[0m \u001b[1;36m100\u001b[0m руб.\u001b[35m/\u001b[0m\u001b[95mмес.\u001b[0m\n"
      ]
     },
     "metadata": {},
     "output_type": "display_data"
    },
    {
     "data": {
      "text/html": [
       "<pre style=\"white-space:pre;overflow-x:auto;line-height:normal;font-family:Menlo,'DejaVu Sans Mono',consolas,'Courier New',monospace\">------------\n",
       "</pre>\n"
      ],
      "text/plain": [
       "------------\n"
      ]
     },
     "metadata": {},
     "output_type": "display_data"
    },
    {
     "data": {
      "text/html": [
       "<pre style=\"white-space:pre;overflow-x:auto;line-height:normal;font-family:Menlo,'DejaVu Sans Mono',consolas,'Courier New',monospace\">Title:  Офис <span style=\"color: #008080; text-decoration-color: #008080; font-weight: bold\">62</span> м² за <span style=\"color: #008080; text-decoration-color: #008080; font-weight: bold\">80</span> <span style=\"color: #008080; text-decoration-color: #008080; font-weight: bold\">600</span> руб.<span style=\"color: #800080; text-decoration-color: #800080\">/</span><span style=\"color: #ff00ff; text-decoration-color: #ff00ff\">мес.</span>\n",
       "</pre>\n"
      ],
      "text/plain": [
       "Title:  Офис \u001b[1;36m62\u001b[0m м² за \u001b[1;36m80\u001b[0m \u001b[1;36m600\u001b[0m руб.\u001b[35m/\u001b[0m\u001b[95mмес.\u001b[0m\n"
      ]
     },
     "metadata": {},
     "output_type": "display_data"
    },
    {
     "data": {
      "text/html": [
       "<pre style=\"white-space:pre;overflow-x:auto;line-height:normal;font-family:Menlo,'DejaVu Sans Mono',consolas,'Courier New',monospace\">Address: Санкт-Петербург, р-н Выборгский, м. Парнас, Домостроительная улица, <span style=\"color: #008080; text-decoration-color: #008080; font-weight: bold\">16</span>\n",
       "</pre>\n"
      ],
      "text/plain": [
       "Address: Санкт-Петербург, р-н Выборгский, м. Парнас, Домостроительная улица, \u001b[1;36m16\u001b[0m\n"
      ]
     },
     "metadata": {},
     "output_type": "display_data"
    },
    {
     "data": {
      "text/html": [
       "<pre style=\"white-space:pre;overflow-x:auto;line-height:normal;font-family:Menlo,'DejaVu Sans Mono',consolas,'Courier New',monospace\">url <span style=\"color: #0000ff; text-decoration-color: #0000ff; text-decoration: underline\">https://spb.cian.ru/rent/commercial/302453636/</span>\n",
       "</pre>\n"
      ],
      "text/plain": [
       "url \u001b[4;94mhttps://spb.cian.ru/rent/commercial/302453636/\u001b[0m\n"
      ]
     },
     "metadata": {},
     "output_type": "display_data"
    },
    {
     "data": {
      "text/html": [
       "<pre style=\"white-space:pre;overflow-x:auto;line-height:normal;font-family:Menlo,'DejaVu Sans Mono',consolas,'Courier New',monospace\">price <span style=\"color: #008080; text-decoration-color: #008080; font-weight: bold\">80</span> <span style=\"color: #008080; text-decoration-color: #008080; font-weight: bold\">600</span> руб.<span style=\"color: #800080; text-decoration-color: #800080\">/</span><span style=\"color: #ff00ff; text-decoration-color: #ff00ff\">мес.</span>\n",
       "</pre>\n"
      ],
      "text/plain": [
       "price \u001b[1;36m80\u001b[0m \u001b[1;36m600\u001b[0m руб.\u001b[35m/\u001b[0m\u001b[95mмес.\u001b[0m\n"
      ]
     },
     "metadata": {},
     "output_type": "display_data"
    },
    {
     "data": {
      "text/html": [
       "<pre style=\"white-space:pre;overflow-x:auto;line-height:normal;font-family:Menlo,'DejaVu Sans Mono',consolas,'Courier New',monospace\">------------\n",
       "</pre>\n"
      ],
      "text/plain": [
       "------------\n"
      ]
     },
     "metadata": {},
     "output_type": "display_data"
    },
    {
     "data": {
      "text/html": [
       "<pre style=\"white-space:pre;overflow-x:auto;line-height:normal;font-family:Menlo,'DejaVu Sans Mono',consolas,'Courier New',monospace\">Title: Офис в аренду <span style=\"color: #008080; text-decoration-color: #008080; font-weight: bold\">50</span>,<span style=\"color: #008080; text-decoration-color: #008080; font-weight: bold\">7</span> кв.мОфис <span style=\"color: #008080; text-decoration-color: #008080; font-weight: bold\">50</span> м² за <span style=\"color: #008080; text-decoration-color: #008080; font-weight: bold\">50</span> <span style=\"color: #008080; text-decoration-color: #008080; font-weight: bold\">000</span> руб.<span style=\"color: #800080; text-decoration-color: #800080\">/</span><span style=\"color: #ff00ff; text-decoration-color: #ff00ff\">мес.</span> Класс C\n",
       "</pre>\n"
      ],
      "text/plain": [
       "Title: Офис в аренду \u001b[1;36m50\u001b[0m,\u001b[1;36m7\u001b[0m кв.мОфис \u001b[1;36m50\u001b[0m м² за \u001b[1;36m50\u001b[0m \u001b[1;36m000\u001b[0m руб.\u001b[35m/\u001b[0m\u001b[95mмес.\u001b[0m Класс C\n"
      ]
     },
     "metadata": {},
     "output_type": "display_data"
    },
    {
     "data": {
      "text/html": [
       "<pre style=\"white-space:pre;overflow-x:auto;line-height:normal;font-family:Menlo,'DejaVu Sans Mono',consolas,'Courier New',monospace\">Address: Санкт-Петербург, р-н Выборгский, Сампсониевское, м. Выборгская, Литовская улица, <span style=\"color: #008080; text-decoration-color: #008080; font-weight: bold\">10</span>\n",
       "</pre>\n"
      ],
      "text/plain": [
       "Address: Санкт-Петербург, р-н Выборгский, Сампсониевское, м. Выборгская, Литовская улица, \u001b[1;36m10\u001b[0m\n"
      ]
     },
     "metadata": {},
     "output_type": "display_data"
    },
    {
     "data": {
      "text/html": [
       "<pre style=\"white-space:pre;overflow-x:auto;line-height:normal;font-family:Menlo,'DejaVu Sans Mono',consolas,'Courier New',monospace\">url <span style=\"color: #0000ff; text-decoration-color: #0000ff; text-decoration: underline\">https://spb.cian.ru/rent/commercial/306789902/</span>\n",
       "</pre>\n"
      ],
      "text/plain": [
       "url \u001b[4;94mhttps://spb.cian.ru/rent/commercial/306789902/\u001b[0m\n"
      ]
     },
     "metadata": {},
     "output_type": "display_data"
    },
    {
     "data": {
      "text/html": [
       "<pre style=\"white-space:pre;overflow-x:auto;line-height:normal;font-family:Menlo,'DejaVu Sans Mono',consolas,'Courier New',monospace\">price <span style=\"color: #008080; text-decoration-color: #008080; font-weight: bold\">50</span> <span style=\"color: #008080; text-decoration-color: #008080; font-weight: bold\">000</span> руб.<span style=\"color: #800080; text-decoration-color: #800080\">/</span><span style=\"color: #ff00ff; text-decoration-color: #ff00ff\">мес.</span> Класс C\n",
       "</pre>\n"
      ],
      "text/plain": [
       "price \u001b[1;36m50\u001b[0m \u001b[1;36m000\u001b[0m руб.\u001b[35m/\u001b[0m\u001b[95mмес.\u001b[0m Класс C\n"
      ]
     },
     "metadata": {},
     "output_type": "display_data"
    },
    {
     "data": {
      "text/html": [
       "<pre style=\"white-space:pre;overflow-x:auto;line-height:normal;font-family:Menlo,'DejaVu Sans Mono',consolas,'Courier New',monospace\">------------\n",
       "</pre>\n"
      ],
      "text/plain": [
       "------------\n"
      ]
     },
     "metadata": {},
     "output_type": "display_data"
    },
    {
     "data": {
      "text/html": [
       "<pre style=\"white-space:pre;overflow-x:auto;line-height:normal;font-family:Menlo,'DejaVu Sans Mono',consolas,'Courier New',monospace\">Title:  Офис <span style=\"color: #008080; text-decoration-color: #008080; font-weight: bold\">20</span> м² за <span style=\"color: #008080; text-decoration-color: #008080; font-weight: bold\">31</span> <span style=\"color: #008080; text-decoration-color: #008080; font-weight: bold\">000</span> руб.<span style=\"color: #800080; text-decoration-color: #800080\">/</span><span style=\"color: #ff00ff; text-decoration-color: #ff00ff\">мес.</span>\n",
       "</pre>\n"
      ],
      "text/plain": [
       "Title:  Офис \u001b[1;36m20\u001b[0m м² за \u001b[1;36m31\u001b[0m \u001b[1;36m000\u001b[0m руб.\u001b[35m/\u001b[0m\u001b[95mмес.\u001b[0m\n"
      ]
     },
     "metadata": {},
     "output_type": "display_data"
    },
    {
     "data": {
      "text/html": [
       "<pre style=\"white-space:pre;overflow-x:auto;line-height:normal;font-family:Menlo,'DejaVu Sans Mono',consolas,'Courier New',monospace\">Address: Санкт-Петербург, р-н Выборгский, м. Парнас, Домостроительная улица, <span style=\"color: #008080; text-decoration-color: #008080; font-weight: bold\">16</span>\n",
       "</pre>\n"
      ],
      "text/plain": [
       "Address: Санкт-Петербург, р-н Выборгский, м. Парнас, Домостроительная улица, \u001b[1;36m16\u001b[0m\n"
      ]
     },
     "metadata": {},
     "output_type": "display_data"
    },
    {
     "data": {
      "text/html": [
       "<pre style=\"white-space:pre;overflow-x:auto;line-height:normal;font-family:Menlo,'DejaVu Sans Mono',consolas,'Courier New',monospace\">url <span style=\"color: #0000ff; text-decoration-color: #0000ff; text-decoration: underline\">https://spb.cian.ru/rent/commercial/302452394/</span>\n",
       "</pre>\n"
      ],
      "text/plain": [
       "url \u001b[4;94mhttps://spb.cian.ru/rent/commercial/302452394/\u001b[0m\n"
      ]
     },
     "metadata": {},
     "output_type": "display_data"
    },
    {
     "data": {
      "text/html": [
       "<pre style=\"white-space:pre;overflow-x:auto;line-height:normal;font-family:Menlo,'DejaVu Sans Mono',consolas,'Courier New',monospace\">price <span style=\"color: #008080; text-decoration-color: #008080; font-weight: bold\">31</span> <span style=\"color: #008080; text-decoration-color: #008080; font-weight: bold\">000</span> руб.<span style=\"color: #800080; text-decoration-color: #800080\">/</span><span style=\"color: #ff00ff; text-decoration-color: #ff00ff\">мес.</span>\n",
       "</pre>\n"
      ],
      "text/plain": [
       "price \u001b[1;36m31\u001b[0m \u001b[1;36m000\u001b[0m руб.\u001b[35m/\u001b[0m\u001b[95mмес.\u001b[0m\n"
      ]
     },
     "metadata": {},
     "output_type": "display_data"
    },
    {
     "data": {
      "text/html": [
       "<pre style=\"white-space:pre;overflow-x:auto;line-height:normal;font-family:Menlo,'DejaVu Sans Mono',consolas,'Courier New',monospace\">------------\n",
       "</pre>\n"
      ],
      "text/plain": [
       "------------\n"
      ]
     },
     "metadata": {},
     "output_type": "display_data"
    },
    {
     "data": {
      "text/html": [
       "<pre style=\"white-space:pre;overflow-x:auto;line-height:normal;font-family:Menlo,'DejaVu Sans Mono',consolas,'Courier New',monospace\">Title: Автосалон/ПомещениеСвоб. назнач. <span style=\"color: #008080; text-decoration-color: #008080; font-weight: bold\">1</span> <span style=\"color: #008080; text-decoration-color: #008080; font-weight: bold\">077</span> м² за <span style=\"color: #008080; text-decoration-color: #008080; font-weight: bold\">1</span> <span style=\"color: #008080; text-decoration-color: #008080; font-weight: bold\">615</span> <span style=\"color: #008080; text-decoration-color: #008080; font-weight: bold\">500</span> руб.<span style=\"color: #800080; text-decoration-color: #800080\">/</span><span style=\"color: #ff00ff; text-decoration-color: #ff00ff\">мес.</span> \n",
       "</pre>\n"
      ],
      "text/plain": [
       "Title: Автосалон/ПомещениеСвоб. назнач. \u001b[1;36m1\u001b[0m \u001b[1;36m077\u001b[0m м² за \u001b[1;36m1\u001b[0m \u001b[1;36m615\u001b[0m \u001b[1;36m500\u001b[0m руб.\u001b[35m/\u001b[0m\u001b[95mмес.\u001b[0m \n"
      ]
     },
     "metadata": {},
     "output_type": "display_data"
    },
    {
     "data": {
      "text/html": [
       "<pre style=\"white-space:pre;overflow-x:auto;line-height:normal;font-family:Menlo,'DejaVu Sans Mono',consolas,'Courier New',monospace\">Address: Санкт-Петербург, р-н Выборгский, м. Парнас, Домостроительная улица, <span style=\"color: #008080; text-decoration-color: #008080; font-weight: bold\">16</span>\n",
       "</pre>\n"
      ],
      "text/plain": [
       "Address: Санкт-Петербург, р-н Выборгский, м. Парнас, Домостроительная улица, \u001b[1;36m16\u001b[0m\n"
      ]
     },
     "metadata": {},
     "output_type": "display_data"
    },
    {
     "data": {
      "text/html": [
       "<pre style=\"white-space:pre;overflow-x:auto;line-height:normal;font-family:Menlo,'DejaVu Sans Mono',consolas,'Courier New',monospace\">url <span style=\"color: #0000ff; text-decoration-color: #0000ff; text-decoration: underline\">https://spb.cian.ru/rent/commercial/290908568/</span>\n",
       "</pre>\n"
      ],
      "text/plain": [
       "url \u001b[4;94mhttps://spb.cian.ru/rent/commercial/290908568/\u001b[0m\n"
      ]
     },
     "metadata": {},
     "output_type": "display_data"
    },
    {
     "data": {
      "text/html": [
       "<pre style=\"white-space:pre;overflow-x:auto;line-height:normal;font-family:Menlo,'DejaVu Sans Mono',consolas,'Courier New',monospace\">price <span style=\"color: #008080; text-decoration-color: #008080; font-weight: bold\">1</span> <span style=\"color: #008080; text-decoration-color: #008080; font-weight: bold\">615</span> <span style=\"color: #008080; text-decoration-color: #008080; font-weight: bold\">500</span> руб.<span style=\"color: #800080; text-decoration-color: #800080\">/</span><span style=\"color: #ff00ff; text-decoration-color: #ff00ff\">мес.</span> \n",
       "</pre>\n"
      ],
      "text/plain": [
       "price \u001b[1;36m1\u001b[0m \u001b[1;36m615\u001b[0m \u001b[1;36m500\u001b[0m руб.\u001b[35m/\u001b[0m\u001b[95mмес.\u001b[0m \n"
      ]
     },
     "metadata": {},
     "output_type": "display_data"
    },
    {
     "data": {
      "text/html": [
       "<pre style=\"white-space:pre;overflow-x:auto;line-height:normal;font-family:Menlo,'DejaVu Sans Mono',consolas,'Courier New',monospace\">------------\n",
       "</pre>\n"
      ],
      "text/plain": [
       "------------\n"
      ]
     },
     "metadata": {},
     "output_type": "display_data"
    },
    {
     "data": {
      "text/html": [
       "<pre style=\"white-space:pre;overflow-x:auto;line-height:normal;font-family:Menlo,'DejaVu Sans Mono',consolas,'Courier New',monospace\">Title: Стильный офис в центреОфис <span style=\"color: #008080; text-decoration-color: #008080; font-weight: bold\">230</span> м² за <span style=\"color: #008080; text-decoration-color: #008080; font-weight: bold\">395</span> <span style=\"color: #008080; text-decoration-color: #008080; font-weight: bold\">000</span> руб.<span style=\"color: #800080; text-decoration-color: #800080\">/</span><span style=\"color: #ff00ff; text-decoration-color: #ff00ff\">мес.</span> \n",
       "</pre>\n"
      ],
      "text/plain": [
       "Title: Стильный офис в центреОфис \u001b[1;36m230\u001b[0m м² за \u001b[1;36m395\u001b[0m \u001b[1;36m000\u001b[0m руб.\u001b[35m/\u001b[0m\u001b[95mмес.\u001b[0m \n"
      ]
     },
     "metadata": {},
     "output_type": "display_data"
    },
    {
     "data": {
      "text/html": [
       "<pre style=\"white-space:pre;overflow-x:auto;line-height:normal;font-family:Menlo,'DejaVu Sans Mono',consolas,'Courier New',monospace\">Address: Санкт-Петербург, р-н Центральный, Смольнинское, м. Площадь Восстания, Невский проспект, 134Б\n",
       "</pre>\n"
      ],
      "text/plain": [
       "Address: Санкт-Петербург, р-н Центральный, Смольнинское, м. Площадь Восстания, Невский проспект, 134Б\n"
      ]
     },
     "metadata": {},
     "output_type": "display_data"
    },
    {
     "data": {
      "text/html": [
       "<pre style=\"white-space:pre;overflow-x:auto;line-height:normal;font-family:Menlo,'DejaVu Sans Mono',consolas,'Courier New',monospace\">url <span style=\"color: #0000ff; text-decoration-color: #0000ff; text-decoration: underline\">https://spb.cian.ru/rent/commercial/307438097/</span>\n",
       "</pre>\n"
      ],
      "text/plain": [
       "url \u001b[4;94mhttps://spb.cian.ru/rent/commercial/307438097/\u001b[0m\n"
      ]
     },
     "metadata": {},
     "output_type": "display_data"
    },
    {
     "data": {
      "text/html": [
       "<pre style=\"white-space:pre;overflow-x:auto;line-height:normal;font-family:Menlo,'DejaVu Sans Mono',consolas,'Courier New',monospace\">price <span style=\"color: #008080; text-decoration-color: #008080; font-weight: bold\">395</span> <span style=\"color: #008080; text-decoration-color: #008080; font-weight: bold\">000</span> руб.<span style=\"color: #800080; text-decoration-color: #800080\">/</span><span style=\"color: #ff00ff; text-decoration-color: #ff00ff\">мес.</span> \n",
       "</pre>\n"
      ],
      "text/plain": [
       "price \u001b[1;36m395\u001b[0m \u001b[1;36m000\u001b[0m руб.\u001b[35m/\u001b[0m\u001b[95mмес.\u001b[0m \n"
      ]
     },
     "metadata": {},
     "output_type": "display_data"
    },
    {
     "data": {
      "text/html": [
       "<pre style=\"white-space:pre;overflow-x:auto;line-height:normal;font-family:Menlo,'DejaVu Sans Mono',consolas,'Courier New',monospace\">------------\n",
       "</pre>\n"
      ],
      "text/plain": [
       "------------\n"
      ]
     },
     "metadata": {},
     "output_type": "display_data"
    },
    {
     "data": {
      "text/html": [
       "<pre style=\"white-space:pre;overflow-x:auto;line-height:normal;font-family:Menlo,'DejaVu Sans Mono',consolas,'Courier New',monospace\">Title: Аренда склада для хранения вещейСклад <span style=\"color: #008080; text-decoration-color: #008080; font-weight: bold\">4</span>,<span style=\"color: #008080; text-decoration-color: #008080; font-weight: bold\">2</span> м² за <span style=\"color: #008080; text-decoration-color: #008080; font-weight: bold\">5</span> <span style=\"color: #008080; text-decoration-color: #008080; font-weight: bold\">500</span> руб.<span style=\"color: #800080; text-decoration-color: #800080\">/</span><span style=\"color: #ff00ff; text-decoration-color: #ff00ff\">мес.</span> \n",
       "</pre>\n"
      ],
      "text/plain": [
       "Title: Аренда склада для хранения вещейСклад \u001b[1;36m4\u001b[0m,\u001b[1;36m2\u001b[0m м² за \u001b[1;36m5\u001b[0m \u001b[1;36m500\u001b[0m руб.\u001b[35m/\u001b[0m\u001b[95mмес.\u001b[0m \n"
      ]
     },
     "metadata": {},
     "output_type": "display_data"
    },
    {
     "data": {
      "text/html": [
       "<pre style=\"white-space:pre;overflow-x:auto;line-height:normal;font-family:Menlo,'DejaVu Sans Mono',consolas,'Courier New',monospace\">Address: Санкт-Петербург, р-н Московский, Московская застава, м. Волковская, улица Емельянова, 12Р\n",
       "</pre>\n"
      ],
      "text/plain": [
       "Address: Санкт-Петербург, р-н Московский, Московская застава, м. Волковская, улица Емельянова, 12Р\n"
      ]
     },
     "metadata": {},
     "output_type": "display_data"
    },
    {
     "data": {
      "text/html": [
       "<pre style=\"white-space:pre;overflow-x:auto;line-height:normal;font-family:Menlo,'DejaVu Sans Mono',consolas,'Courier New',monospace\">url <span style=\"color: #0000ff; text-decoration-color: #0000ff; text-decoration: underline\">https://spb.cian.ru/rent/commercial/282384273/</span>\n",
       "</pre>\n"
      ],
      "text/plain": [
       "url \u001b[4;94mhttps://spb.cian.ru/rent/commercial/282384273/\u001b[0m\n"
      ]
     },
     "metadata": {},
     "output_type": "display_data"
    },
    {
     "data": {
      "text/html": [
       "<pre style=\"white-space:pre;overflow-x:auto;line-height:normal;font-family:Menlo,'DejaVu Sans Mono',consolas,'Courier New',monospace\">price <span style=\"color: #008080; text-decoration-color: #008080; font-weight: bold\">5</span> <span style=\"color: #008080; text-decoration-color: #008080; font-weight: bold\">500</span> руб.<span style=\"color: #800080; text-decoration-color: #800080\">/</span><span style=\"color: #ff00ff; text-decoration-color: #ff00ff\">мес.</span> \n",
       "</pre>\n"
      ],
      "text/plain": [
       "price \u001b[1;36m5\u001b[0m \u001b[1;36m500\u001b[0m руб.\u001b[35m/\u001b[0m\u001b[95mмес.\u001b[0m \n"
      ]
     },
     "metadata": {},
     "output_type": "display_data"
    },
    {
     "data": {
      "text/html": [
       "<pre style=\"white-space:pre;overflow-x:auto;line-height:normal;font-family:Menlo,'DejaVu Sans Mono',consolas,'Courier New',monospace\">------------\n",
       "</pre>\n"
      ],
      "text/plain": [
       "------------\n"
      ]
     },
     "metadata": {},
     "output_type": "display_data"
    },
    {
     "data": {
      "text/html": [
       "<pre style=\"white-space:pre;overflow-x:auto;line-height:normal;font-family:Menlo,'DejaVu Sans Mono',consolas,'Courier New',monospace\">Title: ОфисыLeader Tower <span style=\"font-weight: bold\">(</span>Лидер Тауэр<span style=\"font-weight: bold\">)</span><span style=\"color: #008080; text-decoration-color: #008080; font-weight: bold\">505</span>,<span style=\"color: #008080; text-decoration-color: #008080; font-weight: bold\">3</span> – <span style=\"color: #008080; text-decoration-color: #008080; font-weight: bold\">2</span> <span style=\"color: #008080; text-decoration-color: #008080; font-weight: bold\">175</span>,<span style=\"color: #008080; text-decoration-color: #008080; font-weight: bold\">4</span> м² от <span style=\"color: #008080; text-decoration-color: #008080; font-weight: bold\">960</span> <span style=\"color: #008080; text-decoration-color: #008080; font-weight: bold\">070</span> ₽<span style=\"color: #800080; text-decoration-color: #800080\">/</span><span style=\"color: #ff00ff; text-decoration-color: #ff00ff\">мес.Видовые</span> этажи в Leader Tower\n",
       "</pre>\n"
      ],
      "text/plain": [
       "Title: ОфисыLeader Tower \u001b[1m(\u001b[0mЛидер Тауэр\u001b[1m)\u001b[0m\u001b[1;36m505\u001b[0m,\u001b[1;36m3\u001b[0m – \u001b[1;36m2\u001b[0m \u001b[1;36m175\u001b[0m,\u001b[1;36m4\u001b[0m м² от \u001b[1;36m960\u001b[0m \u001b[1;36m070\u001b[0m ₽\u001b[35m/\u001b[0m\u001b[95mмес.Видовые\u001b[0m этажи в Leader Tower\n"
      ]
     },
     "metadata": {},
     "output_type": "display_data"
    },
    {
     "data": {
      "text/html": [
       "<pre style=\"white-space:pre;overflow-x:auto;line-height:normal;font-family:Menlo,'DejaVu Sans Mono',consolas,'Courier New',monospace\">Address: Санкт-Петербург, р-н Московский, Новоизмайловское, м. Московская, площадь Конституции, 3к2\n",
       "</pre>\n"
      ],
      "text/plain": [
       "Address: Санкт-Петербург, р-н Московский, Новоизмайловское, м. Московская, площадь Конституции, 3к2\n"
      ]
     },
     "metadata": {},
     "output_type": "display_data"
    },
    {
     "data": {
      "text/html": [
       "<pre style=\"white-space:pre;overflow-x:auto;line-height:normal;font-family:Menlo,'DejaVu Sans Mono',consolas,'Courier New',monospace\">url <span style=\"color: #0000ff; text-decoration-color: #0000ff; text-decoration: underline\">https://spb.cian.ru/rent/commercial/303120374/</span>\n",
       "</pre>\n"
      ],
      "text/plain": [
       "url \u001b[4;94mhttps://spb.cian.ru/rent/commercial/303120374/\u001b[0m\n"
      ]
     },
     "metadata": {},
     "output_type": "display_data"
    },
    {
     "data": {
      "text/html": [
       "<pre style=\"white-space:pre;overflow-x:auto;line-height:normal;font-family:Menlo,'DejaVu Sans Mono',consolas,'Courier New',monospace\">price <span style=\"color: #008080; text-decoration-color: #008080; font-weight: bold\">960</span> <span style=\"color: #008080; text-decoration-color: #008080; font-weight: bold\">070</span> ₽<span style=\"color: #800080; text-decoration-color: #800080\">/</span><span style=\"color: #ff00ff; text-decoration-color: #ff00ff\">мес.Видовые</span> этажи в Leader Tower\n",
       "</pre>\n"
      ],
      "text/plain": [
       "price \u001b[1;36m960\u001b[0m \u001b[1;36m070\u001b[0m ₽\u001b[35m/\u001b[0m\u001b[95mмес.Видовые\u001b[0m этажи в Leader Tower\n"
      ]
     },
     "metadata": {},
     "output_type": "display_data"
    },
    {
     "data": {
      "text/html": [
       "<pre style=\"white-space:pre;overflow-x:auto;line-height:normal;font-family:Menlo,'DejaVu Sans Mono',consolas,'Courier New',monospace\">------------\n",
       "</pre>\n"
      ],
      "text/plain": [
       "------------\n"
      ]
     },
     "metadata": {},
     "output_type": "display_data"
    },
    {
     "data": {
      "text/html": [
       "<pre style=\"white-space:pre;overflow-x:auto;line-height:normal;font-family:Menlo,'DejaVu Sans Mono',consolas,'Courier New',monospace\">Title: Помещение свободного назначенияСвоб. назнач. <span style=\"color: #008080; text-decoration-color: #008080; font-weight: bold\">20</span> м² за <span style=\"color: #008080; text-decoration-color: #008080; font-weight: bold\">40</span> <span style=\"color: #008080; text-decoration-color: #008080; font-weight: bold\">000</span> руб.<span style=\"color: #800080; text-decoration-color: #800080\">/</span><span style=\"color: #ff00ff; text-decoration-color: #ff00ff\">мес.</span> \n",
       "</pre>\n"
      ],
      "text/plain": [
       "Title: Помещение свободного назначенияСвоб. назнач. \u001b[1;36m20\u001b[0m м² за \u001b[1;36m40\u001b[0m \u001b[1;36m000\u001b[0m руб.\u001b[35m/\u001b[0m\u001b[95mмес.\u001b[0m \n"
      ]
     },
     "metadata": {},
     "output_type": "display_data"
    },
    {
     "data": {
      "text/html": [
       "<pre style=\"white-space:pre;overflow-x:auto;line-height:normal;font-family:Menlo,'DejaVu Sans Mono',consolas,'Courier New',monospace\">Address: Санкт-Петербург, р-н Адмиралтейский, Измайловское, м. Балтийская, бульвар Измайловский, 1к2\n",
       "</pre>\n"
      ],
      "text/plain": [
       "Address: Санкт-Петербург, р-н Адмиралтейский, Измайловское, м. Балтийская, бульвар Измайловский, 1к2\n"
      ]
     },
     "metadata": {},
     "output_type": "display_data"
    },
    {
     "data": {
      "text/html": [
       "<pre style=\"white-space:pre;overflow-x:auto;line-height:normal;font-family:Menlo,'DejaVu Sans Mono',consolas,'Courier New',monospace\">url <span style=\"color: #0000ff; text-decoration-color: #0000ff; text-decoration: underline\">https://spb.cian.ru/rent/commercial/308062058/</span>\n",
       "</pre>\n"
      ],
      "text/plain": [
       "url \u001b[4;94mhttps://spb.cian.ru/rent/commercial/308062058/\u001b[0m\n"
      ]
     },
     "metadata": {},
     "output_type": "display_data"
    },
    {
     "data": {
      "text/html": [
       "<pre style=\"white-space:pre;overflow-x:auto;line-height:normal;font-family:Menlo,'DejaVu Sans Mono',consolas,'Courier New',monospace\">price <span style=\"color: #008080; text-decoration-color: #008080; font-weight: bold\">40</span> <span style=\"color: #008080; text-decoration-color: #008080; font-weight: bold\">000</span> руб.<span style=\"color: #800080; text-decoration-color: #800080\">/</span><span style=\"color: #ff00ff; text-decoration-color: #ff00ff\">мес.</span> \n",
       "</pre>\n"
      ],
      "text/plain": [
       "price \u001b[1;36m40\u001b[0m \u001b[1;36m000\u001b[0m руб.\u001b[35m/\u001b[0m\u001b[95mмес.\u001b[0m \n"
      ]
     },
     "metadata": {},
     "output_type": "display_data"
    },
    {
     "data": {
      "text/html": [
       "<pre style=\"white-space:pre;overflow-x:auto;line-height:normal;font-family:Menlo,'DejaVu Sans Mono',consolas,'Courier New',monospace\">------------\n",
       "</pre>\n"
      ],
      "text/plain": [
       "------------\n"
      ]
     },
     "metadata": {},
     "output_type": "display_data"
    },
    {
     "data": {
      "text/html": [
       "<pre style=\"white-space:pre;overflow-x:auto;line-height:normal;font-family:Menlo,'DejaVu Sans Mono',consolas,'Courier New',monospace\">Title: Премиум-офис рядом с метроОфис <span style=\"color: #008080; text-decoration-color: #008080; font-weight: bold\">1</span> <span style=\"color: #008080; text-decoration-color: #008080; font-weight: bold\">800</span> м² за <span style=\"color: #008080; text-decoration-color: #008080; font-weight: bold\">7</span> <span style=\"color: #008080; text-decoration-color: #008080; font-weight: bold\">560</span> <span style=\"color: #008080; text-decoration-color: #008080; font-weight: bold\">000</span> руб.<span style=\"color: #800080; text-decoration-color: #800080\">/</span><span style=\"color: #ff00ff; text-decoration-color: #ff00ff\">мес.</span> \n",
       "</pre>\n"
      ],
      "text/plain": [
       "Title: Премиум-офис рядом с метроОфис \u001b[1;36m1\u001b[0m \u001b[1;36m800\u001b[0m м² за \u001b[1;36m7\u001b[0m \u001b[1;36m560\u001b[0m \u001b[1;36m000\u001b[0m руб.\u001b[35m/\u001b[0m\u001b[95mмес.\u001b[0m \n"
      ]
     },
     "metadata": {},
     "output_type": "display_data"
    },
    {
     "data": {
      "text/html": [
       "<pre style=\"white-space:pre;overflow-x:auto;line-height:normal;font-family:Menlo,'DejaVu Sans Mono',consolas,'Courier New',monospace\">Address: Санкт-Петербург, р-н Московский, Московская застава, м. Электросила, Московский проспект, <span style=\"color: #008080; text-decoration-color: #008080; font-weight: bold\">156</span>\n",
       "</pre>\n"
      ],
      "text/plain": [
       "Address: Санкт-Петербург, р-н Московский, Московская застава, м. Электросила, Московский проспект, \u001b[1;36m156\u001b[0m\n"
      ]
     },
     "metadata": {},
     "output_type": "display_data"
    },
    {
     "data": {
      "text/html": [
       "<pre style=\"white-space:pre;overflow-x:auto;line-height:normal;font-family:Menlo,'DejaVu Sans Mono',consolas,'Courier New',monospace\">url <span style=\"color: #0000ff; text-decoration-color: #0000ff; text-decoration: underline\">https://spb.cian.ru/rent/commercial/300059432/</span>\n",
       "</pre>\n"
      ],
      "text/plain": [
       "url \u001b[4;94mhttps://spb.cian.ru/rent/commercial/300059432/\u001b[0m\n"
      ]
     },
     "metadata": {},
     "output_type": "display_data"
    },
    {
     "data": {
      "text/html": [
       "<pre style=\"white-space:pre;overflow-x:auto;line-height:normal;font-family:Menlo,'DejaVu Sans Mono',consolas,'Courier New',monospace\">price <span style=\"color: #008080; text-decoration-color: #008080; font-weight: bold\">7</span> <span style=\"color: #008080; text-decoration-color: #008080; font-weight: bold\">560</span> <span style=\"color: #008080; text-decoration-color: #008080; font-weight: bold\">000</span> руб.<span style=\"color: #800080; text-decoration-color: #800080\">/</span><span style=\"color: #ff00ff; text-decoration-color: #ff00ff\">мес.</span> \n",
       "</pre>\n"
      ],
      "text/plain": [
       "price \u001b[1;36m7\u001b[0m \u001b[1;36m560\u001b[0m \u001b[1;36m000\u001b[0m руб.\u001b[35m/\u001b[0m\u001b[95mмес.\u001b[0m \n"
      ]
     },
     "metadata": {},
     "output_type": "display_data"
    },
    {
     "data": {
      "text/html": [
       "<pre style=\"white-space:pre;overflow-x:auto;line-height:normal;font-family:Menlo,'DejaVu Sans Mono',consolas,'Courier New',monospace\">------------\n",
       "</pre>\n"
      ],
      "text/plain": [
       "------------\n"
      ]
     },
     "metadata": {},
     "output_type": "display_data"
    },
    {
     "data": {
      "text/html": [
       "<pre style=\"white-space:pre;overflow-x:auto;line-height:normal;font-family:Menlo,'DejaVu Sans Mono',consolas,'Courier New',monospace\">Title: ОфисыUniverse <span style=\"font-weight: bold\">(</span>Универс<span style=\"font-weight: bold\">)</span><span style=\"color: #008080; text-decoration-color: #008080; font-weight: bold\">1</span> <span style=\"color: #008080; text-decoration-color: #008080; font-weight: bold\">397</span> – <span style=\"color: #008080; text-decoration-color: #008080; font-weight: bold\">5</span> <span style=\"color: #008080; text-decoration-color: #008080; font-weight: bold\">995</span> м² от <span style=\"color: #008080; text-decoration-color: #008080; font-weight: bold\">4</span> <span style=\"color: #008080; text-decoration-color: #008080; font-weight: bold\">191</span> <span style=\"color: #008080; text-decoration-color: #008080; font-weight: bold\">000</span> ₽<span style=\"color: #800080; text-decoration-color: #800080\">/</span><span style=\"color: #ff00ff; text-decoration-color: #ff00ff\">мес.Universe</span> - офисы от <span style=\"color: #008080; text-decoration-color: #008080; font-weight: bold\">1397</span> м²\n",
       "</pre>\n"
      ],
      "text/plain": [
       "Title: ОфисыUniverse \u001b[1m(\u001b[0mУниверс\u001b[1m)\u001b[0m\u001b[1;36m1\u001b[0m \u001b[1;36m397\u001b[0m – \u001b[1;36m5\u001b[0m \u001b[1;36m995\u001b[0m м² от \u001b[1;36m4\u001b[0m \u001b[1;36m191\u001b[0m \u001b[1;36m000\u001b[0m ₽\u001b[35m/\u001b[0m\u001b[95mмес.Universe\u001b[0m - офисы от \u001b[1;36m1397\u001b[0m м²\n"
      ]
     },
     "metadata": {},
     "output_type": "display_data"
    },
    {
     "data": {
      "text/html": [
       "<pre style=\"white-space:pre;overflow-x:auto;line-height:normal;font-family:Menlo,'DejaVu Sans Mono',consolas,'Courier New',monospace\">Address: Санкт-Петербург, р-н Василеостровский, № <span style=\"color: #008080; text-decoration-color: #008080; font-weight: bold\">7</span>, м. Спортивная, Университетская набережная, <span style=\"color: #008080; text-decoration-color: #008080; font-weight: bold\">7</span>-<span style=\"color: #008080; text-decoration-color: #008080; font-weight: bold\">9</span>-11к5\n",
       "</pre>\n"
      ],
      "text/plain": [
       "Address: Санкт-Петербург, р-н Василеостровский, № \u001b[1;36m7\u001b[0m, м. Спортивная, Университетская набережная, \u001b[1;36m7\u001b[0m-\u001b[1;36m9\u001b[0m-11к5\n"
      ]
     },
     "metadata": {},
     "output_type": "display_data"
    },
    {
     "data": {
      "text/html": [
       "<pre style=\"white-space:pre;overflow-x:auto;line-height:normal;font-family:Menlo,'DejaVu Sans Mono',consolas,'Courier New',monospace\">url <span style=\"color: #0000ff; text-decoration-color: #0000ff; text-decoration: underline\">https://spb.cian.ru/rent/commercial/277628168/</span>\n",
       "</pre>\n"
      ],
      "text/plain": [
       "url \u001b[4;94mhttps://spb.cian.ru/rent/commercial/277628168/\u001b[0m\n"
      ]
     },
     "metadata": {},
     "output_type": "display_data"
    },
    {
     "data": {
      "text/html": [
       "<pre style=\"white-space:pre;overflow-x:auto;line-height:normal;font-family:Menlo,'DejaVu Sans Mono',consolas,'Courier New',monospace\">price <span style=\"color: #008080; text-decoration-color: #008080; font-weight: bold\">4</span> <span style=\"color: #008080; text-decoration-color: #008080; font-weight: bold\">191</span> <span style=\"color: #008080; text-decoration-color: #008080; font-weight: bold\">000</span> ₽<span style=\"color: #800080; text-decoration-color: #800080\">/</span><span style=\"color: #ff00ff; text-decoration-color: #ff00ff\">мес.Universe</span> - офисы от <span style=\"color: #008080; text-decoration-color: #008080; font-weight: bold\">1397</span> м²\n",
       "</pre>\n"
      ],
      "text/plain": [
       "price \u001b[1;36m4\u001b[0m \u001b[1;36m191\u001b[0m \u001b[1;36m000\u001b[0m ₽\u001b[35m/\u001b[0m\u001b[95mмес.Universe\u001b[0m - офисы от \u001b[1;36m1397\u001b[0m м²\n"
      ]
     },
     "metadata": {},
     "output_type": "display_data"
    },
    {
     "data": {
      "text/html": [
       "<pre style=\"white-space:pre;overflow-x:auto;line-height:normal;font-family:Menlo,'DejaVu Sans Mono',consolas,'Courier New',monospace\">------------\n",
       "</pre>\n"
      ],
      "text/plain": [
       "------------\n"
      ]
     },
     "metadata": {},
     "output_type": "display_data"
    },
    {
     "data": {
      "text/html": [
       "<pre style=\"white-space:pre;overflow-x:auto;line-height:normal;font-family:Menlo,'DejaVu Sans Mono',consolas,'Courier New',monospace\">Title: Аренда ифнс 24Офис <span style=\"color: #008080; text-decoration-color: #008080; font-weight: bold\">15</span> м² за <span style=\"color: #008080; text-decoration-color: #008080; font-weight: bold\">14</span> <span style=\"color: #008080; text-decoration-color: #008080; font-weight: bold\">000</span> руб.<span style=\"color: #800080; text-decoration-color: #800080\">/</span><span style=\"color: #ff00ff; text-decoration-color: #ff00ff\">мес.</span> \n",
       "</pre>\n"
      ],
      "text/plain": [
       "Title: Аренда ифнс 24Офис \u001b[1;36m15\u001b[0m м² за \u001b[1;36m14\u001b[0m \u001b[1;36m000\u001b[0m руб.\u001b[35m/\u001b[0m\u001b[95mмес.\u001b[0m \n"
      ]
     },
     "metadata": {},
     "output_type": "display_data"
    },
    {
     "data": {
      "text/html": [
       "<pre style=\"white-space:pre;overflow-x:auto;line-height:normal;font-family:Menlo,'DejaVu Sans Mono',consolas,'Courier New',monospace\">Address: Санкт-Петербург, р-н Невский, Невская застава, м. Елизаровская, Хрустальная улица, <span style=\"color: #008080; text-decoration-color: #008080; font-weight: bold\">27</span>\n",
       "</pre>\n"
      ],
      "text/plain": [
       "Address: Санкт-Петербург, р-н Невский, Невская застава, м. Елизаровская, Хрустальная улица, \u001b[1;36m27\u001b[0m\n"
      ]
     },
     "metadata": {},
     "output_type": "display_data"
    },
    {
     "data": {
      "text/html": [
       "<pre style=\"white-space:pre;overflow-x:auto;line-height:normal;font-family:Menlo,'DejaVu Sans Mono',consolas,'Courier New',monospace\">url <span style=\"color: #0000ff; text-decoration-color: #0000ff; text-decoration: underline\">https://spb.cian.ru/rent/commercial/308539885/</span>\n",
       "</pre>\n"
      ],
      "text/plain": [
       "url \u001b[4;94mhttps://spb.cian.ru/rent/commercial/308539885/\u001b[0m\n"
      ]
     },
     "metadata": {},
     "output_type": "display_data"
    },
    {
     "data": {
      "text/html": [
       "<pre style=\"white-space:pre;overflow-x:auto;line-height:normal;font-family:Menlo,'DejaVu Sans Mono',consolas,'Courier New',monospace\">price <span style=\"color: #008080; text-decoration-color: #008080; font-weight: bold\">14</span> <span style=\"color: #008080; text-decoration-color: #008080; font-weight: bold\">000</span> руб.<span style=\"color: #800080; text-decoration-color: #800080\">/</span><span style=\"color: #ff00ff; text-decoration-color: #ff00ff\">мес.</span> \n",
       "</pre>\n"
      ],
      "text/plain": [
       "price \u001b[1;36m14\u001b[0m \u001b[1;36m000\u001b[0m руб.\u001b[35m/\u001b[0m\u001b[95mмес.\u001b[0m \n"
      ]
     },
     "metadata": {},
     "output_type": "display_data"
    },
    {
     "data": {
      "text/html": [
       "<pre style=\"white-space:pre;overflow-x:auto;line-height:normal;font-family:Menlo,'DejaVu Sans Mono',consolas,'Courier New',monospace\">------------\n",
       "</pre>\n"
      ],
      "text/plain": [
       "------------\n"
      ]
     },
     "metadata": {},
     "output_type": "display_data"
    },
    {
     "data": {
      "text/html": [
       "<pre style=\"white-space:pre;overflow-x:auto;line-height:normal;font-family:Menlo,'DejaVu Sans Mono',consolas,'Courier New',monospace\">Title: Отдельный вход, своя террасаСвоб. назнач. <span style=\"color: #008080; text-decoration-color: #008080; font-weight: bold\">229</span> м² за <span style=\"color: #008080; text-decoration-color: #008080; font-weight: bold\">458</span> <span style=\"color: #008080; text-decoration-color: #008080; font-weight: bold\">000</span> руб.<span style=\"color: #800080; text-decoration-color: #800080\">/</span><span style=\"color: #ff00ff; text-decoration-color: #ff00ff\">мес.</span> \n",
       "</pre>\n"
      ],
      "text/plain": [
       "Title: Отдельный вход, своя террасаСвоб. назнач. \u001b[1;36m229\u001b[0m м² за \u001b[1;36m458\u001b[0m \u001b[1;36m000\u001b[0m руб.\u001b[35m/\u001b[0m\u001b[95mмес.\u001b[0m \n"
      ]
     },
     "metadata": {},
     "output_type": "display_data"
    },
    {
     "data": {
      "text/html": [
       "<pre style=\"white-space:pre;overflow-x:auto;line-height:normal;font-family:Menlo,'DejaVu Sans Mono',consolas,'Courier New',monospace\">Address: Санкт-Петербург, р-н Центральный, № <span style=\"color: #008080; text-decoration-color: #008080; font-weight: bold\">78</span>, м. Адмиралтейская, Невский проспект, <span style=\"color: #008080; text-decoration-color: #008080; font-weight: bold\">1</span>/<span style=\"color: #008080; text-decoration-color: #008080; font-weight: bold\">4</span>\n",
       "</pre>\n"
      ],
      "text/plain": [
       "Address: Санкт-Петербург, р-н Центральный, № \u001b[1;36m78\u001b[0m, м. Адмиралтейская, Невский проспект, \u001b[1;36m1\u001b[0m/\u001b[1;36m4\u001b[0m\n"
      ]
     },
     "metadata": {},
     "output_type": "display_data"
    },
    {
     "data": {
      "text/html": [
       "<pre style=\"white-space:pre;overflow-x:auto;line-height:normal;font-family:Menlo,'DejaVu Sans Mono',consolas,'Courier New',monospace\">url <span style=\"color: #0000ff; text-decoration-color: #0000ff; text-decoration: underline\">https://spb.cian.ru/rent/commercial/304490234/</span>\n",
       "</pre>\n"
      ],
      "text/plain": [
       "url \u001b[4;94mhttps://spb.cian.ru/rent/commercial/304490234/\u001b[0m\n"
      ]
     },
     "metadata": {},
     "output_type": "display_data"
    },
    {
     "data": {
      "text/html": [
       "<pre style=\"white-space:pre;overflow-x:auto;line-height:normal;font-family:Menlo,'DejaVu Sans Mono',consolas,'Courier New',monospace\">price <span style=\"color: #008080; text-decoration-color: #008080; font-weight: bold\">458</span> <span style=\"color: #008080; text-decoration-color: #008080; font-weight: bold\">000</span> руб.<span style=\"color: #800080; text-decoration-color: #800080\">/</span><span style=\"color: #ff00ff; text-decoration-color: #ff00ff\">мес.</span> \n",
       "</pre>\n"
      ],
      "text/plain": [
       "price \u001b[1;36m458\u001b[0m \u001b[1;36m000\u001b[0m руб.\u001b[35m/\u001b[0m\u001b[95mмес.\u001b[0m \n"
      ]
     },
     "metadata": {},
     "output_type": "display_data"
    },
    {
     "data": {
      "text/html": [
       "<pre style=\"white-space:pre;overflow-x:auto;line-height:normal;font-family:Menlo,'DejaVu Sans Mono',consolas,'Courier New',monospace\">------------\n",
       "</pre>\n"
      ],
      "text/plain": [
       "------------\n"
      ]
     },
     "metadata": {},
     "output_type": "display_data"
    },
    {
     "data": {
      "text/html": [
       "<pre style=\"white-space:pre;overflow-x:auto;line-height:normal;font-family:Menlo,'DejaVu Sans Mono',consolas,'Courier New',monospace\">Title: ОфисыNOBIUS <span style=\"font-weight: bold\">(</span>НОБИУС<span style=\"font-weight: bold\">)</span><span style=\"color: #008080; text-decoration-color: #008080; font-weight: bold\">124</span> – <span style=\"color: #008080; text-decoration-color: #008080; font-weight: bold\">138</span> м² от <span style=\"color: #008080; text-decoration-color: #008080; font-weight: bold\">282</span> <span style=\"color: #008080; text-decoration-color: #008080; font-weight: bold\">720</span> ₽<span style=\"color: #800080; text-decoration-color: #800080\">/</span><span style=\"color: #ff00ff; text-decoration-color: #ff00ff\">мес.Офисы</span> A-класса; развозка от метро\n",
       "</pre>\n"
      ],
      "text/plain": [
       "Title: ОфисыNOBIUS \u001b[1m(\u001b[0mНОБИУС\u001b[1m)\u001b[0m\u001b[1;36m124\u001b[0m – \u001b[1;36m138\u001b[0m м² от \u001b[1;36m282\u001b[0m \u001b[1;36m720\u001b[0m ₽\u001b[35m/\u001b[0m\u001b[95mмес.Офисы\u001b[0m A-класса; развозка от метро\n"
      ]
     },
     "metadata": {},
     "output_type": "display_data"
    },
    {
     "data": {
      "text/html": [
       "<pre style=\"white-space:pre;overflow-x:auto;line-height:normal;font-family:Menlo,'DejaVu Sans Mono',consolas,'Courier New',monospace\">Address: Санкт-Петербург, р-н Московский, Звёздное, м. Звездная, Пулковское шоссе, 40к4\n",
       "</pre>\n"
      ],
      "text/plain": [
       "Address: Санкт-Петербург, р-н Московский, Звёздное, м. Звездная, Пулковское шоссе, 40к4\n"
      ]
     },
     "metadata": {},
     "output_type": "display_data"
    },
    {
     "data": {
      "text/html": [
       "<pre style=\"white-space:pre;overflow-x:auto;line-height:normal;font-family:Menlo,'DejaVu Sans Mono',consolas,'Courier New',monospace\">url <span style=\"color: #0000ff; text-decoration-color: #0000ff; text-decoration: underline\">https://spb.cian.ru/rent/commercial/275845279/</span>\n",
       "</pre>\n"
      ],
      "text/plain": [
       "url \u001b[4;94mhttps://spb.cian.ru/rent/commercial/275845279/\u001b[0m\n"
      ]
     },
     "metadata": {},
     "output_type": "display_data"
    },
    {
     "data": {
      "text/html": [
       "<pre style=\"white-space:pre;overflow-x:auto;line-height:normal;font-family:Menlo,'DejaVu Sans Mono',consolas,'Courier New',monospace\">price <span style=\"color: #008080; text-decoration-color: #008080; font-weight: bold\">282</span> <span style=\"color: #008080; text-decoration-color: #008080; font-weight: bold\">720</span> ₽<span style=\"color: #800080; text-decoration-color: #800080\">/</span><span style=\"color: #ff00ff; text-decoration-color: #ff00ff\">мес.Офисы</span> A-класса; развозка от метро\n",
       "</pre>\n"
      ],
      "text/plain": [
       "price \u001b[1;36m282\u001b[0m \u001b[1;36m720\u001b[0m ₽\u001b[35m/\u001b[0m\u001b[95mмес.Офисы\u001b[0m A-класса; развозка от метро\n"
      ]
     },
     "metadata": {},
     "output_type": "display_data"
    },
    {
     "data": {
      "text/html": [
       "<pre style=\"white-space:pre;overflow-x:auto;line-height:normal;font-family:Menlo,'DejaVu Sans Mono',consolas,'Courier New',monospace\">------------\n",
       "</pre>\n"
      ],
      "text/plain": [
       "------------\n"
      ]
     },
     "metadata": {},
     "output_type": "display_data"
    },
    {
     "data": {
      "text/html": [
       "<pre style=\"white-space:pre;overflow-x:auto;line-height:normal;font-family:Menlo,'DejaVu Sans Mono',consolas,'Courier New',monospace\">Title: Помещение <span style=\"color: #008080; text-decoration-color: #008080; font-weight: bold\">229</span>,<span style=\"color: #008080; text-decoration-color: #008080; font-weight: bold\">4</span> м2Своб. назнач. <span style=\"color: #008080; text-decoration-color: #008080; font-weight: bold\">229</span>,<span style=\"color: #008080; text-decoration-color: #008080; font-weight: bold\">4</span> м² за <span style=\"color: #008080; text-decoration-color: #008080; font-weight: bold\">458</span> <span style=\"color: #008080; text-decoration-color: #008080; font-weight: bold\">800</span> руб.<span style=\"color: #800080; text-decoration-color: #800080\">/</span><span style=\"color: #ff00ff; text-decoration-color: #ff00ff\">мес.</span> \n",
       "</pre>\n"
      ],
      "text/plain": [
       "Title: Помещение \u001b[1;36m229\u001b[0m,\u001b[1;36m4\u001b[0m м2Своб. назнач. \u001b[1;36m229\u001b[0m,\u001b[1;36m4\u001b[0m м² за \u001b[1;36m458\u001b[0m \u001b[1;36m800\u001b[0m руб.\u001b[35m/\u001b[0m\u001b[95mмес.\u001b[0m \n"
      ]
     },
     "metadata": {},
     "output_type": "display_data"
    },
    {
     "data": {
      "text/html": [
       "<pre style=\"white-space:pre;overflow-x:auto;line-height:normal;font-family:Menlo,'DejaVu Sans Mono',consolas,'Courier New',monospace\">Address: Санкт-Петербург, р-н Центральный, № <span style=\"color: #008080; text-decoration-color: #008080; font-weight: bold\">78</span>, м. Адмиралтейская, Невский проспект, <span style=\"color: #008080; text-decoration-color: #008080; font-weight: bold\">1</span>/<span style=\"color: #008080; text-decoration-color: #008080; font-weight: bold\">4</span>\n",
       "</pre>\n"
      ],
      "text/plain": [
       "Address: Санкт-Петербург, р-н Центральный, № \u001b[1;36m78\u001b[0m, м. Адмиралтейская, Невский проспект, \u001b[1;36m1\u001b[0m/\u001b[1;36m4\u001b[0m\n"
      ]
     },
     "metadata": {},
     "output_type": "display_data"
    },
    {
     "data": {
      "text/html": [
       "<pre style=\"white-space:pre;overflow-x:auto;line-height:normal;font-family:Menlo,'DejaVu Sans Mono',consolas,'Courier New',monospace\">url <span style=\"color: #0000ff; text-decoration-color: #0000ff; text-decoration: underline\">https://spb.cian.ru/rent/commercial/299332984/</span>\n",
       "</pre>\n"
      ],
      "text/plain": [
       "url \u001b[4;94mhttps://spb.cian.ru/rent/commercial/299332984/\u001b[0m\n"
      ]
     },
     "metadata": {},
     "output_type": "display_data"
    },
    {
     "data": {
      "text/html": [
       "<pre style=\"white-space:pre;overflow-x:auto;line-height:normal;font-family:Menlo,'DejaVu Sans Mono',consolas,'Courier New',monospace\">price <span style=\"color: #008080; text-decoration-color: #008080; font-weight: bold\">458</span> <span style=\"color: #008080; text-decoration-color: #008080; font-weight: bold\">800</span> руб.<span style=\"color: #800080; text-decoration-color: #800080\">/</span><span style=\"color: #ff00ff; text-decoration-color: #ff00ff\">мес.</span> \n",
       "</pre>\n"
      ],
      "text/plain": [
       "price \u001b[1;36m458\u001b[0m \u001b[1;36m800\u001b[0m руб.\u001b[35m/\u001b[0m\u001b[95mмес.\u001b[0m \n"
      ]
     },
     "metadata": {},
     "output_type": "display_data"
    },
    {
     "data": {
      "text/html": [
       "<pre style=\"white-space:pre;overflow-x:auto;line-height:normal;font-family:Menlo,'DejaVu Sans Mono',consolas,'Courier New',monospace\">------------\n",
       "</pre>\n"
      ],
      "text/plain": [
       "------------\n"
      ]
     },
     "metadata": {},
     "output_type": "display_data"
    },
    {
     "data": {
      "text/html": [
       "<pre style=\"white-space:pre;overflow-x:auto;line-height:normal;font-family:Menlo,'DejaVu Sans Mono',consolas,'Courier New',monospace\">Title: ПСН в бизнес-центре A-классаСвоб. назнач. <span style=\"color: #008080; text-decoration-color: #008080; font-weight: bold\">510</span> м² за <span style=\"color: #008080; text-decoration-color: #008080; font-weight: bold\">1</span> <span style=\"color: #008080; text-decoration-color: #008080; font-weight: bold\">020</span> <span style=\"color: #008080; text-decoration-color: #008080; font-weight: bold\">000</span> руб.<span style=\"color: #800080; text-decoration-color: #800080\">/</span><span style=\"color: #ff00ff; text-decoration-color: #ff00ff\">мес.</span> Класс A\n",
       "</pre>\n"
      ],
      "text/plain": [
       "Title: ПСН в бизнес-центре A-классаСвоб. назнач. \u001b[1;36m510\u001b[0m м² за \u001b[1;36m1\u001b[0m \u001b[1;36m020\u001b[0m \u001b[1;36m000\u001b[0m руб.\u001b[35m/\u001b[0m\u001b[95mмес.\u001b[0m Класс A\n"
      ]
     },
     "metadata": {},
     "output_type": "display_data"
    },
    {
     "data": {
      "text/html": [
       "<pre style=\"white-space:pre;overflow-x:auto;line-height:normal;font-family:Menlo,'DejaVu Sans Mono',consolas,'Courier New',monospace\">Address: Санкт-Петербург, р-н Центральный, Литейный, м. Чернышевская, Литейный проспект, <span style=\"color: #008080; text-decoration-color: #008080; font-weight: bold\">26</span>\n",
       "</pre>\n"
      ],
      "text/plain": [
       "Address: Санкт-Петербург, р-н Центральный, Литейный, м. Чернышевская, Литейный проспект, \u001b[1;36m26\u001b[0m\n"
      ]
     },
     "metadata": {},
     "output_type": "display_data"
    },
    {
     "data": {
      "text/html": [
       "<pre style=\"white-space:pre;overflow-x:auto;line-height:normal;font-family:Menlo,'DejaVu Sans Mono',consolas,'Courier New',monospace\">url <span style=\"color: #0000ff; text-decoration-color: #0000ff; text-decoration: underline\">https://spb.cian.ru/rent/commercial/303521190/</span>\n",
       "</pre>\n"
      ],
      "text/plain": [
       "url \u001b[4;94mhttps://spb.cian.ru/rent/commercial/303521190/\u001b[0m\n"
      ]
     },
     "metadata": {},
     "output_type": "display_data"
    },
    {
     "data": {
      "text/html": [
       "<pre style=\"white-space:pre;overflow-x:auto;line-height:normal;font-family:Menlo,'DejaVu Sans Mono',consolas,'Courier New',monospace\">price <span style=\"color: #008080; text-decoration-color: #008080; font-weight: bold\">1</span> <span style=\"color: #008080; text-decoration-color: #008080; font-weight: bold\">020</span> <span style=\"color: #008080; text-decoration-color: #008080; font-weight: bold\">000</span> руб.<span style=\"color: #800080; text-decoration-color: #800080\">/</span><span style=\"color: #ff00ff; text-decoration-color: #ff00ff\">мес.</span> Класс A\n",
       "</pre>\n"
      ],
      "text/plain": [
       "price \u001b[1;36m1\u001b[0m \u001b[1;36m020\u001b[0m \u001b[1;36m000\u001b[0m руб.\u001b[35m/\u001b[0m\u001b[95mмес.\u001b[0m Класс A\n"
      ]
     },
     "metadata": {},
     "output_type": "display_data"
    },
    {
     "data": {
      "text/html": [
       "<pre style=\"white-space:pre;overflow-x:auto;line-height:normal;font-family:Menlo,'DejaVu Sans Mono',consolas,'Courier New',monospace\">------------\n",
       "</pre>\n"
      ],
      "text/plain": [
       "------------\n"
      ]
     },
     "metadata": {},
     "output_type": "display_data"
    },
    {
     "data": {
      "text/html": [
       "<pre style=\"white-space:pre;overflow-x:auto;line-height:normal;font-family:Menlo,'DejaVu Sans Mono',consolas,'Courier New',monospace\"><span style=\"color: #008080; text-decoration-color: #008080; font-weight: bold\">3</span>\n",
       "</pre>\n"
      ],
      "text/plain": [
       "\u001b[1;36m3\u001b[0m\n"
      ]
     },
     "metadata": {},
     "output_type": "display_data"
    },
    {
     "data": {
      "text/html": [
       "<pre style=\"white-space:pre;overflow-x:auto;line-height:normal;font-family:Menlo,'DejaVu Sans Mono',consolas,'Courier New',monospace\">Title: Своб. назнач.на проспекте Чернышевского, <span style=\"color: #008080; text-decoration-color: #008080; font-weight: bold\">18110</span> – <span style=\"color: #008080; text-decoration-color: #008080; font-weight: bold\">357</span> м² от <span style=\"color: #008080; text-decoration-color: #008080; font-weight: bold\">499</span> <span style=\"color: #008080; text-decoration-color: #008080; font-weight: bold\">970</span> ₽<span style=\"color: #800080; text-decoration-color: #800080\">/</span><span style=\"color: #ff00ff; text-decoration-color: #ff00ff\">мес.У</span> метро рядом с Таврическим садом\n",
       "</pre>\n"
      ],
      "text/plain": [
       "Title: Своб. назнач.на проспекте Чернышевского, \u001b[1;36m18110\u001b[0m – \u001b[1;36m357\u001b[0m м² от \u001b[1;36m499\u001b[0m \u001b[1;36m970\u001b[0m ₽\u001b[35m/\u001b[0m\u001b[95mмес.У\u001b[0m метро рядом с Таврическим садом\n"
      ]
     },
     "metadata": {},
     "output_type": "display_data"
    },
    {
     "data": {
      "text/html": [
       "<pre style=\"white-space:pre;overflow-x:auto;line-height:normal;font-family:Menlo,'DejaVu Sans Mono',consolas,'Courier New',monospace\">Address: Санкт-Петербург, р-н Центральный, Смольнинское, м. Чернышевская, проспект Чернышевского, <span style=\"color: #008080; text-decoration-color: #008080; font-weight: bold\">18</span>\n",
       "</pre>\n"
      ],
      "text/plain": [
       "Address: Санкт-Петербург, р-н Центральный, Смольнинское, м. Чернышевская, проспект Чернышевского, \u001b[1;36m18\u001b[0m\n"
      ]
     },
     "metadata": {},
     "output_type": "display_data"
    },
    {
     "data": {
      "text/html": [
       "<pre style=\"white-space:pre;overflow-x:auto;line-height:normal;font-family:Menlo,'DejaVu Sans Mono',consolas,'Courier New',monospace\">url <span style=\"color: #0000ff; text-decoration-color: #0000ff; text-decoration: underline\">https://spb.cian.ru/rent/commercial/300921155/</span>\n",
       "</pre>\n"
      ],
      "text/plain": [
       "url \u001b[4;94mhttps://spb.cian.ru/rent/commercial/300921155/\u001b[0m\n"
      ]
     },
     "metadata": {},
     "output_type": "display_data"
    },
    {
     "data": {
      "text/html": [
       "<pre style=\"white-space:pre;overflow-x:auto;line-height:normal;font-family:Menlo,'DejaVu Sans Mono',consolas,'Courier New',monospace\">price <span style=\"color: #008080; text-decoration-color: #008080; font-weight: bold\">499</span> <span style=\"color: #008080; text-decoration-color: #008080; font-weight: bold\">970</span> ₽<span style=\"color: #800080; text-decoration-color: #800080\">/</span><span style=\"color: #ff00ff; text-decoration-color: #ff00ff\">мес.У</span> метро рядом с Таврическим садом\n",
       "</pre>\n"
      ],
      "text/plain": [
       "price \u001b[1;36m499\u001b[0m \u001b[1;36m970\u001b[0m ₽\u001b[35m/\u001b[0m\u001b[95mмес.У\u001b[0m метро рядом с Таврическим садом\n"
      ]
     },
     "metadata": {},
     "output_type": "display_data"
    },
    {
     "data": {
      "text/html": [
       "<pre style=\"white-space:pre;overflow-x:auto;line-height:normal;font-family:Menlo,'DejaVu Sans Mono',consolas,'Courier New',monospace\">------------\n",
       "</pre>\n"
      ],
      "text/plain": [
       "------------\n"
      ]
     },
     "metadata": {},
     "output_type": "display_data"
    },
    {
     "data": {
      "text/html": [
       "<pre style=\"white-space:pre;overflow-x:auto;line-height:normal;font-family:Menlo,'DejaVu Sans Mono',consolas,'Courier New',monospace\">Title: Здание целиком, большой паркингОфис <span style=\"color: #008080; text-decoration-color: #008080; font-weight: bold\">1</span> <span style=\"color: #008080; text-decoration-color: #008080; font-weight: bold\">552</span> м² за <span style=\"color: #008080; text-decoration-color: #008080; font-weight: bold\">3</span> <span style=\"color: #008080; text-decoration-color: #008080; font-weight: bold\">724</span> <span style=\"color: #008080; text-decoration-color: #008080; font-weight: bold\">800</span> руб.<span style=\"color: #800080; text-decoration-color: #800080\">/</span><span style=\"color: #ff00ff; text-decoration-color: #ff00ff\">мес.</span> \n",
       "</pre>\n"
      ],
      "text/plain": [
       "Title: Здание целиком, большой паркингОфис \u001b[1;36m1\u001b[0m \u001b[1;36m552\u001b[0m м² за \u001b[1;36m3\u001b[0m \u001b[1;36m724\u001b[0m \u001b[1;36m800\u001b[0m руб.\u001b[35m/\u001b[0m\u001b[95mмес.\u001b[0m \n"
      ]
     },
     "metadata": {},
     "output_type": "display_data"
    },
    {
     "data": {
      "text/html": [
       "<pre style=\"white-space:pre;overflow-x:auto;line-height:normal;font-family:Menlo,'DejaVu Sans Mono',consolas,'Courier New',monospace\">Address: Санкт-Петербург, р-н Петроградский, Аптекарский остров, м. Петроградская, улица Академика Павлова, 5Е\n",
       "</pre>\n"
      ],
      "text/plain": [
       "Address: Санкт-Петербург, р-н Петроградский, Аптекарский остров, м. Петроградская, улица Академика Павлова, 5Е\n"
      ]
     },
     "metadata": {},
     "output_type": "display_data"
    },
    {
     "data": {
      "text/html": [
       "<pre style=\"white-space:pre;overflow-x:auto;line-height:normal;font-family:Menlo,'DejaVu Sans Mono',consolas,'Courier New',monospace\">url <span style=\"color: #0000ff; text-decoration-color: #0000ff; text-decoration: underline\">https://spb.cian.ru/rent/commercial/307962955/</span>\n",
       "</pre>\n"
      ],
      "text/plain": [
       "url \u001b[4;94mhttps://spb.cian.ru/rent/commercial/307962955/\u001b[0m\n"
      ]
     },
     "metadata": {},
     "output_type": "display_data"
    },
    {
     "data": {
      "text/html": [
       "<pre style=\"white-space:pre;overflow-x:auto;line-height:normal;font-family:Menlo,'DejaVu Sans Mono',consolas,'Courier New',monospace\">price <span style=\"color: #008080; text-decoration-color: #008080; font-weight: bold\">3</span> <span style=\"color: #008080; text-decoration-color: #008080; font-weight: bold\">724</span> <span style=\"color: #008080; text-decoration-color: #008080; font-weight: bold\">800</span> руб.<span style=\"color: #800080; text-decoration-color: #800080\">/</span><span style=\"color: #ff00ff; text-decoration-color: #ff00ff\">мес.</span> \n",
       "</pre>\n"
      ],
      "text/plain": [
       "price \u001b[1;36m3\u001b[0m \u001b[1;36m724\u001b[0m \u001b[1;36m800\u001b[0m руб.\u001b[35m/\u001b[0m\u001b[95mмес.\u001b[0m \n"
      ]
     },
     "metadata": {},
     "output_type": "display_data"
    },
    {
     "data": {
      "text/html": [
       "<pre style=\"white-space:pre;overflow-x:auto;line-height:normal;font-family:Menlo,'DejaVu Sans Mono',consolas,'Courier New',monospace\">------------\n",
       "</pre>\n"
      ],
      "text/plain": [
       "------------\n"
      ]
     },
     "metadata": {},
     "output_type": "display_data"
    },
    {
     "data": {
      "text/html": [
       "<pre style=\"white-space:pre;overflow-x:auto;line-height:normal;font-family:Menlo,'DejaVu Sans Mono',consolas,'Courier New',monospace\">Title: Офис ифнс 19Своб. назнач. <span style=\"color: #008080; text-decoration-color: #008080; font-weight: bold\">12</span> м² за <span style=\"color: #008080; text-decoration-color: #008080; font-weight: bold\">12</span> <span style=\"color: #008080; text-decoration-color: #008080; font-weight: bold\">500</span> руб.<span style=\"color: #800080; text-decoration-color: #800080\">/</span><span style=\"color: #ff00ff; text-decoration-color: #ff00ff\">мес.</span> \n",
       "</pre>\n"
      ],
      "text/plain": [
       "Title: Офис ифнс 19Своб. назнач. \u001b[1;36m12\u001b[0m м² за \u001b[1;36m12\u001b[0m \u001b[1;36m500\u001b[0m руб.\u001b[35m/\u001b[0m\u001b[95mмес.\u001b[0m \n"
      ]
     },
     "metadata": {},
     "output_type": "display_data"
    },
    {
     "data": {
      "text/html": [
       "<pre style=\"white-space:pre;overflow-x:auto;line-height:normal;font-family:Menlo,'DejaVu Sans Mono',consolas,'Courier New',monospace\">Address: Санкт-Петербург, р-н Кировский, Морские ворота, м. Нарвская, набережная Реки Екатерингофки, <span style=\"color: #008080; text-decoration-color: #008080; font-weight: bold\">29</span>-31В\n",
       "</pre>\n"
      ],
      "text/plain": [
       "Address: Санкт-Петербург, р-н Кировский, Морские ворота, м. Нарвская, набережная Реки Екатерингофки, \u001b[1;36m29\u001b[0m-31В\n"
      ]
     },
     "metadata": {},
     "output_type": "display_data"
    },
    {
     "data": {
      "text/html": [
       "<pre style=\"white-space:pre;overflow-x:auto;line-height:normal;font-family:Menlo,'DejaVu Sans Mono',consolas,'Courier New',monospace\">url <span style=\"color: #0000ff; text-decoration-color: #0000ff; text-decoration: underline\">https://spb.cian.ru/rent/commercial/308537882/</span>\n",
       "</pre>\n"
      ],
      "text/plain": [
       "url \u001b[4;94mhttps://spb.cian.ru/rent/commercial/308537882/\u001b[0m\n"
      ]
     },
     "metadata": {},
     "output_type": "display_data"
    },
    {
     "data": {
      "text/html": [
       "<pre style=\"white-space:pre;overflow-x:auto;line-height:normal;font-family:Menlo,'DejaVu Sans Mono',consolas,'Courier New',monospace\">price <span style=\"color: #008080; text-decoration-color: #008080; font-weight: bold\">12</span> <span style=\"color: #008080; text-decoration-color: #008080; font-weight: bold\">500</span> руб.<span style=\"color: #800080; text-decoration-color: #800080\">/</span><span style=\"color: #ff00ff; text-decoration-color: #ff00ff\">мес.</span> \n",
       "</pre>\n"
      ],
      "text/plain": [
       "price \u001b[1;36m12\u001b[0m \u001b[1;36m500\u001b[0m руб.\u001b[35m/\u001b[0m\u001b[95mмес.\u001b[0m \n"
      ]
     },
     "metadata": {},
     "output_type": "display_data"
    },
    {
     "data": {
      "text/html": [
       "<pre style=\"white-space:pre;overflow-x:auto;line-height:normal;font-family:Menlo,'DejaVu Sans Mono',consolas,'Courier New',monospace\">------------\n",
       "</pre>\n"
      ],
      "text/plain": [
       "------------\n"
      ]
     },
     "metadata": {},
     "output_type": "display_data"
    },
    {
     "data": {
      "text/html": [
       "<pre style=\"white-space:pre;overflow-x:auto;line-height:normal;font-family:Menlo,'DejaVu Sans Mono',consolas,'Courier New',monospace\">Title: ОфисыAmber Hall <span style=\"font-weight: bold\">(</span>Амбер Холл<span style=\"font-weight: bold\">)</span><span style=\"color: #008080; text-decoration-color: #008080; font-weight: bold\">133</span> – <span style=\"color: #008080; text-decoration-color: #008080; font-weight: bold\">2</span> <span style=\"color: #008080; text-decoration-color: #008080; font-weight: bold\">859</span> м² от <span style=\"color: #008080; text-decoration-color: #008080; font-weight: bold\">332</span> <span style=\"color: #008080; text-decoration-color: #008080; font-weight: bold\">500</span> ₽<span style=\"color: #800080; text-decoration-color: #800080\">/</span><span style=\"color: #ff00ff; text-decoration-color: #ff00ff\">мес.Видовые</span> офисы с новым ремонтом\n",
       "</pre>\n"
      ],
      "text/plain": [
       "Title: ОфисыAmber Hall \u001b[1m(\u001b[0mАмбер Холл\u001b[1m)\u001b[0m\u001b[1;36m133\u001b[0m – \u001b[1;36m2\u001b[0m \u001b[1;36m859\u001b[0m м² от \u001b[1;36m332\u001b[0m \u001b[1;36m500\u001b[0m ₽\u001b[35m/\u001b[0m\u001b[95mмес.Видовые\u001b[0m офисы с новым ремонтом\n"
      ]
     },
     "metadata": {},
     "output_type": "display_data"
    },
    {
     "data": {
      "text/html": [
       "<pre style=\"white-space:pre;overflow-x:auto;line-height:normal;font-family:Menlo,'DejaVu Sans Mono',consolas,'Courier New',monospace\">Address: Санкт-Петербург, р-н Красногвардейский, Малая Охта, м. Ладожская, проспект Энергетиков, 4к1\n",
       "</pre>\n"
      ],
      "text/plain": [
       "Address: Санкт-Петербург, р-н Красногвардейский, Малая Охта, м. Ладожская, проспект Энергетиков, 4к1\n"
      ]
     },
     "metadata": {},
     "output_type": "display_data"
    },
    {
     "data": {
      "text/html": [
       "<pre style=\"white-space:pre;overflow-x:auto;line-height:normal;font-family:Menlo,'DejaVu Sans Mono',consolas,'Courier New',monospace\">url <span style=\"color: #0000ff; text-decoration-color: #0000ff; text-decoration: underline\">https://spb.cian.ru/rent/commercial/258994878/</span>\n",
       "</pre>\n"
      ],
      "text/plain": [
       "url \u001b[4;94mhttps://spb.cian.ru/rent/commercial/258994878/\u001b[0m\n"
      ]
     },
     "metadata": {},
     "output_type": "display_data"
    },
    {
     "data": {
      "text/html": [
       "<pre style=\"white-space:pre;overflow-x:auto;line-height:normal;font-family:Menlo,'DejaVu Sans Mono',consolas,'Courier New',monospace\">price <span style=\"color: #008080; text-decoration-color: #008080; font-weight: bold\">332</span> <span style=\"color: #008080; text-decoration-color: #008080; font-weight: bold\">500</span> ₽<span style=\"color: #800080; text-decoration-color: #800080\">/</span><span style=\"color: #ff00ff; text-decoration-color: #ff00ff\">мес.Видовые</span> офисы с новым ремонтом\n",
       "</pre>\n"
      ],
      "text/plain": [
       "price \u001b[1;36m332\u001b[0m \u001b[1;36m500\u001b[0m ₽\u001b[35m/\u001b[0m\u001b[95mмес.Видовые\u001b[0m офисы с новым ремонтом\n"
      ]
     },
     "metadata": {},
     "output_type": "display_data"
    },
    {
     "data": {
      "text/html": [
       "<pre style=\"white-space:pre;overflow-x:auto;line-height:normal;font-family:Menlo,'DejaVu Sans Mono',consolas,'Courier New',monospace\">------------\n",
       "</pre>\n"
      ],
      "text/plain": [
       "------------\n"
      ]
     },
     "metadata": {},
     "output_type": "display_data"
    },
    {
     "data": {
      "text/html": [
       "<pre style=\"white-space:pre;overflow-x:auto;line-height:normal;font-family:Menlo,'DejaVu Sans Mono',consolas,'Courier New',monospace\">Title: Особняк целиком, есть террасыОфис <span style=\"color: #008080; text-decoration-color: #008080; font-weight: bold\">1</span> <span style=\"color: #008080; text-decoration-color: #008080; font-weight: bold\">560</span> м² за <span style=\"color: #008080; text-decoration-color: #008080; font-weight: bold\">2</span> <span style=\"color: #008080; text-decoration-color: #008080; font-weight: bold\">652</span> <span style=\"color: #008080; text-decoration-color: #008080; font-weight: bold\">000</span> руб.<span style=\"color: #800080; text-decoration-color: #800080\">/</span><span style=\"color: #ff00ff; text-decoration-color: #ff00ff\">мес.</span> \n",
       "</pre>\n"
      ],
      "text/plain": [
       "Title: Особняк целиком, есть террасыОфис \u001b[1;36m1\u001b[0m \u001b[1;36m560\u001b[0m м² за \u001b[1;36m2\u001b[0m \u001b[1;36m652\u001b[0m \u001b[1;36m000\u001b[0m руб.\u001b[35m/\u001b[0m\u001b[95mмес.\u001b[0m \n"
      ]
     },
     "metadata": {},
     "output_type": "display_data"
    },
    {
     "data": {
      "text/html": [
       "<pre style=\"white-space:pre;overflow-x:auto;line-height:normal;font-family:Menlo,'DejaVu Sans Mono',consolas,'Courier New',monospace\">Address: Санкт-Петербург, р-н Петроградский, Посадский, м. Горьковская, Пинский переулок, <span style=\"color: #008080; text-decoration-color: #008080; font-weight: bold\">3</span>\n",
       "</pre>\n"
      ],
      "text/plain": [
       "Address: Санкт-Петербург, р-н Петроградский, Посадский, м. Горьковская, Пинский переулок, \u001b[1;36m3\u001b[0m\n"
      ]
     },
     "metadata": {},
     "output_type": "display_data"
    },
    {
     "data": {
      "text/html": [
       "<pre style=\"white-space:pre;overflow-x:auto;line-height:normal;font-family:Menlo,'DejaVu Sans Mono',consolas,'Courier New',monospace\">url <span style=\"color: #0000ff; text-decoration-color: #0000ff; text-decoration: underline\">https://spb.cian.ru/rent/commercial/307985967/</span>\n",
       "</pre>\n"
      ],
      "text/plain": [
       "url \u001b[4;94mhttps://spb.cian.ru/rent/commercial/307985967/\u001b[0m\n"
      ]
     },
     "metadata": {},
     "output_type": "display_data"
    },
    {
     "data": {
      "text/html": [
       "<pre style=\"white-space:pre;overflow-x:auto;line-height:normal;font-family:Menlo,'DejaVu Sans Mono',consolas,'Courier New',monospace\">price <span style=\"color: #008080; text-decoration-color: #008080; font-weight: bold\">2</span> <span style=\"color: #008080; text-decoration-color: #008080; font-weight: bold\">652</span> <span style=\"color: #008080; text-decoration-color: #008080; font-weight: bold\">000</span> руб.<span style=\"color: #800080; text-decoration-color: #800080\">/</span><span style=\"color: #ff00ff; text-decoration-color: #ff00ff\">мес.</span> \n",
       "</pre>\n"
      ],
      "text/plain": [
       "price \u001b[1;36m2\u001b[0m \u001b[1;36m652\u001b[0m \u001b[1;36m000\u001b[0m руб.\u001b[35m/\u001b[0m\u001b[95mмес.\u001b[0m \n"
      ]
     },
     "metadata": {},
     "output_type": "display_data"
    },
    {
     "data": {
      "text/html": [
       "<pre style=\"white-space:pre;overflow-x:auto;line-height:normal;font-family:Menlo,'DejaVu Sans Mono',consolas,'Courier New',monospace\">------------\n",
       "</pre>\n"
      ],
      "text/plain": [
       "------------\n"
      ]
     },
     "metadata": {},
     "output_type": "display_data"
    },
    {
     "data": {
      "text/html": [
       "<pre style=\"white-space:pre;overflow-x:auto;line-height:normal;font-family:Menlo,'DejaVu Sans Mono',consolas,'Courier New',monospace\">Title: Просторный open spaceОфис <span style=\"color: #008080; text-decoration-color: #008080; font-weight: bold\">1</span> <span style=\"color: #008080; text-decoration-color: #008080; font-weight: bold\">470</span>,<span style=\"color: #008080; text-decoration-color: #008080; font-weight: bold\">5</span> м² за <span style=\"color: #008080; text-decoration-color: #008080; font-weight: bold\">2</span> <span style=\"color: #008080; text-decoration-color: #008080; font-weight: bold\">499</span> <span style=\"color: #008080; text-decoration-color: #008080; font-weight: bold\">850</span> руб.<span style=\"color: #800080; text-decoration-color: #800080\">/</span><span style=\"color: #ff00ff; text-decoration-color: #ff00ff\">мес.</span> \n",
       "</pre>\n"
      ],
      "text/plain": [
       "Title: Просторный open spaceОфис \u001b[1;36m1\u001b[0m \u001b[1;36m470\u001b[0m,\u001b[1;36m5\u001b[0m м² за \u001b[1;36m2\u001b[0m \u001b[1;36m499\u001b[0m \u001b[1;36m850\u001b[0m руб.\u001b[35m/\u001b[0m\u001b[95mмес.\u001b[0m \n"
      ]
     },
     "metadata": {},
     "output_type": "display_data"
    },
    {
     "data": {
      "text/html": [
       "<pre style=\"white-space:pre;overflow-x:auto;line-height:normal;font-family:Menlo,'DejaVu Sans Mono',consolas,'Courier New',monospace\">Address: Санкт-Петербург, р-н Василеостровский, Остров Декабристов, м. Спортивная, Уральская улица, <span style=\"color: #008080; text-decoration-color: #008080; font-weight: bold\">4</span>\n",
       "</pre>\n"
      ],
      "text/plain": [
       "Address: Санкт-Петербург, р-н Василеостровский, Остров Декабристов, м. Спортивная, Уральская улица, \u001b[1;36m4\u001b[0m\n"
      ]
     },
     "metadata": {},
     "output_type": "display_data"
    },
    {
     "data": {
      "text/html": [
       "<pre style=\"white-space:pre;overflow-x:auto;line-height:normal;font-family:Menlo,'DejaVu Sans Mono',consolas,'Courier New',monospace\">url <span style=\"color: #0000ff; text-decoration-color: #0000ff; text-decoration: underline\">https://spb.cian.ru/rent/commercial/289332671/</span>\n",
       "</pre>\n"
      ],
      "text/plain": [
       "url \u001b[4;94mhttps://spb.cian.ru/rent/commercial/289332671/\u001b[0m\n"
      ]
     },
     "metadata": {},
     "output_type": "display_data"
    },
    {
     "data": {
      "text/html": [
       "<pre style=\"white-space:pre;overflow-x:auto;line-height:normal;font-family:Menlo,'DejaVu Sans Mono',consolas,'Courier New',monospace\">price <span style=\"color: #008080; text-decoration-color: #008080; font-weight: bold\">2</span> <span style=\"color: #008080; text-decoration-color: #008080; font-weight: bold\">499</span> <span style=\"color: #008080; text-decoration-color: #008080; font-weight: bold\">850</span> руб.<span style=\"color: #800080; text-decoration-color: #800080\">/</span><span style=\"color: #ff00ff; text-decoration-color: #ff00ff\">мес.</span> \n",
       "</pre>\n"
      ],
      "text/plain": [
       "price \u001b[1;36m2\u001b[0m \u001b[1;36m499\u001b[0m \u001b[1;36m850\u001b[0m руб.\u001b[35m/\u001b[0m\u001b[95mмес.\u001b[0m \n"
      ]
     },
     "metadata": {},
     "output_type": "display_data"
    },
    {
     "data": {
      "text/html": [
       "<pre style=\"white-space:pre;overflow-x:auto;line-height:normal;font-family:Menlo,'DejaVu Sans Mono',consolas,'Courier New',monospace\">------------\n",
       "</pre>\n"
      ],
      "text/plain": [
       "------------\n"
      ]
     },
     "metadata": {},
     "output_type": "display_data"
    },
    {
     "data": {
      "text/html": [
       "<pre style=\"white-space:pre;overflow-x:auto;line-height:normal;font-family:Menlo,'DejaVu Sans Mono',consolas,'Courier New',monospace\">Title: Стильный loft-офис рядом с метроОфис <span style=\"color: #008080; text-decoration-color: #008080; font-weight: bold\">561</span>,<span style=\"color: #008080; text-decoration-color: #008080; font-weight: bold\">8</span> м² за <span style=\"color: #008080; text-decoration-color: #008080; font-weight: bold\">814</span> <span style=\"color: #008080; text-decoration-color: #008080; font-weight: bold\">610</span> руб.<span style=\"color: #800080; text-decoration-color: #800080\">/</span><span style=\"color: #ff00ff; text-decoration-color: #ff00ff\">мес.</span> \n",
       "</pre>\n"
      ],
      "text/plain": [
       "Title: Стильный loft-офис рядом с метроОфис \u001b[1;36m561\u001b[0m,\u001b[1;36m8\u001b[0m м² за \u001b[1;36m814\u001b[0m \u001b[1;36m610\u001b[0m руб.\u001b[35m/\u001b[0m\u001b[95mмес.\u001b[0m \n"
      ]
     },
     "metadata": {},
     "output_type": "display_data"
    },
    {
     "data": {
      "text/html": [
       "<pre style=\"white-space:pre;overflow-x:auto;line-height:normal;font-family:Menlo,'DejaVu Sans Mono',consolas,'Courier New',monospace\">Address: Санкт-Петербург, р-н Красногвардейский, Малая Охта, м. Ладожская, площадь Карла Фаберже, <span style=\"color: #008080; text-decoration-color: #008080; font-weight: bold\">8</span>\n",
       "</pre>\n"
      ],
      "text/plain": [
       "Address: Санкт-Петербург, р-н Красногвардейский, Малая Охта, м. Ладожская, площадь Карла Фаберже, \u001b[1;36m8\u001b[0m\n"
      ]
     },
     "metadata": {},
     "output_type": "display_data"
    },
    {
     "data": {
      "text/html": [
       "<pre style=\"white-space:pre;overflow-x:auto;line-height:normal;font-family:Menlo,'DejaVu Sans Mono',consolas,'Courier New',monospace\">url <span style=\"color: #0000ff; text-decoration-color: #0000ff; text-decoration: underline\">https://spb.cian.ru/rent/commercial/307259520/</span>\n",
       "</pre>\n"
      ],
      "text/plain": [
       "url \u001b[4;94mhttps://spb.cian.ru/rent/commercial/307259520/\u001b[0m\n"
      ]
     },
     "metadata": {},
     "output_type": "display_data"
    },
    {
     "data": {
      "text/html": [
       "<pre style=\"white-space:pre;overflow-x:auto;line-height:normal;font-family:Menlo,'DejaVu Sans Mono',consolas,'Courier New',monospace\">price <span style=\"color: #008080; text-decoration-color: #008080; font-weight: bold\">814</span> <span style=\"color: #008080; text-decoration-color: #008080; font-weight: bold\">610</span> руб.<span style=\"color: #800080; text-decoration-color: #800080\">/</span><span style=\"color: #ff00ff; text-decoration-color: #ff00ff\">мес.</span> \n",
       "</pre>\n"
      ],
      "text/plain": [
       "price \u001b[1;36m814\u001b[0m \u001b[1;36m610\u001b[0m руб.\u001b[35m/\u001b[0m\u001b[95mмес.\u001b[0m \n"
      ]
     },
     "metadata": {},
     "output_type": "display_data"
    },
    {
     "data": {
      "text/html": [
       "<pre style=\"white-space:pre;overflow-x:auto;line-height:normal;font-family:Menlo,'DejaVu Sans Mono',consolas,'Courier New',monospace\">------------\n",
       "</pre>\n"
      ],
      "text/plain": [
       "------------\n"
      ]
     },
     "metadata": {},
     "output_type": "display_data"
    },
    {
     "data": {
      "text/html": [
       "<pre style=\"white-space:pre;overflow-x:auto;line-height:normal;font-family:Menlo,'DejaVu Sans Mono',consolas,'Courier New',monospace\">Title: Помещение с красивым видомСвоб. назнач. <span style=\"color: #008080; text-decoration-color: #008080; font-weight: bold\">60</span> м² за <span style=\"color: #008080; text-decoration-color: #008080; font-weight: bold\">125</span> <span style=\"color: #008080; text-decoration-color: #008080; font-weight: bold\">000</span> руб.<span style=\"color: #800080; text-decoration-color: #800080\">/</span><span style=\"color: #ff00ff; text-decoration-color: #ff00ff\">мес.</span> \n",
       "</pre>\n"
      ],
      "text/plain": [
       "Title: Помещение с красивым видомСвоб. назнач. \u001b[1;36m60\u001b[0m м² за \u001b[1;36m125\u001b[0m \u001b[1;36m000\u001b[0m руб.\u001b[35m/\u001b[0m\u001b[95mмес.\u001b[0m \n"
      ]
     },
     "metadata": {},
     "output_type": "display_data"
    },
    {
     "data": {
      "text/html": [
       "<pre style=\"white-space:pre;overflow-x:auto;line-height:normal;font-family:Menlo,'DejaVu Sans Mono',consolas,'Courier New',monospace\">Address: Санкт-Петербург, р-н Петроградский, Чкаловское, м. Петроградская, набережная Реки Карповки, 31к1\n",
       "</pre>\n"
      ],
      "text/plain": [
       "Address: Санкт-Петербург, р-н Петроградский, Чкаловское, м. Петроградская, набережная Реки Карповки, 31к1\n"
      ]
     },
     "metadata": {},
     "output_type": "display_data"
    },
    {
     "data": {
      "text/html": [
       "<pre style=\"white-space:pre;overflow-x:auto;line-height:normal;font-family:Menlo,'DejaVu Sans Mono',consolas,'Courier New',monospace\">url <span style=\"color: #0000ff; text-decoration-color: #0000ff; text-decoration: underline\">https://spb.cian.ru/rent/commercial/308035292/</span>\n",
       "</pre>\n"
      ],
      "text/plain": [
       "url \u001b[4;94mhttps://spb.cian.ru/rent/commercial/308035292/\u001b[0m\n"
      ]
     },
     "metadata": {},
     "output_type": "display_data"
    },
    {
     "data": {
      "text/html": [
       "<pre style=\"white-space:pre;overflow-x:auto;line-height:normal;font-family:Menlo,'DejaVu Sans Mono',consolas,'Courier New',monospace\">price <span style=\"color: #008080; text-decoration-color: #008080; font-weight: bold\">125</span> <span style=\"color: #008080; text-decoration-color: #008080; font-weight: bold\">000</span> руб.<span style=\"color: #800080; text-decoration-color: #800080\">/</span><span style=\"color: #ff00ff; text-decoration-color: #ff00ff\">мес.</span> \n",
       "</pre>\n"
      ],
      "text/plain": [
       "price \u001b[1;36m125\u001b[0m \u001b[1;36m000\u001b[0m руб.\u001b[35m/\u001b[0m\u001b[95mмес.\u001b[0m \n"
      ]
     },
     "metadata": {},
     "output_type": "display_data"
    },
    {
     "data": {
      "text/html": [
       "<pre style=\"white-space:pre;overflow-x:auto;line-height:normal;font-family:Menlo,'DejaVu Sans Mono',consolas,'Courier New',monospace\">------------\n",
       "</pre>\n"
      ],
      "text/plain": [
       "------------\n"
      ]
     },
     "metadata": {},
     "output_type": "display_data"
    },
    {
     "data": {
      "text/html": [
       "<pre style=\"white-space:pre;overflow-x:auto;line-height:normal;font-family:Menlo,'DejaVu Sans Mono',consolas,'Courier New',monospace\">Title:  Офис <span style=\"color: #008080; text-decoration-color: #008080; font-weight: bold\">15</span>,<span style=\"color: #008080; text-decoration-color: #008080; font-weight: bold\">1</span> м² за <span style=\"color: #008080; text-decoration-color: #008080; font-weight: bold\">13</span> <span style=\"color: #008080; text-decoration-color: #008080; font-weight: bold\">500</span> руб.<span style=\"color: #800080; text-decoration-color: #800080\">/</span><span style=\"color: #ff00ff; text-decoration-color: #ff00ff\">мес.</span>\n",
       "</pre>\n"
      ],
      "text/plain": [
       "Title:  Офис \u001b[1;36m15\u001b[0m,\u001b[1;36m1\u001b[0m м² за \u001b[1;36m13\u001b[0m \u001b[1;36m500\u001b[0m руб.\u001b[35m/\u001b[0m\u001b[95mмес.\u001b[0m\n"
      ]
     },
     "metadata": {},
     "output_type": "display_data"
    },
    {
     "data": {
      "text/html": [
       "<pre style=\"white-space:pre;overflow-x:auto;line-height:normal;font-family:Menlo,'DejaVu Sans Mono',consolas,'Courier New',monospace\">Address: Санкт-Петербург, р-н Василеостровский, Остров Декабристов, м. Приморская, переулок Декабристов, 7Т\n",
       "</pre>\n"
      ],
      "text/plain": [
       "Address: Санкт-Петербург, р-н Василеостровский, Остров Декабристов, м. Приморская, переулок Декабристов, 7Т\n"
      ]
     },
     "metadata": {},
     "output_type": "display_data"
    },
    {
     "data": {
      "text/html": [
       "<pre style=\"white-space:pre;overflow-x:auto;line-height:normal;font-family:Menlo,'DejaVu Sans Mono',consolas,'Courier New',monospace\">url <span style=\"color: #0000ff; text-decoration-color: #0000ff; text-decoration: underline\">https://spb.cian.ru/rent/commercial/308732998/</span>\n",
       "</pre>\n"
      ],
      "text/plain": [
       "url \u001b[4;94mhttps://spb.cian.ru/rent/commercial/308732998/\u001b[0m\n"
      ]
     },
     "metadata": {},
     "output_type": "display_data"
    },
    {
     "data": {
      "text/html": [
       "<pre style=\"white-space:pre;overflow-x:auto;line-height:normal;font-family:Menlo,'DejaVu Sans Mono',consolas,'Courier New',monospace\">price <span style=\"color: #008080; text-decoration-color: #008080; font-weight: bold\">13</span> <span style=\"color: #008080; text-decoration-color: #008080; font-weight: bold\">500</span> руб.<span style=\"color: #800080; text-decoration-color: #800080\">/</span><span style=\"color: #ff00ff; text-decoration-color: #ff00ff\">мес.</span>\n",
       "</pre>\n"
      ],
      "text/plain": [
       "price \u001b[1;36m13\u001b[0m \u001b[1;36m500\u001b[0m руб.\u001b[35m/\u001b[0m\u001b[95mмес.\u001b[0m\n"
      ]
     },
     "metadata": {},
     "output_type": "display_data"
    },
    {
     "data": {
      "text/html": [
       "<pre style=\"white-space:pre;overflow-x:auto;line-height:normal;font-family:Menlo,'DejaVu Sans Mono',consolas,'Courier New',monospace\">------------\n",
       "</pre>\n"
      ],
      "text/plain": [
       "------------\n"
      ]
     },
     "metadata": {},
     "output_type": "display_data"
    },
    {
     "data": {
      "text/html": [
       "<pre style=\"white-space:pre;overflow-x:auto;line-height:normal;font-family:Menlo,'DejaVu Sans Mono',consolas,'Courier New',monospace\">Title:  Офис <span style=\"color: #008080; text-decoration-color: #008080; font-weight: bold\">12</span>,<span style=\"color: #008080; text-decoration-color: #008080; font-weight: bold\">1</span> м² за <span style=\"color: #008080; text-decoration-color: #008080; font-weight: bold\">12</span> <span style=\"color: #008080; text-decoration-color: #008080; font-weight: bold\">000</span> руб.<span style=\"color: #800080; text-decoration-color: #800080\">/</span><span style=\"color: #ff00ff; text-decoration-color: #ff00ff\">мес.</span>\n",
       "</pre>\n"
      ],
      "text/plain": [
       "Title:  Офис \u001b[1;36m12\u001b[0m,\u001b[1;36m1\u001b[0m м² за \u001b[1;36m12\u001b[0m \u001b[1;36m000\u001b[0m руб.\u001b[35m/\u001b[0m\u001b[95mмес.\u001b[0m\n"
      ]
     },
     "metadata": {},
     "output_type": "display_data"
    },
    {
     "data": {
      "text/html": [
       "<pre style=\"white-space:pre;overflow-x:auto;line-height:normal;font-family:Menlo,'DejaVu Sans Mono',consolas,'Courier New',monospace\">Address: Санкт-Петербург, р-н Калининский, Прометей, м. Гражданский проспект, Тимуровская улица, 26К1\n",
       "</pre>\n"
      ],
      "text/plain": [
       "Address: Санкт-Петербург, р-н Калининский, Прометей, м. Гражданский проспект, Тимуровская улица, 26К1\n"
      ]
     },
     "metadata": {},
     "output_type": "display_data"
    },
    {
     "data": {
      "text/html": [
       "<pre style=\"white-space:pre;overflow-x:auto;line-height:normal;font-family:Menlo,'DejaVu Sans Mono',consolas,'Courier New',monospace\">url <span style=\"color: #0000ff; text-decoration-color: #0000ff; text-decoration: underline\">https://spb.cian.ru/rent/commercial/308732667/</span>\n",
       "</pre>\n"
      ],
      "text/plain": [
       "url \u001b[4;94mhttps://spb.cian.ru/rent/commercial/308732667/\u001b[0m\n"
      ]
     },
     "metadata": {},
     "output_type": "display_data"
    },
    {
     "data": {
      "text/html": [
       "<pre style=\"white-space:pre;overflow-x:auto;line-height:normal;font-family:Menlo,'DejaVu Sans Mono',consolas,'Courier New',monospace\">price <span style=\"color: #008080; text-decoration-color: #008080; font-weight: bold\">12</span> <span style=\"color: #008080; text-decoration-color: #008080; font-weight: bold\">000</span> руб.<span style=\"color: #800080; text-decoration-color: #800080\">/</span><span style=\"color: #ff00ff; text-decoration-color: #ff00ff\">мес.</span>\n",
       "</pre>\n"
      ],
      "text/plain": [
       "price \u001b[1;36m12\u001b[0m \u001b[1;36m000\u001b[0m руб.\u001b[35m/\u001b[0m\u001b[95mмес.\u001b[0m\n"
      ]
     },
     "metadata": {},
     "output_type": "display_data"
    },
    {
     "data": {
      "text/html": [
       "<pre style=\"white-space:pre;overflow-x:auto;line-height:normal;font-family:Menlo,'DejaVu Sans Mono',consolas,'Courier New',monospace\">------------\n",
       "</pre>\n"
      ],
      "text/plain": [
       "------------\n"
      ]
     },
     "metadata": {},
     "output_type": "display_data"
    },
    {
     "data": {
      "text/html": [
       "<pre style=\"white-space:pre;overflow-x:auto;line-height:normal;font-family:Menlo,'DejaVu Sans Mono',consolas,'Courier New',monospace\">Title: Складыул. Ленина1 <span style=\"color: #008080; text-decoration-color: #008080; font-weight: bold\">898</span> – <span style=\"color: #008080; text-decoration-color: #008080; font-weight: bold\">6</span> <span style=\"color: #008080; text-decoration-color: #008080; font-weight: bold\">065</span> м² от <span style=\"color: #008080; text-decoration-color: #008080; font-weight: bold\">2</span> <span style=\"color: #008080; text-decoration-color: #008080; font-weight: bold\">467</span> <span style=\"color: #008080; text-decoration-color: #008080; font-weight: bold\">400</span> ₽<span style=\"color: #800080; text-decoration-color: #800080\">/</span><span style=\"color: #ff00ff; text-decoration-color: #ff00ff\">мес.Новый</span> склад в Шушарах\n",
       "</pre>\n"
      ],
      "text/plain": [
       "Title: Складыул. Ленина1 \u001b[1;36m898\u001b[0m – \u001b[1;36m6\u001b[0m \u001b[1;36m065\u001b[0m м² от \u001b[1;36m2\u001b[0m \u001b[1;36m467\u001b[0m \u001b[1;36m400\u001b[0m ₽\u001b[35m/\u001b[0m\u001b[95mмес.Новый\u001b[0m склад в Шушарах\n"
      ]
     },
     "metadata": {},
     "output_type": "display_data"
    },
    {
     "data": {
      "text/html": [
       "<pre style=\"white-space:pre;overflow-x:auto;line-height:normal;font-family:Menlo,'DejaVu Sans Mono',consolas,'Courier New',monospace\">Address: Санкт-Петербург, р-н Пушкинский, мкр. Шушары, м. Шушары, улица Ленина, <span style=\"color: #008080; text-decoration-color: #008080; font-weight: bold\">19</span>\n",
       "</pre>\n"
      ],
      "text/plain": [
       "Address: Санкт-Петербург, р-н Пушкинский, мкр. Шушары, м. Шушары, улица Ленина, \u001b[1;36m19\u001b[0m\n"
      ]
     },
     "metadata": {},
     "output_type": "display_data"
    },
    {
     "data": {
      "text/html": [
       "<pre style=\"white-space:pre;overflow-x:auto;line-height:normal;font-family:Menlo,'DejaVu Sans Mono',consolas,'Courier New',monospace\">url <span style=\"color: #0000ff; text-decoration-color: #0000ff; text-decoration: underline\">https://spb.cian.ru/rent/commercial/297235566/</span>\n",
       "</pre>\n"
      ],
      "text/plain": [
       "url \u001b[4;94mhttps://spb.cian.ru/rent/commercial/297235566/\u001b[0m\n"
      ]
     },
     "metadata": {},
     "output_type": "display_data"
    },
    {
     "data": {
      "text/html": [
       "<pre style=\"white-space:pre;overflow-x:auto;line-height:normal;font-family:Menlo,'DejaVu Sans Mono',consolas,'Courier New',monospace\">price <span style=\"color: #008080; text-decoration-color: #008080; font-weight: bold\">2</span> <span style=\"color: #008080; text-decoration-color: #008080; font-weight: bold\">467</span> <span style=\"color: #008080; text-decoration-color: #008080; font-weight: bold\">400</span> ₽<span style=\"color: #800080; text-decoration-color: #800080\">/</span><span style=\"color: #ff00ff; text-decoration-color: #ff00ff\">мес.Новый</span> склад в Шушарах\n",
       "</pre>\n"
      ],
      "text/plain": [
       "price \u001b[1;36m2\u001b[0m \u001b[1;36m467\u001b[0m \u001b[1;36m400\u001b[0m ₽\u001b[35m/\u001b[0m\u001b[95mмес.Новый\u001b[0m склад в Шушарах\n"
      ]
     },
     "metadata": {},
     "output_type": "display_data"
    },
    {
     "data": {
      "text/html": [
       "<pre style=\"white-space:pre;overflow-x:auto;line-height:normal;font-family:Menlo,'DejaVu Sans Mono',consolas,'Courier New',monospace\">------------\n",
       "</pre>\n"
      ],
      "text/plain": [
       "------------\n"
      ]
     },
     "metadata": {},
     "output_type": "display_data"
    },
    {
     "data": {
      "text/html": [
       "<pre style=\"white-space:pre;overflow-x:auto;line-height:normal;font-family:Menlo,'DejaVu Sans Mono',consolas,'Courier New',monospace\">Title:  Офис <span style=\"color: #008080; text-decoration-color: #008080; font-weight: bold\">13</span>,<span style=\"color: #008080; text-decoration-color: #008080; font-weight: bold\">1</span> м² за <span style=\"color: #008080; text-decoration-color: #008080; font-weight: bold\">14</span> <span style=\"color: #008080; text-decoration-color: #008080; font-weight: bold\">000</span> руб.<span style=\"color: #800080; text-decoration-color: #800080\">/</span><span style=\"color: #ff00ff; text-decoration-color: #ff00ff\">мес.</span>\n",
       "</pre>\n"
      ],
      "text/plain": [
       "Title:  Офис \u001b[1;36m13\u001b[0m,\u001b[1;36m1\u001b[0m м² за \u001b[1;36m14\u001b[0m \u001b[1;36m000\u001b[0m руб.\u001b[35m/\u001b[0m\u001b[95mмес.\u001b[0m\n"
      ]
     },
     "metadata": {},
     "output_type": "display_data"
    },
    {
     "data": {
      "text/html": [
       "<pre style=\"white-space:pre;overflow-x:auto;line-height:normal;font-family:Menlo,'DejaVu Sans Mono',consolas,'Courier New',monospace\">Address: Санкт-Петербург, р-н Адмиралтейский, Измайловское, м. Балтийская, Измайловский проспект, 22к3\n",
       "</pre>\n"
      ],
      "text/plain": [
       "Address: Санкт-Петербург, р-н Адмиралтейский, Измайловское, м. Балтийская, Измайловский проспект, 22к3\n"
      ]
     },
     "metadata": {},
     "output_type": "display_data"
    },
    {
     "data": {
      "text/html": [
       "<pre style=\"white-space:pre;overflow-x:auto;line-height:normal;font-family:Menlo,'DejaVu Sans Mono',consolas,'Courier New',monospace\">url <span style=\"color: #0000ff; text-decoration-color: #0000ff; text-decoration: underline\">https://spb.cian.ru/rent/commercial/308732322/</span>\n",
       "</pre>\n"
      ],
      "text/plain": [
       "url \u001b[4;94mhttps://spb.cian.ru/rent/commercial/308732322/\u001b[0m\n"
      ]
     },
     "metadata": {},
     "output_type": "display_data"
    },
    {
     "data": {
      "text/html": [
       "<pre style=\"white-space:pre;overflow-x:auto;line-height:normal;font-family:Menlo,'DejaVu Sans Mono',consolas,'Courier New',monospace\">price <span style=\"color: #008080; text-decoration-color: #008080; font-weight: bold\">14</span> <span style=\"color: #008080; text-decoration-color: #008080; font-weight: bold\">000</span> руб.<span style=\"color: #800080; text-decoration-color: #800080\">/</span><span style=\"color: #ff00ff; text-decoration-color: #ff00ff\">мес.</span>\n",
       "</pre>\n"
      ],
      "text/plain": [
       "price \u001b[1;36m14\u001b[0m \u001b[1;36m000\u001b[0m руб.\u001b[35m/\u001b[0m\u001b[95mмес.\u001b[0m\n"
      ]
     },
     "metadata": {},
     "output_type": "display_data"
    },
    {
     "data": {
      "text/html": [
       "<pre style=\"white-space:pre;overflow-x:auto;line-height:normal;font-family:Menlo,'DejaVu Sans Mono',consolas,'Courier New',monospace\">------------\n",
       "</pre>\n"
      ],
      "text/plain": [
       "------------\n"
      ]
     },
     "metadata": {},
     "output_type": "display_data"
    },
    {
     "data": {
      "text/html": [
       "<pre style=\"white-space:pre;overflow-x:auto;line-height:normal;font-family:Menlo,'DejaVu Sans Mono',consolas,'Courier New',monospace\">Title: ОфисыАфонская <span style=\"color: #008080; text-decoration-color: #008080; font-weight: bold\">244</span>,<span style=\"color: #008080; text-decoration-color: #008080; font-weight: bold\">6</span> – <span style=\"color: #008080; text-decoration-color: #008080; font-weight: bold\">55</span>,<span style=\"color: #008080; text-decoration-color: #008080; font-weight: bold\">4</span> м² от <span style=\"color: #008080; text-decoration-color: #008080; font-weight: bold\">55</span> <span style=\"color: #008080; text-decoration-color: #008080; font-weight: bold\">750</span> ₽<span style=\"color: #800080; text-decoration-color: #800080\">/</span><span style=\"color: #ff00ff; text-decoration-color: #ff00ff\">мес.Офисы</span> на Афонской\n",
       "</pre>\n"
      ],
      "text/plain": [
       "Title: ОфисыАфонская \u001b[1;36m244\u001b[0m,\u001b[1;36m6\u001b[0m – \u001b[1;36m55\u001b[0m,\u001b[1;36m4\u001b[0m м² от \u001b[1;36m55\u001b[0m \u001b[1;36m750\u001b[0m ₽\u001b[35m/\u001b[0m\u001b[95mмес.Офисы\u001b[0m на Афонской\n"
      ]
     },
     "metadata": {},
     "output_type": "display_data"
    },
    {
     "data": {
      "text/html": [
       "<pre style=\"white-space:pre;overflow-x:auto;line-height:normal;font-family:Menlo,'DejaVu Sans Mono',consolas,'Courier New',monospace\">Address: Санкт-Петербург, р-н Приморский, Коломяги, м. Удельная, Афонская улица, <span style=\"color: #008080; text-decoration-color: #008080; font-weight: bold\">2</span>\n",
       "</pre>\n"
      ],
      "text/plain": [
       "Address: Санкт-Петербург, р-н Приморский, Коломяги, м. Удельная, Афонская улица, \u001b[1;36m2\u001b[0m\n"
      ]
     },
     "metadata": {},
     "output_type": "display_data"
    },
    {
     "data": {
      "text/html": [
       "<pre style=\"white-space:pre;overflow-x:auto;line-height:normal;font-family:Menlo,'DejaVu Sans Mono',consolas,'Courier New',monospace\">url <span style=\"color: #0000ff; text-decoration-color: #0000ff; text-decoration: underline\">https://spb.cian.ru/rent/commercial/303338697/</span>\n",
       "</pre>\n"
      ],
      "text/plain": [
       "url \u001b[4;94mhttps://spb.cian.ru/rent/commercial/303338697/\u001b[0m\n"
      ]
     },
     "metadata": {},
     "output_type": "display_data"
    },
    {
     "data": {
      "text/html": [
       "<pre style=\"white-space:pre;overflow-x:auto;line-height:normal;font-family:Menlo,'DejaVu Sans Mono',consolas,'Courier New',monospace\">price <span style=\"color: #008080; text-decoration-color: #008080; font-weight: bold\">55</span> <span style=\"color: #008080; text-decoration-color: #008080; font-weight: bold\">750</span> ₽<span style=\"color: #800080; text-decoration-color: #800080\">/</span><span style=\"color: #ff00ff; text-decoration-color: #ff00ff\">мес.Офисы</span> на Афонской\n",
       "</pre>\n"
      ],
      "text/plain": [
       "price \u001b[1;36m55\u001b[0m \u001b[1;36m750\u001b[0m ₽\u001b[35m/\u001b[0m\u001b[95mмес.Офисы\u001b[0m на Афонской\n"
      ]
     },
     "metadata": {},
     "output_type": "display_data"
    },
    {
     "data": {
      "text/html": [
       "<pre style=\"white-space:pre;overflow-x:auto;line-height:normal;font-family:Menlo,'DejaVu Sans Mono',consolas,'Courier New',monospace\">------------\n",
       "</pre>\n"
      ],
      "text/plain": [
       "------------\n"
      ]
     },
     "metadata": {},
     "output_type": "display_data"
    },
    {
     "data": {
      "text/html": [
       "<pre style=\"white-space:pre;overflow-x:auto;line-height:normal;font-family:Menlo,'DejaVu Sans Mono',consolas,'Courier New',monospace\">Title: Сдается Офис, <span style=\"color: #008080; text-decoration-color: #008080; font-weight: bold\">703</span> м²Офис <span style=\"color: #008080; text-decoration-color: #008080; font-weight: bold\">703</span> м² за <span style=\"color: #008080; text-decoration-color: #008080; font-weight: bold\">750</span> <span style=\"color: #008080; text-decoration-color: #008080; font-weight: bold\">000</span> руб.<span style=\"color: #800080; text-decoration-color: #800080\">/</span><span style=\"color: #ff00ff; text-decoration-color: #ff00ff\">мес.</span> \n",
       "</pre>\n"
      ],
      "text/plain": [
       "Title: Сдается Офис, \u001b[1;36m703\u001b[0m м²Офис \u001b[1;36m703\u001b[0m м² за \u001b[1;36m750\u001b[0m \u001b[1;36m000\u001b[0m руб.\u001b[35m/\u001b[0m\u001b[95mмес.\u001b[0m \n"
      ]
     },
     "metadata": {},
     "output_type": "display_data"
    },
    {
     "data": {
      "text/html": [
       "<pre style=\"white-space:pre;overflow-x:auto;line-height:normal;font-family:Menlo,'DejaVu Sans Mono',consolas,'Courier New',monospace\">Address: Санкт-Петербург, р-н Выборгский, Сампсониевское, м. Площадь Ленина, Пироговская набережная, <span style=\"color: #008080; text-decoration-color: #008080; font-weight: bold\">5</span>/<span style=\"color: #008080; text-decoration-color: #008080; font-weight: bold\">2</span>\n",
       "</pre>\n"
      ],
      "text/plain": [
       "Address: Санкт-Петербург, р-н Выборгский, Сампсониевское, м. Площадь Ленина, Пироговская набережная, \u001b[1;36m5\u001b[0m/\u001b[1;36m2\u001b[0m\n"
      ]
     },
     "metadata": {},
     "output_type": "display_data"
    },
    {
     "data": {
      "text/html": [
       "<pre style=\"white-space:pre;overflow-x:auto;line-height:normal;font-family:Menlo,'DejaVu Sans Mono',consolas,'Courier New',monospace\">url <span style=\"color: #0000ff; text-decoration-color: #0000ff; text-decoration: underline\">https://spb.cian.ru/rent/commercial/307542288/</span>\n",
       "</pre>\n"
      ],
      "text/plain": [
       "url \u001b[4;94mhttps://spb.cian.ru/rent/commercial/307542288/\u001b[0m\n"
      ]
     },
     "metadata": {},
     "output_type": "display_data"
    },
    {
     "data": {
      "text/html": [
       "<pre style=\"white-space:pre;overflow-x:auto;line-height:normal;font-family:Menlo,'DejaVu Sans Mono',consolas,'Courier New',monospace\">price  <span style=\"color: #008080; text-decoration-color: #008080; font-weight: bold\">703</span> м² за <span style=\"color: #008080; text-decoration-color: #008080; font-weight: bold\">750</span> <span style=\"color: #008080; text-decoration-color: #008080; font-weight: bold\">000</span> руб.<span style=\"color: #800080; text-decoration-color: #800080\">/</span><span style=\"color: #ff00ff; text-decoration-color: #ff00ff\">мес.</span> \n",
       "</pre>\n"
      ],
      "text/plain": [
       "price  \u001b[1;36m703\u001b[0m м² за \u001b[1;36m750\u001b[0m \u001b[1;36m000\u001b[0m руб.\u001b[35m/\u001b[0m\u001b[95mмес.\u001b[0m \n"
      ]
     },
     "metadata": {},
     "output_type": "display_data"
    },
    {
     "data": {
      "text/html": [
       "<pre style=\"white-space:pre;overflow-x:auto;line-height:normal;font-family:Menlo,'DejaVu Sans Mono',consolas,'Courier New',monospace\">------------\n",
       "</pre>\n"
      ],
      "text/plain": [
       "------------\n"
      ]
     },
     "metadata": {},
     "output_type": "display_data"
    },
    {
     "data": {
      "text/html": [
       "<pre style=\"white-space:pre;overflow-x:auto;line-height:normal;font-family:Menlo,'DejaVu Sans Mono',consolas,'Courier New',monospace\">Title: СкладыШафировский просп.<span style=\"color: #008080; text-decoration-color: #008080; font-weight: bold\">1</span> <span style=\"color: #008080; text-decoration-color: #008080; font-weight: bold\">440</span> – <span style=\"color: #008080; text-decoration-color: #008080; font-weight: bold\">7</span> <span style=\"color: #008080; text-decoration-color: #008080; font-weight: bold\">200</span> м² от <span style=\"color: #008080; text-decoration-color: #008080; font-weight: bold\">1</span> <span style=\"color: #008080; text-decoration-color: #008080; font-weight: bold\">728</span> <span style=\"color: #008080; text-decoration-color: #008080; font-weight: bold\">000</span> ₽<span style=\"color: #800080; text-decoration-color: #800080\">/</span><span style=\"color: #ff00ff; text-decoration-color: #ff00ff\">мес.Новый</span> склад рядом с КАД\n",
       "</pre>\n"
      ],
      "text/plain": [
       "Title: СкладыШафировский просп.\u001b[1;36m1\u001b[0m \u001b[1;36m440\u001b[0m – \u001b[1;36m7\u001b[0m \u001b[1;36m200\u001b[0m м² от \u001b[1;36m1\u001b[0m \u001b[1;36m728\u001b[0m \u001b[1;36m000\u001b[0m ₽\u001b[35m/\u001b[0m\u001b[95mмес.Новый\u001b[0m склад рядом с КАД\n"
      ]
     },
     "metadata": {},
     "output_type": "display_data"
    },
    {
     "data": {
      "text/html": [
       "<pre style=\"white-space:pre;overflow-x:auto;line-height:normal;font-family:Menlo,'DejaVu Sans Mono',consolas,'Courier New',monospace\">Address: Санкт-Петербург, р-н Красногвардейский, Полюстрово, м. Ладожская, Шафировский проспект, <span style=\"color: #008080; text-decoration-color: #008080; font-weight: bold\">28</span>\n",
       "</pre>\n"
      ],
      "text/plain": [
       "Address: Санкт-Петербург, р-н Красногвардейский, Полюстрово, м. Ладожская, Шафировский проспект, \u001b[1;36m28\u001b[0m\n"
      ]
     },
     "metadata": {},
     "output_type": "display_data"
    },
    {
     "data": {
      "text/html": [
       "<pre style=\"white-space:pre;overflow-x:auto;line-height:normal;font-family:Menlo,'DejaVu Sans Mono',consolas,'Courier New',monospace\">url <span style=\"color: #0000ff; text-decoration-color: #0000ff; text-decoration: underline\">https://spb.cian.ru/rent/commercial/297935754/</span>\n",
       "</pre>\n"
      ],
      "text/plain": [
       "url \u001b[4;94mhttps://spb.cian.ru/rent/commercial/297935754/\u001b[0m\n"
      ]
     },
     "metadata": {},
     "output_type": "display_data"
    },
    {
     "data": {
      "text/html": [
       "<pre style=\"white-space:pre;overflow-x:auto;line-height:normal;font-family:Menlo,'DejaVu Sans Mono',consolas,'Courier New',monospace\">price <span style=\"color: #008080; text-decoration-color: #008080; font-weight: bold\">1</span> <span style=\"color: #008080; text-decoration-color: #008080; font-weight: bold\">728</span> <span style=\"color: #008080; text-decoration-color: #008080; font-weight: bold\">000</span> ₽<span style=\"color: #800080; text-decoration-color: #800080\">/</span><span style=\"color: #ff00ff; text-decoration-color: #ff00ff\">мес.Новый</span> склад рядом с КАД\n",
       "</pre>\n"
      ],
      "text/plain": [
       "price \u001b[1;36m1\u001b[0m \u001b[1;36m728\u001b[0m \u001b[1;36m000\u001b[0m ₽\u001b[35m/\u001b[0m\u001b[95mмес.Новый\u001b[0m склад рядом с КАД\n"
      ]
     },
     "metadata": {},
     "output_type": "display_data"
    },
    {
     "data": {
      "text/html": [
       "<pre style=\"white-space:pre;overflow-x:auto;line-height:normal;font-family:Menlo,'DejaVu Sans Mono',consolas,'Courier New',monospace\">------------\n",
       "</pre>\n"
      ],
      "text/plain": [
       "------------\n"
      ]
     },
     "metadata": {},
     "output_type": "display_data"
    },
    {
     "data": {
      "text/html": [
       "<pre style=\"white-space:pre;overflow-x:auto;line-height:normal;font-family:Menlo,'DejaVu Sans Mono',consolas,'Courier New',monospace\">Title:  Офис <span style=\"color: #008080; text-decoration-color: #008080; font-weight: bold\">14</span>,<span style=\"color: #008080; text-decoration-color: #008080; font-weight: bold\">1</span> м² за <span style=\"color: #008080; text-decoration-color: #008080; font-weight: bold\">13</span> <span style=\"color: #008080; text-decoration-color: #008080; font-weight: bold\">500</span> руб.<span style=\"color: #800080; text-decoration-color: #800080\">/</span><span style=\"color: #ff00ff; text-decoration-color: #ff00ff\">мес.</span>\n",
       "</pre>\n"
      ],
      "text/plain": [
       "Title:  Офис \u001b[1;36m14\u001b[0m,\u001b[1;36m1\u001b[0m м² за \u001b[1;36m13\u001b[0m \u001b[1;36m500\u001b[0m руб.\u001b[35m/\u001b[0m\u001b[95mмес.\u001b[0m\n"
      ]
     },
     "metadata": {},
     "output_type": "display_data"
    },
    {
     "data": {
      "text/html": [
       "<pre style=\"white-space:pre;overflow-x:auto;line-height:normal;font-family:Menlo,'DejaVu Sans Mono',consolas,'Courier New',monospace\">Address: Санкт-Петербург, р-н Кировский, Нарвский, м. Нарвская, Промышленная улица, 14а\n",
       "</pre>\n"
      ],
      "text/plain": [
       "Address: Санкт-Петербург, р-н Кировский, Нарвский, м. Нарвская, Промышленная улица, 14а\n"
      ]
     },
     "metadata": {},
     "output_type": "display_data"
    },
    {
     "data": {
      "text/html": [
       "<pre style=\"white-space:pre;overflow-x:auto;line-height:normal;font-family:Menlo,'DejaVu Sans Mono',consolas,'Courier New',monospace\">url <span style=\"color: #0000ff; text-decoration-color: #0000ff; text-decoration: underline\">https://spb.cian.ru/rent/commercial/308732467/</span>\n",
       "</pre>\n"
      ],
      "text/plain": [
       "url \u001b[4;94mhttps://spb.cian.ru/rent/commercial/308732467/\u001b[0m\n"
      ]
     },
     "metadata": {},
     "output_type": "display_data"
    },
    {
     "data": {
      "text/html": [
       "<pre style=\"white-space:pre;overflow-x:auto;line-height:normal;font-family:Menlo,'DejaVu Sans Mono',consolas,'Courier New',monospace\">price <span style=\"color: #008080; text-decoration-color: #008080; font-weight: bold\">13</span> <span style=\"color: #008080; text-decoration-color: #008080; font-weight: bold\">500</span> руб.<span style=\"color: #800080; text-decoration-color: #800080\">/</span><span style=\"color: #ff00ff; text-decoration-color: #ff00ff\">мес.</span>\n",
       "</pre>\n"
      ],
      "text/plain": [
       "price \u001b[1;36m13\u001b[0m \u001b[1;36m500\u001b[0m руб.\u001b[35m/\u001b[0m\u001b[95mмес.\u001b[0m\n"
      ]
     },
     "metadata": {},
     "output_type": "display_data"
    },
    {
     "data": {
      "text/html": [
       "<pre style=\"white-space:pre;overflow-x:auto;line-height:normal;font-family:Menlo,'DejaVu Sans Mono',consolas,'Courier New',monospace\">------------\n",
       "</pre>\n"
      ],
      "text/plain": [
       "------------\n"
      ]
     },
     "metadata": {},
     "output_type": "display_data"
    },
    {
     "data": {
      "text/html": [
       "<pre style=\"white-space:pre;overflow-x:auto;line-height:normal;font-family:Menlo,'DejaVu Sans Mono',consolas,'Courier New',monospace\">Title:  Офис <span style=\"color: #008080; text-decoration-color: #008080; font-weight: bold\">15</span>,<span style=\"color: #008080; text-decoration-color: #008080; font-weight: bold\">5</span> м² за <span style=\"color: #008080; text-decoration-color: #008080; font-weight: bold\">13</span> <span style=\"color: #008080; text-decoration-color: #008080; font-weight: bold\">000</span> руб.<span style=\"color: #800080; text-decoration-color: #800080\">/</span><span style=\"color: #ff00ff; text-decoration-color: #ff00ff\">мес.</span>\n",
       "</pre>\n"
      ],
      "text/plain": [
       "Title:  Офис \u001b[1;36m15\u001b[0m,\u001b[1;36m5\u001b[0m м² за \u001b[1;36m13\u001b[0m \u001b[1;36m000\u001b[0m руб.\u001b[35m/\u001b[0m\u001b[95mмес.\u001b[0m\n"
      ]
     },
     "metadata": {},
     "output_type": "display_data"
    },
    {
     "data": {
      "text/html": [
       "<pre style=\"white-space:pre;overflow-x:auto;line-height:normal;font-family:Menlo,'DejaVu Sans Mono',consolas,'Courier New',monospace\">Address: Санкт-Петербург, р-н Фрунзенский, Волковское, м. Волковская, улица Салова, 27АВ\n",
       "</pre>\n"
      ],
      "text/plain": [
       "Address: Санкт-Петербург, р-н Фрунзенский, Волковское, м. Волковская, улица Салова, 27АВ\n"
      ]
     },
     "metadata": {},
     "output_type": "display_data"
    },
    {
     "data": {
      "text/html": [
       "<pre style=\"white-space:pre;overflow-x:auto;line-height:normal;font-family:Menlo,'DejaVu Sans Mono',consolas,'Courier New',monospace\">url <span style=\"color: #0000ff; text-decoration-color: #0000ff; text-decoration: underline\">https://spb.cian.ru/rent/commercial/308674787/</span>\n",
       "</pre>\n"
      ],
      "text/plain": [
       "url \u001b[4;94mhttps://spb.cian.ru/rent/commercial/308674787/\u001b[0m\n"
      ]
     },
     "metadata": {},
     "output_type": "display_data"
    },
    {
     "data": {
      "text/html": [
       "<pre style=\"white-space:pre;overflow-x:auto;line-height:normal;font-family:Menlo,'DejaVu Sans Mono',consolas,'Courier New',monospace\">price <span style=\"color: #008080; text-decoration-color: #008080; font-weight: bold\">13</span> <span style=\"color: #008080; text-decoration-color: #008080; font-weight: bold\">000</span> руб.<span style=\"color: #800080; text-decoration-color: #800080\">/</span><span style=\"color: #ff00ff; text-decoration-color: #ff00ff\">мес.</span>\n",
       "</pre>\n"
      ],
      "text/plain": [
       "price \u001b[1;36m13\u001b[0m \u001b[1;36m000\u001b[0m руб.\u001b[35m/\u001b[0m\u001b[95mмес.\u001b[0m\n"
      ]
     },
     "metadata": {},
     "output_type": "display_data"
    },
    {
     "data": {
      "text/html": [
       "<pre style=\"white-space:pre;overflow-x:auto;line-height:normal;font-family:Menlo,'DejaVu Sans Mono',consolas,'Courier New',monospace\">------------\n",
       "</pre>\n"
      ],
      "text/plain": [
       "------------\n"
      ]
     },
     "metadata": {},
     "output_type": "display_data"
    },
    {
     "data": {
      "text/html": [
       "<pre style=\"white-space:pre;overflow-x:auto;line-height:normal;font-family:Menlo,'DejaVu Sans Mono',consolas,'Courier New',monospace\">Title: Склад A-класса <span style=\"color: #008080; text-decoration-color: #008080; font-weight: bold\">1407</span> м² у КАДСклад <span style=\"color: #008080; text-decoration-color: #008080; font-weight: bold\">1</span> <span style=\"color: #008080; text-decoration-color: #008080; font-weight: bold\">407</span> м² за <span style=\"color: #008080; text-decoration-color: #008080; font-weight: bold\">1</span> <span style=\"color: #008080; text-decoration-color: #008080; font-weight: bold\">899</span> <span style=\"color: #008080; text-decoration-color: #008080; font-weight: bold\">450</span> руб.<span style=\"color: #800080; text-decoration-color: #800080\">/</span><span style=\"color: #ff00ff; text-decoration-color: #ff00ff\">мес.</span> Класс A\n",
       "</pre>\n"
      ],
      "text/plain": [
       "Title: Склад A-класса \u001b[1;36m1407\u001b[0m м² у КАДСклад \u001b[1;36m1\u001b[0m \u001b[1;36m407\u001b[0m м² за \u001b[1;36m1\u001b[0m \u001b[1;36m899\u001b[0m \u001b[1;36m450\u001b[0m руб.\u001b[35m/\u001b[0m\u001b[95mмес.\u001b[0m Класс A\n"
      ]
     },
     "metadata": {},
     "output_type": "display_data"
    },
    {
     "data": {
      "text/html": [
       "<pre style=\"white-space:pre;overflow-x:auto;line-height:normal;font-family:Menlo,'DejaVu Sans Mono',consolas,'Courier New',monospace\">Address: Санкт-Петербург, р-н Невский, Рыбацкое, м. Обухово, проспект Обуховской обороны, 295БД\n",
       "</pre>\n"
      ],
      "text/plain": [
       "Address: Санкт-Петербург, р-н Невский, Рыбацкое, м. Обухово, проспект Обуховской обороны, 295БД\n"
      ]
     },
     "metadata": {},
     "output_type": "display_data"
    },
    {
     "data": {
      "text/html": [
       "<pre style=\"white-space:pre;overflow-x:auto;line-height:normal;font-family:Menlo,'DejaVu Sans Mono',consolas,'Courier New',monospace\">url <span style=\"color: #0000ff; text-decoration-color: #0000ff; text-decoration: underline\">https://spb.cian.ru/rent/commercial/240937623/</span>\n",
       "</pre>\n"
      ],
      "text/plain": [
       "url \u001b[4;94mhttps://spb.cian.ru/rent/commercial/240937623/\u001b[0m\n"
      ]
     },
     "metadata": {},
     "output_type": "display_data"
    },
    {
     "data": {
      "text/html": [
       "<pre style=\"white-space:pre;overflow-x:auto;line-height:normal;font-family:Menlo,'DejaVu Sans Mono',consolas,'Courier New',monospace\">price АДСклад <span style=\"color: #008080; text-decoration-color: #008080; font-weight: bold\">1</span> <span style=\"color: #008080; text-decoration-color: #008080; font-weight: bold\">407</span> м² за <span style=\"color: #008080; text-decoration-color: #008080; font-weight: bold\">1</span> <span style=\"color: #008080; text-decoration-color: #008080; font-weight: bold\">899</span> <span style=\"color: #008080; text-decoration-color: #008080; font-weight: bold\">450</span> руб.<span style=\"color: #800080; text-decoration-color: #800080\">/</span><span style=\"color: #ff00ff; text-decoration-color: #ff00ff\">мес.</span> Класс A\n",
       "</pre>\n"
      ],
      "text/plain": [
       "price АДСклад \u001b[1;36m1\u001b[0m \u001b[1;36m407\u001b[0m м² за \u001b[1;36m1\u001b[0m \u001b[1;36m899\u001b[0m \u001b[1;36m450\u001b[0m руб.\u001b[35m/\u001b[0m\u001b[95mмес.\u001b[0m Класс A\n"
      ]
     },
     "metadata": {},
     "output_type": "display_data"
    },
    {
     "data": {
      "text/html": [
       "<pre style=\"white-space:pre;overflow-x:auto;line-height:normal;font-family:Menlo,'DejaVu Sans Mono',consolas,'Courier New',monospace\">------------\n",
       "</pre>\n"
      ],
      "text/plain": [
       "------------\n"
      ]
     },
     "metadata": {},
     "output_type": "display_data"
    },
    {
     "data": {
      "text/html": [
       "<pre style=\"white-space:pre;overflow-x:auto;line-height:normal;font-family:Menlo,'DejaVu Sans Mono',consolas,'Courier New',monospace\">Title: СкладыИнтертерминал Кубинская 75к1литЗ1 <span style=\"color: #008080; text-decoration-color: #008080; font-weight: bold\">105</span> – <span style=\"color: #008080; text-decoration-color: #008080; font-weight: bold\">1</span> <span style=\"color: #008080; text-decoration-color: #008080; font-weight: bold\">980</span> м² от <span style=\"color: #008080; text-decoration-color: #008080; font-weight: bold\">1</span> <span style=\"color: #008080; text-decoration-color: #008080; font-weight: bold\">436</span> <span style=\"color: #008080; text-decoration-color: #008080; font-weight: bold\">500</span> ₽<span style=\"color: #800080; text-decoration-color: #800080\">/</span><span style=\"color: #ff00ff; text-decoration-color: #ff00ff\">мес.Склад</span> A-класса со стеллажами\n",
       "</pre>\n"
      ],
      "text/plain": [
       "Title: СкладыИнтертерминал Кубинская 75к1литЗ1 \u001b[1;36m105\u001b[0m – \u001b[1;36m1\u001b[0m \u001b[1;36m980\u001b[0m м² от \u001b[1;36m1\u001b[0m \u001b[1;36m436\u001b[0m \u001b[1;36m500\u001b[0m ₽\u001b[35m/\u001b[0m\u001b[95mмес.Склад\u001b[0m A-класса со стеллажами\n"
      ]
     },
     "metadata": {},
     "output_type": "display_data"
    },
    {
     "data": {
      "text/html": [
       "<pre style=\"white-space:pre;overflow-x:auto;line-height:normal;font-family:Menlo,'DejaVu Sans Mono',consolas,'Courier New',monospace\">Address: Санкт-Петербург, р-н Московский, Новоизмайловское, м. Ленинский проспект, Кубинская улица, 75к1литЗ\n",
       "</pre>\n"
      ],
      "text/plain": [
       "Address: Санкт-Петербург, р-н Московский, Новоизмайловское, м. Ленинский проспект, Кубинская улица, 75к1литЗ\n"
      ]
     },
     "metadata": {},
     "output_type": "display_data"
    },
    {
     "data": {
      "text/html": [
       "<pre style=\"white-space:pre;overflow-x:auto;line-height:normal;font-family:Menlo,'DejaVu Sans Mono',consolas,'Courier New',monospace\">url <span style=\"color: #0000ff; text-decoration-color: #0000ff; text-decoration: underline\">https://spb.cian.ru/rent/commercial/306900286/</span>\n",
       "</pre>\n"
      ],
      "text/plain": [
       "url \u001b[4;94mhttps://spb.cian.ru/rent/commercial/306900286/\u001b[0m\n"
      ]
     },
     "metadata": {},
     "output_type": "display_data"
    },
    {
     "data": {
      "text/html": [
       "<pre style=\"white-space:pre;overflow-x:auto;line-height:normal;font-family:Menlo,'DejaVu Sans Mono',consolas,'Courier New',monospace\">price <span style=\"color: #008080; text-decoration-color: #008080; font-weight: bold\">1</span> <span style=\"color: #008080; text-decoration-color: #008080; font-weight: bold\">436</span> <span style=\"color: #008080; text-decoration-color: #008080; font-weight: bold\">500</span> ₽<span style=\"color: #800080; text-decoration-color: #800080\">/</span><span style=\"color: #ff00ff; text-decoration-color: #ff00ff\">мес.Склад</span> A-класса со стеллажами\n",
       "</pre>\n"
      ],
      "text/plain": [
       "price \u001b[1;36m1\u001b[0m \u001b[1;36m436\u001b[0m \u001b[1;36m500\u001b[0m ₽\u001b[35m/\u001b[0m\u001b[95mмес.Склад\u001b[0m A-класса со стеллажами\n"
      ]
     },
     "metadata": {},
     "output_type": "display_data"
    },
    {
     "data": {
      "text/html": [
       "<pre style=\"white-space:pre;overflow-x:auto;line-height:normal;font-family:Menlo,'DejaVu Sans Mono',consolas,'Courier New',monospace\">------------\n",
       "</pre>\n"
      ],
      "text/plain": [
       "------------\n"
      ]
     },
     "metadata": {},
     "output_type": "display_data"
    },
    {
     "data": {
      "text/html": [
       "<pre style=\"white-space:pre;overflow-x:auto;line-height:normal;font-family:Menlo,'DejaVu Sans Mono',consolas,'Courier New',monospace\">Title: Невский проспект, банк, <span style=\"color: #008080; text-decoration-color: #008080; font-weight: bold\">148</span>,<span style=\"color: #008080; text-decoration-color: #008080; font-weight: bold\">4</span> м2Своб. назнач. <span style=\"color: #008080; text-decoration-color: #008080; font-weight: bold\">148</span>,<span style=\"color: #008080; text-decoration-color: #008080; font-weight: bold\">4</span> м² за <span style=\"color: #008080; text-decoration-color: #008080; font-weight: bold\">1</span> <span style=\"color: #008080; text-decoration-color: #008080; font-weight: bold\">632</span> <span style=\"color: #008080; text-decoration-color: #008080; font-weight: bold\">400</span> руб.<span style=\"color: #800080; text-decoration-color: #800080\">/</span><span style=\"color: #ff00ff; text-decoration-color: #ff00ff\">мес.</span> Класс A+\n",
       "</pre>\n"
      ],
      "text/plain": [
       "Title: Невский проспект, банк, \u001b[1;36m148\u001b[0m,\u001b[1;36m4\u001b[0m м2Своб. назнач. \u001b[1;36m148\u001b[0m,\u001b[1;36m4\u001b[0m м² за \u001b[1;36m1\u001b[0m \u001b[1;36m632\u001b[0m \u001b[1;36m400\u001b[0m руб.\u001b[35m/\u001b[0m\u001b[95mмес.\u001b[0m Класс A+\n"
      ]
     },
     "metadata": {},
     "output_type": "display_data"
    },
    {
     "data": {
      "text/html": [
       "<pre style=\"white-space:pre;overflow-x:auto;line-height:normal;font-family:Menlo,'DejaVu Sans Mono',consolas,'Courier New',monospace\">Address: Санкт-Петербург, р-н Центральный, Литейный, м. Гостиный двор, Невский проспект, 68а\n",
       "</pre>\n"
      ],
      "text/plain": [
       "Address: Санкт-Петербург, р-н Центральный, Литейный, м. Гостиный двор, Невский проспект, 68а\n"
      ]
     },
     "metadata": {},
     "output_type": "display_data"
    },
    {
     "data": {
      "text/html": [
       "<pre style=\"white-space:pre;overflow-x:auto;line-height:normal;font-family:Menlo,'DejaVu Sans Mono',consolas,'Courier New',monospace\">url <span style=\"color: #0000ff; text-decoration-color: #0000ff; text-decoration: underline\">https://spb.cian.ru/rent/commercial/303246996/</span>\n",
       "</pre>\n"
      ],
      "text/plain": [
       "url \u001b[4;94mhttps://spb.cian.ru/rent/commercial/303246996/\u001b[0m\n"
      ]
     },
     "metadata": {},
     "output_type": "display_data"
    },
    {
     "data": {
      "text/html": [
       "<pre style=\"white-space:pre;overflow-x:auto;line-height:normal;font-family:Menlo,'DejaVu Sans Mono',consolas,'Courier New',monospace\">price <span style=\"color: #008080; text-decoration-color: #008080; font-weight: bold\">1</span> <span style=\"color: #008080; text-decoration-color: #008080; font-weight: bold\">632</span> <span style=\"color: #008080; text-decoration-color: #008080; font-weight: bold\">400</span> руб.<span style=\"color: #800080; text-decoration-color: #800080\">/</span><span style=\"color: #ff00ff; text-decoration-color: #ff00ff\">мес.</span> Класс A+\n",
       "</pre>\n"
      ],
      "text/plain": [
       "price \u001b[1;36m1\u001b[0m \u001b[1;36m632\u001b[0m \u001b[1;36m400\u001b[0m руб.\u001b[35m/\u001b[0m\u001b[95mмес.\u001b[0m Класс A+\n"
      ]
     },
     "metadata": {},
     "output_type": "display_data"
    },
    {
     "data": {
      "text/html": [
       "<pre style=\"white-space:pre;overflow-x:auto;line-height:normal;font-family:Menlo,'DejaVu Sans Mono',consolas,'Courier New',monospace\">------------\n",
       "</pre>\n"
      ],
      "text/plain": [
       "------------\n"
      ]
     },
     "metadata": {},
     "output_type": "display_data"
    },
    {
     "data": {
      "text/html": [
       "<pre style=\"white-space:pre;overflow-x:auto;line-height:normal;font-family:Menlo,'DejaVu Sans Mono',consolas,'Courier New',monospace\">Title: СкладыМосковское ш.<span style=\"color: #008080; text-decoration-color: #008080; font-weight: bold\">6</span> <span style=\"color: #008080; text-decoration-color: #008080; font-weight: bold\">312</span> – <span style=\"color: #008080; text-decoration-color: #008080; font-weight: bold\">12</span> <span style=\"color: #008080; text-decoration-color: #008080; font-weight: bold\">652</span> м² от <span style=\"color: #008080; text-decoration-color: #008080; font-weight: bold\">631</span> <span style=\"color: #008080; text-decoration-color: #008080; font-weight: bold\">200</span> ₽<span style=\"color: #800080; text-decoration-color: #800080\">/</span><span style=\"color: #ff00ff; text-decoration-color: #ff00ff\">мес.Склад</span> на Московском шоссе\n",
       "</pre>\n"
      ],
      "text/plain": [
       "Title: СкладыМосковское ш.\u001b[1;36m6\u001b[0m \u001b[1;36m312\u001b[0m – \u001b[1;36m12\u001b[0m \u001b[1;36m652\u001b[0m м² от \u001b[1;36m631\u001b[0m \u001b[1;36m200\u001b[0m ₽\u001b[35m/\u001b[0m\u001b[95mмес.Склад\u001b[0m на Московском шоссе\n"
      ]
     },
     "metadata": {},
     "output_type": "display_data"
    },
    {
     "data": {
      "text/html": [
       "<pre style=\"white-space:pre;overflow-x:auto;line-height:normal;font-family:Menlo,'DejaVu Sans Mono',consolas,'Courier New',monospace\">Address: Санкт-Петербург, р-н Пушкинский, мкр. Шушары, м. Шушары, Московское шоссе, 177А\n",
       "</pre>\n"
      ],
      "text/plain": [
       "Address: Санкт-Петербург, р-н Пушкинский, мкр. Шушары, м. Шушары, Московское шоссе, 177А\n"
      ]
     },
     "metadata": {},
     "output_type": "display_data"
    },
    {
     "data": {
      "text/html": [
       "<pre style=\"white-space:pre;overflow-x:auto;line-height:normal;font-family:Menlo,'DejaVu Sans Mono',consolas,'Courier New',monospace\">url <span style=\"color: #0000ff; text-decoration-color: #0000ff; text-decoration: underline\">https://spb.cian.ru/rent/commercial/167501057/</span>\n",
       "</pre>\n"
      ],
      "text/plain": [
       "url \u001b[4;94mhttps://spb.cian.ru/rent/commercial/167501057/\u001b[0m\n"
      ]
     },
     "metadata": {},
     "output_type": "display_data"
    },
    {
     "data": {
      "text/html": [
       "<pre style=\"white-space:pre;overflow-x:auto;line-height:normal;font-family:Menlo,'DejaVu Sans Mono',consolas,'Courier New',monospace\">price <span style=\"color: #008080; text-decoration-color: #008080; font-weight: bold\">631</span> <span style=\"color: #008080; text-decoration-color: #008080; font-weight: bold\">200</span> ₽<span style=\"color: #800080; text-decoration-color: #800080\">/</span><span style=\"color: #ff00ff; text-decoration-color: #ff00ff\">мес.Склад</span> на Московском шоссе\n",
       "</pre>\n"
      ],
      "text/plain": [
       "price \u001b[1;36m631\u001b[0m \u001b[1;36m200\u001b[0m ₽\u001b[35m/\u001b[0m\u001b[95mмес.Склад\u001b[0m на Московском шоссе\n"
      ]
     },
     "metadata": {},
     "output_type": "display_data"
    },
    {
     "data": {
      "text/html": [
       "<pre style=\"white-space:pre;overflow-x:auto;line-height:normal;font-family:Menlo,'DejaVu Sans Mono',consolas,'Courier New',monospace\">------------\n",
       "</pre>\n"
      ],
      "text/plain": [
       "------------\n"
      ]
     },
     "metadata": {},
     "output_type": "display_data"
    },
    {
     "data": {
      "text/html": [
       "<pre style=\"white-space:pre;overflow-x:auto;line-height:normal;font-family:Menlo,'DejaVu Sans Mono',consolas,'Courier New',monospace\">Title:  Торговая площадь <span style=\"color: #008080; text-decoration-color: #008080; font-weight: bold\">167</span> м² за <span style=\"color: #008080; text-decoration-color: #008080; font-weight: bold\">1</span> <span style=\"color: #008080; text-decoration-color: #008080; font-weight: bold\">950</span> <span style=\"color: #008080; text-decoration-color: #008080; font-weight: bold\">000</span> руб.<span style=\"color: #800080; text-decoration-color: #800080\">/</span><span style=\"color: #ff00ff; text-decoration-color: #ff00ff\">мес.</span>\n",
       "</pre>\n"
      ],
      "text/plain": [
       "Title:  Торговая площадь \u001b[1;36m167\u001b[0m м² за \u001b[1;36m1\u001b[0m \u001b[1;36m950\u001b[0m \u001b[1;36m000\u001b[0m руб.\u001b[35m/\u001b[0m\u001b[95mмес.\u001b[0m\n"
      ]
     },
     "metadata": {},
     "output_type": "display_data"
    },
    {
     "data": {
      "text/html": [
       "<pre style=\"white-space:pre;overflow-x:auto;line-height:normal;font-family:Menlo,'DejaVu Sans Mono',consolas,'Courier New',monospace\">Address: Санкт-Петербург, р-н Центральный, Владимирский, м. Маяковская, улица Марата, <span style=\"color: #008080; text-decoration-color: #008080; font-weight: bold\">1</span>/<span style=\"color: #008080; text-decoration-color: #008080; font-weight: bold\">71</span>\n",
       "</pre>\n"
      ],
      "text/plain": [
       "Address: Санкт-Петербург, р-н Центральный, Владимирский, м. Маяковская, улица Марата, \u001b[1;36m1\u001b[0m/\u001b[1;36m71\u001b[0m\n"
      ]
     },
     "metadata": {},
     "output_type": "display_data"
    },
    {
     "data": {
      "text/html": [
       "<pre style=\"white-space:pre;overflow-x:auto;line-height:normal;font-family:Menlo,'DejaVu Sans Mono',consolas,'Courier New',monospace\">url <span style=\"color: #0000ff; text-decoration-color: #0000ff; text-decoration: underline\">https://spb.cian.ru/rent/commercial/308542813/</span>\n",
       "</pre>\n"
      ],
      "text/plain": [
       "url \u001b[4;94mhttps://spb.cian.ru/rent/commercial/308542813/\u001b[0m\n"
      ]
     },
     "metadata": {},
     "output_type": "display_data"
    },
    {
     "data": {
      "text/html": [
       "<pre style=\"white-space:pre;overflow-x:auto;line-height:normal;font-family:Menlo,'DejaVu Sans Mono',consolas,'Courier New',monospace\">price <span style=\"color: #008080; text-decoration-color: #008080; font-weight: bold\">1</span> <span style=\"color: #008080; text-decoration-color: #008080; font-weight: bold\">950</span> <span style=\"color: #008080; text-decoration-color: #008080; font-weight: bold\">000</span> руб.<span style=\"color: #800080; text-decoration-color: #800080\">/</span><span style=\"color: #ff00ff; text-decoration-color: #ff00ff\">мес.</span>\n",
       "</pre>\n"
      ],
      "text/plain": [
       "price \u001b[1;36m1\u001b[0m \u001b[1;36m950\u001b[0m \u001b[1;36m000\u001b[0m руб.\u001b[35m/\u001b[0m\u001b[95mмес.\u001b[0m\n"
      ]
     },
     "metadata": {},
     "output_type": "display_data"
    },
    {
     "data": {
      "text/html": [
       "<pre style=\"white-space:pre;overflow-x:auto;line-height:normal;font-family:Menlo,'DejaVu Sans Mono',consolas,'Courier New',monospace\">------------\n",
       "</pre>\n"
      ],
      "text/plain": [
       "------------\n"
      ]
     },
     "metadata": {},
     "output_type": "display_data"
    },
    {
     "data": {
      "text/html": [
       "<pre style=\"white-space:pre;overflow-x:auto;line-height:normal;font-family:Menlo,'DejaVu Sans Mono',consolas,'Courier New',monospace\">Title:  Торговая площадь <span style=\"color: #008080; text-decoration-color: #008080; font-weight: bold\">170</span> м² за <span style=\"color: #008080; text-decoration-color: #008080; font-weight: bold\">574</span> <span style=\"color: #008080; text-decoration-color: #008080; font-weight: bold\">000</span> руб.<span style=\"color: #800080; text-decoration-color: #800080\">/</span><span style=\"color: #ff00ff; text-decoration-color: #ff00ff\">мес.</span>\n",
       "</pre>\n"
      ],
      "text/plain": [
       "Title:  Торговая площадь \u001b[1;36m170\u001b[0m м² за \u001b[1;36m574\u001b[0m \u001b[1;36m000\u001b[0m руб.\u001b[35m/\u001b[0m\u001b[95mмес.\u001b[0m\n"
      ]
     },
     "metadata": {},
     "output_type": "display_data"
    },
    {
     "data": {
      "text/html": [
       "<pre style=\"white-space:pre;overflow-x:auto;line-height:normal;font-family:Menlo,'DejaVu Sans Mono',consolas,'Courier New',monospace\">Address: Санкт-Петербург, р-н Адмиралтейский, Сенной, м. Садовая, Московский проспект, 7А\n",
       "</pre>\n"
      ],
      "text/plain": [
       "Address: Санкт-Петербург, р-н Адмиралтейский, Сенной, м. Садовая, Московский проспект, 7А\n"
      ]
     },
     "metadata": {},
     "output_type": "display_data"
    },
    {
     "data": {
      "text/html": [
       "<pre style=\"white-space:pre;overflow-x:auto;line-height:normal;font-family:Menlo,'DejaVu Sans Mono',consolas,'Courier New',monospace\">url <span style=\"color: #0000ff; text-decoration-color: #0000ff; text-decoration: underline\">https://spb.cian.ru/rent/commercial/298614049/</span>\n",
       "</pre>\n"
      ],
      "text/plain": [
       "url \u001b[4;94mhttps://spb.cian.ru/rent/commercial/298614049/\u001b[0m\n"
      ]
     },
     "metadata": {},
     "output_type": "display_data"
    },
    {
     "data": {
      "text/html": [
       "<pre style=\"white-space:pre;overflow-x:auto;line-height:normal;font-family:Menlo,'DejaVu Sans Mono',consolas,'Courier New',monospace\">price <span style=\"color: #008080; text-decoration-color: #008080; font-weight: bold\">574</span> <span style=\"color: #008080; text-decoration-color: #008080; font-weight: bold\">000</span> руб.<span style=\"color: #800080; text-decoration-color: #800080\">/</span><span style=\"color: #ff00ff; text-decoration-color: #ff00ff\">мес.</span>\n",
       "</pre>\n"
      ],
      "text/plain": [
       "price \u001b[1;36m574\u001b[0m \u001b[1;36m000\u001b[0m руб.\u001b[35m/\u001b[0m\u001b[95mмес.\u001b[0m\n"
      ]
     },
     "metadata": {},
     "output_type": "display_data"
    },
    {
     "data": {
      "text/html": [
       "<pre style=\"white-space:pre;overflow-x:auto;line-height:normal;font-family:Menlo,'DejaVu Sans Mono',consolas,'Courier New',monospace\">------------\n",
       "</pre>\n"
      ],
      "text/plain": [
       "------------\n"
      ]
     },
     "metadata": {},
     "output_type": "display_data"
    },
    {
     "data": {
      "text/html": [
       "<pre style=\"white-space:pre;overflow-x:auto;line-height:normal;font-family:Menlo,'DejaVu Sans Mono',consolas,'Courier New',monospace\">Title:  Торговая площадь <span style=\"color: #008080; text-decoration-color: #008080; font-weight: bold\">150</span> м² за <span style=\"color: #008080; text-decoration-color: #008080; font-weight: bold\">1</span> <span style=\"color: #008080; text-decoration-color: #008080; font-weight: bold\">400</span> <span style=\"color: #008080; text-decoration-color: #008080; font-weight: bold\">000</span> руб.<span style=\"color: #800080; text-decoration-color: #800080\">/</span><span style=\"color: #ff00ff; text-decoration-color: #ff00ff\">мес.</span>\n",
       "</pre>\n"
      ],
      "text/plain": [
       "Title:  Торговая площадь \u001b[1;36m150\u001b[0m м² за \u001b[1;36m1\u001b[0m \u001b[1;36m400\u001b[0m \u001b[1;36m000\u001b[0m руб.\u001b[35m/\u001b[0m\u001b[95mмес.\u001b[0m\n"
      ]
     },
     "metadata": {},
     "output_type": "display_data"
    },
    {
     "data": {
      "text/html": [
       "<pre style=\"white-space:pre;overflow-x:auto;line-height:normal;font-family:Menlo,'DejaVu Sans Mono',consolas,'Courier New',monospace\">Address: Санкт-Петербург, р-н Центральный, Литейный, м. Маяковская, Невский проспект, <span style=\"color: #008080; text-decoration-color: #008080; font-weight: bold\">100</span>\n",
       "</pre>\n"
      ],
      "text/plain": [
       "Address: Санкт-Петербург, р-н Центральный, Литейный, м. Маяковская, Невский проспект, \u001b[1;36m100\u001b[0m\n"
      ]
     },
     "metadata": {},
     "output_type": "display_data"
    },
    {
     "data": {
      "text/html": [
       "<pre style=\"white-space:pre;overflow-x:auto;line-height:normal;font-family:Menlo,'DejaVu Sans Mono',consolas,'Courier New',monospace\">url <span style=\"color: #0000ff; text-decoration-color: #0000ff; text-decoration: underline\">https://spb.cian.ru/rent/commercial/303524644/</span>\n",
       "</pre>\n"
      ],
      "text/plain": [
       "url \u001b[4;94mhttps://spb.cian.ru/rent/commercial/303524644/\u001b[0m\n"
      ]
     },
     "metadata": {},
     "output_type": "display_data"
    },
    {
     "data": {
      "text/html": [
       "<pre style=\"white-space:pre;overflow-x:auto;line-height:normal;font-family:Menlo,'DejaVu Sans Mono',consolas,'Courier New',monospace\">price <span style=\"color: #008080; text-decoration-color: #008080; font-weight: bold\">1</span> <span style=\"color: #008080; text-decoration-color: #008080; font-weight: bold\">400</span> <span style=\"color: #008080; text-decoration-color: #008080; font-weight: bold\">000</span> руб.<span style=\"color: #800080; text-decoration-color: #800080\">/</span><span style=\"color: #ff00ff; text-decoration-color: #ff00ff\">мес.</span>\n",
       "</pre>\n"
      ],
      "text/plain": [
       "price \u001b[1;36m1\u001b[0m \u001b[1;36m400\u001b[0m \u001b[1;36m000\u001b[0m руб.\u001b[35m/\u001b[0m\u001b[95mмес.\u001b[0m\n"
      ]
     },
     "metadata": {},
     "output_type": "display_data"
    },
    {
     "data": {
      "text/html": [
       "<pre style=\"white-space:pre;overflow-x:auto;line-height:normal;font-family:Menlo,'DejaVu Sans Mono',consolas,'Courier New',monospace\">------------\n",
       "</pre>\n"
      ],
      "text/plain": [
       "------------\n"
      ]
     },
     "metadata": {},
     "output_type": "display_data"
    },
    {
     "data": {
      "text/html": [
       "<pre style=\"white-space:pre;overflow-x:auto;line-height:normal;font-family:Menlo,'DejaVu Sans Mono',consolas,'Courier New',monospace\">Title: На Московском ш., есть стеллажиСклад <span style=\"color: #008080; text-decoration-color: #008080; font-weight: bold\">2</span> <span style=\"color: #008080; text-decoration-color: #008080; font-weight: bold\">115</span> м² за <span style=\"color: #008080; text-decoration-color: #008080; font-weight: bold\">2</span> <span style=\"color: #008080; text-decoration-color: #008080; font-weight: bold\">961</span> <span style=\"color: #008080; text-decoration-color: #008080; font-weight: bold\">000</span> руб.<span style=\"color: #800080; text-decoration-color: #800080\">/</span><span style=\"color: #ff00ff; text-decoration-color: #ff00ff\">мес.</span> Класс A\n",
       "</pre>\n"
      ],
      "text/plain": [
       "Title: На Московском ш., есть стеллажиСклад \u001b[1;36m2\u001b[0m \u001b[1;36m115\u001b[0m м² за \u001b[1;36m2\u001b[0m \u001b[1;36m961\u001b[0m \u001b[1;36m000\u001b[0m руб.\u001b[35m/\u001b[0m\u001b[95mмес.\u001b[0m Класс A\n"
      ]
     },
     "metadata": {},
     "output_type": "display_data"
    },
    {
     "data": {
      "text/html": [
       "<pre style=\"white-space:pre;overflow-x:auto;line-height:normal;font-family:Menlo,'DejaVu Sans Mono',consolas,'Courier New',monospace\">Address: Санкт-Петербург, р-н Пушкинский, мкр. Шушары, м. Шушары, Московское шоссе, <span style=\"color: #008080; text-decoration-color: #008080; font-weight: bold\">139</span>\n",
       "</pre>\n"
      ],
      "text/plain": [
       "Address: Санкт-Петербург, р-н Пушкинский, мкр. Шушары, м. Шушары, Московское шоссе, \u001b[1;36m139\u001b[0m\n"
      ]
     },
     "metadata": {},
     "output_type": "display_data"
    },
    {
     "data": {
      "text/html": [
       "<pre style=\"white-space:pre;overflow-x:auto;line-height:normal;font-family:Menlo,'DejaVu Sans Mono',consolas,'Courier New',monospace\">url <span style=\"color: #0000ff; text-decoration-color: #0000ff; text-decoration: underline\">https://spb.cian.ru/rent/commercial/308045299/</span>\n",
       "</pre>\n"
      ],
      "text/plain": [
       "url \u001b[4;94mhttps://spb.cian.ru/rent/commercial/308045299/\u001b[0m\n"
      ]
     },
     "metadata": {},
     "output_type": "display_data"
    },
    {
     "data": {
      "text/html": [
       "<pre style=\"white-space:pre;overflow-x:auto;line-height:normal;font-family:Menlo,'DejaVu Sans Mono',consolas,'Courier New',monospace\">price <span style=\"color: #008080; text-decoration-color: #008080; font-weight: bold\">2</span> <span style=\"color: #008080; text-decoration-color: #008080; font-weight: bold\">961</span> <span style=\"color: #008080; text-decoration-color: #008080; font-weight: bold\">000</span> руб.<span style=\"color: #800080; text-decoration-color: #800080\">/</span><span style=\"color: #ff00ff; text-decoration-color: #ff00ff\">мес.</span> Класс A\n",
       "</pre>\n"
      ],
      "text/plain": [
       "price \u001b[1;36m2\u001b[0m \u001b[1;36m961\u001b[0m \u001b[1;36m000\u001b[0m руб.\u001b[35m/\u001b[0m\u001b[95mмес.\u001b[0m Класс A\n"
      ]
     },
     "metadata": {},
     "output_type": "display_data"
    },
    {
     "data": {
      "text/html": [
       "<pre style=\"white-space:pre;overflow-x:auto;line-height:normal;font-family:Menlo,'DejaVu Sans Mono',consolas,'Courier New',monospace\">------------\n",
       "</pre>\n"
      ],
      "text/plain": [
       "------------\n"
      ]
     },
     "metadata": {},
     "output_type": "display_data"
    },
    {
     "data": {
      "text/html": [
       "<pre style=\"white-space:pre;overflow-x:auto;line-height:normal;font-family:Menlo,'DejaVu Sans Mono',consolas,'Courier New',monospace\">Title: A-класс на севере у КАДСклад <span style=\"color: #008080; text-decoration-color: #008080; font-weight: bold\">6</span> <span style=\"color: #008080; text-decoration-color: #008080; font-weight: bold\">653</span> м² за <span style=\"color: #008080; text-decoration-color: #008080; font-weight: bold\">8</span> <span style=\"color: #008080; text-decoration-color: #008080; font-weight: bold\">648</span> <span style=\"color: #008080; text-decoration-color: #008080; font-weight: bold\">900</span> руб.<span style=\"color: #800080; text-decoration-color: #800080\">/</span><span style=\"color: #ff00ff; text-decoration-color: #ff00ff\">мес.</span> Класс A\n",
       "</pre>\n"
      ],
      "text/plain": [
       "Title: A-класс на севере у КАДСклад \u001b[1;36m6\u001b[0m \u001b[1;36m653\u001b[0m м² за \u001b[1;36m8\u001b[0m \u001b[1;36m648\u001b[0m \u001b[1;36m900\u001b[0m руб.\u001b[35m/\u001b[0m\u001b[95mмес.\u001b[0m Класс A\n"
      ]
     },
     "metadata": {},
     "output_type": "display_data"
    },
    {
     "data": {
      "text/html": [
       "<pre style=\"white-space:pre;overflow-x:auto;line-height:normal;font-family:Menlo,'DejaVu Sans Mono',consolas,'Courier New',monospace\">Address: Санкт-Петербург, р-н Выборгский, мкр. Парголово, м. Озерки, Горское шоссе, <span style=\"color: #008080; text-decoration-color: #008080; font-weight: bold\">6</span>\n",
       "</pre>\n"
      ],
      "text/plain": [
       "Address: Санкт-Петербург, р-н Выборгский, мкр. Парголово, м. Озерки, Горское шоссе, \u001b[1;36m6\u001b[0m\n"
      ]
     },
     "metadata": {},
     "output_type": "display_data"
    },
    {
     "data": {
      "text/html": [
       "<pre style=\"white-space:pre;overflow-x:auto;line-height:normal;font-family:Menlo,'DejaVu Sans Mono',consolas,'Courier New',monospace\">url <span style=\"color: #0000ff; text-decoration-color: #0000ff; text-decoration: underline\">https://spb.cian.ru/rent/commercial/167442878/</span>\n",
       "</pre>\n"
      ],
      "text/plain": [
       "url \u001b[4;94mhttps://spb.cian.ru/rent/commercial/167442878/\u001b[0m\n"
      ]
     },
     "metadata": {},
     "output_type": "display_data"
    },
    {
     "data": {
      "text/html": [
       "<pre style=\"white-space:pre;overflow-x:auto;line-height:normal;font-family:Menlo,'DejaVu Sans Mono',consolas,'Courier New',monospace\">price <span style=\"color: #008080; text-decoration-color: #008080; font-weight: bold\">8</span> <span style=\"color: #008080; text-decoration-color: #008080; font-weight: bold\">648</span> <span style=\"color: #008080; text-decoration-color: #008080; font-weight: bold\">900</span> руб.<span style=\"color: #800080; text-decoration-color: #800080\">/</span><span style=\"color: #ff00ff; text-decoration-color: #ff00ff\">мес.</span> Класс A\n",
       "</pre>\n"
      ],
      "text/plain": [
       "price \u001b[1;36m8\u001b[0m \u001b[1;36m648\u001b[0m \u001b[1;36m900\u001b[0m руб.\u001b[35m/\u001b[0m\u001b[95mмес.\u001b[0m Класс A\n"
      ]
     },
     "metadata": {},
     "output_type": "display_data"
    },
    {
     "data": {
      "text/html": [
       "<pre style=\"white-space:pre;overflow-x:auto;line-height:normal;font-family:Menlo,'DejaVu Sans Mono',consolas,'Courier New',monospace\">------------\n",
       "</pre>\n"
      ],
      "text/plain": [
       "------------\n"
      ]
     },
     "metadata": {},
     "output_type": "display_data"
    },
    {
     "data": {
      "text/html": [
       "<pre style=\"white-space:pre;overflow-x:auto;line-height:normal;font-family:Menlo,'DejaVu Sans Mono',consolas,'Courier New',monospace\">Title: СкладыNordway <span style=\"font-weight: bold\">(</span>Нордвей<span style=\"font-weight: bold\">)</span> Склад №<span style=\"color: #008080; text-decoration-color: #008080; font-weight: bold\">12</span> <span style=\"color: #008080; text-decoration-color: #008080; font-weight: bold\">916</span> – <span style=\"color: #008080; text-decoration-color: #008080; font-weight: bold\">8</span> <span style=\"color: #008080; text-decoration-color: #008080; font-weight: bold\">748</span> м² от <span style=\"color: #008080; text-decoration-color: #008080; font-weight: bold\">3</span> <span style=\"color: #008080; text-decoration-color: #008080; font-weight: bold\">499</span> <span style=\"color: #008080; text-decoration-color: #008080; font-weight: bold\">200</span> ₽<span style=\"color: #800080; text-decoration-color: #800080\">/</span><span style=\"color: #ff00ff; text-decoration-color: #ff00ff\">мес.Склад</span> A-класса на Московском ш.\n",
       "</pre>\n"
      ],
      "text/plain": [
       "Title: СкладыNordway \u001b[1m(\u001b[0mНордвей\u001b[1m)\u001b[0m Склад №\u001b[1;36m12\u001b[0m \u001b[1;36m916\u001b[0m – \u001b[1;36m8\u001b[0m \u001b[1;36m748\u001b[0m м² от \u001b[1;36m3\u001b[0m \u001b[1;36m499\u001b[0m \u001b[1;36m200\u001b[0m ₽\u001b[35m/\u001b[0m\u001b[95mмес.Склад\u001b[0m A-класса на Московском ш.\n"
      ]
     },
     "metadata": {},
     "output_type": "display_data"
    },
    {
     "data": {
      "text/html": [
       "<pre style=\"white-space:pre;overflow-x:auto;line-height:normal;font-family:Menlo,'DejaVu Sans Mono',consolas,'Courier New',monospace\">Address: Санкт-Петербург, р-н Пушкинский, мкр. Шушары, м. Шушары, Московское шоссе, 161к10\n",
       "</pre>\n"
      ],
      "text/plain": [
       "Address: Санкт-Петербург, р-н Пушкинский, мкр. Шушары, м. Шушары, Московское шоссе, 161к10\n"
      ]
     },
     "metadata": {},
     "output_type": "display_data"
    },
    {
     "data": {
      "text/html": [
       "<pre style=\"white-space:pre;overflow-x:auto;line-height:normal;font-family:Menlo,'DejaVu Sans Mono',consolas,'Courier New',monospace\">url <span style=\"color: #0000ff; text-decoration-color: #0000ff; text-decoration: underline\">https://spb.cian.ru/rent/commercial/270844136/</span>\n",
       "</pre>\n"
      ],
      "text/plain": [
       "url \u001b[4;94mhttps://spb.cian.ru/rent/commercial/270844136/\u001b[0m\n"
      ]
     },
     "metadata": {},
     "output_type": "display_data"
    },
    {
     "data": {
      "text/html": [
       "<pre style=\"white-space:pre;overflow-x:auto;line-height:normal;font-family:Menlo,'DejaVu Sans Mono',consolas,'Courier New',monospace\">price <span style=\"color: #008080; text-decoration-color: #008080; font-weight: bold\">3</span> <span style=\"color: #008080; text-decoration-color: #008080; font-weight: bold\">499</span> <span style=\"color: #008080; text-decoration-color: #008080; font-weight: bold\">200</span> ₽<span style=\"color: #800080; text-decoration-color: #800080\">/</span><span style=\"color: #ff00ff; text-decoration-color: #ff00ff\">мес.Склад</span> A-класса на Московском ш.\n",
       "</pre>\n"
      ],
      "text/plain": [
       "price \u001b[1;36m3\u001b[0m \u001b[1;36m499\u001b[0m \u001b[1;36m200\u001b[0m ₽\u001b[35m/\u001b[0m\u001b[95mмес.Склад\u001b[0m A-класса на Московском ш.\n"
      ]
     },
     "metadata": {},
     "output_type": "display_data"
    },
    {
     "data": {
      "text/html": [
       "<pre style=\"white-space:pre;overflow-x:auto;line-height:normal;font-family:Menlo,'DejaVu Sans Mono',consolas,'Courier New',monospace\">------------\n",
       "</pre>\n"
      ],
      "text/plain": [
       "------------\n"
      ]
     },
     "metadata": {},
     "output_type": "display_data"
    },
    {
     "data": {
      "text/html": [
       "<pre style=\"white-space:pre;overflow-x:auto;line-height:normal;font-family:Menlo,'DejaVu Sans Mono',consolas,'Courier New',monospace\">Title: Свободного назначения, <span style=\"color: #008080; text-decoration-color: #008080; font-weight: bold\">22.8</span> м²Своб. назнач. <span style=\"color: #008080; text-decoration-color: #008080; font-weight: bold\">22</span>,<span style=\"color: #008080; text-decoration-color: #008080; font-weight: bold\">8</span> м² за <span style=\"color: #008080; text-decoration-color: #008080; font-weight: bold\">11</span> <span style=\"color: #008080; text-decoration-color: #008080; font-weight: bold\">400</span> руб.<span style=\"color: #800080; text-decoration-color: #800080\">/</span><span style=\"color: #ff00ff; text-decoration-color: #ff00ff\">мес.</span> \n",
       "</pre>\n"
      ],
      "text/plain": [
       "Title: Свободного назначения, \u001b[1;36m22.8\u001b[0m м²Своб. назнач. \u001b[1;36m22\u001b[0m,\u001b[1;36m8\u001b[0m м² за \u001b[1;36m11\u001b[0m \u001b[1;36m400\u001b[0m руб.\u001b[35m/\u001b[0m\u001b[95mмес.\u001b[0m \n"
      ]
     },
     "metadata": {},
     "output_type": "display_data"
    },
    {
     "data": {
      "text/html": [
       "<pre style=\"white-space:pre;overflow-x:auto;line-height:normal;font-family:Menlo,'DejaVu Sans Mono',consolas,'Courier New',monospace\">Address: Санкт-Петербург, р-н Невский, Народный, м. Ломоносовская, улица Тельмана, <span style=\"color: #008080; text-decoration-color: #008080; font-weight: bold\">16</span>\n",
       "</pre>\n"
      ],
      "text/plain": [
       "Address: Санкт-Петербург, р-н Невский, Народный, м. Ломоносовская, улица Тельмана, \u001b[1;36m16\u001b[0m\n"
      ]
     },
     "metadata": {},
     "output_type": "display_data"
    },
    {
     "data": {
      "text/html": [
       "<pre style=\"white-space:pre;overflow-x:auto;line-height:normal;font-family:Menlo,'DejaVu Sans Mono',consolas,'Courier New',monospace\">url <span style=\"color: #0000ff; text-decoration-color: #0000ff; text-decoration: underline\">https://spb.cian.ru/rent/commercial/303532141/</span>\n",
       "</pre>\n"
      ],
      "text/plain": [
       "url \u001b[4;94mhttps://spb.cian.ru/rent/commercial/303532141/\u001b[0m\n"
      ]
     },
     "metadata": {},
     "output_type": "display_data"
    },
    {
     "data": {
      "text/html": [
       "<pre style=\"white-space:pre;overflow-x:auto;line-height:normal;font-family:Menlo,'DejaVu Sans Mono',consolas,'Courier New',monospace\">price . назнач. <span style=\"color: #008080; text-decoration-color: #008080; font-weight: bold\">22</span>,<span style=\"color: #008080; text-decoration-color: #008080; font-weight: bold\">8</span> м² за <span style=\"color: #008080; text-decoration-color: #008080; font-weight: bold\">11</span> <span style=\"color: #008080; text-decoration-color: #008080; font-weight: bold\">400</span> руб.<span style=\"color: #800080; text-decoration-color: #800080\">/</span><span style=\"color: #ff00ff; text-decoration-color: #ff00ff\">мес.</span> \n",
       "</pre>\n"
      ],
      "text/plain": [
       "price . назнач. \u001b[1;36m22\u001b[0m,\u001b[1;36m8\u001b[0m м² за \u001b[1;36m11\u001b[0m \u001b[1;36m400\u001b[0m руб.\u001b[35m/\u001b[0m\u001b[95mмес.\u001b[0m \n"
      ]
     },
     "metadata": {},
     "output_type": "display_data"
    },
    {
     "data": {
      "text/html": [
       "<pre style=\"white-space:pre;overflow-x:auto;line-height:normal;font-family:Menlo,'DejaVu Sans Mono',consolas,'Courier New',monospace\">------------\n",
       "</pre>\n"
      ],
      "text/plain": [
       "------------\n"
      ]
     },
     "metadata": {},
     "output_type": "display_data"
    },
    {
     "data": {
      "text/html": [
       "<pre style=\"white-space:pre;overflow-x:auto;line-height:normal;font-family:Menlo,'DejaVu Sans Mono',consolas,'Courier New',monospace\"><span style=\"color: #008080; text-decoration-color: #008080; font-weight: bold\">4</span>\n",
       "</pre>\n"
      ],
      "text/plain": [
       "\u001b[1;36m4\u001b[0m\n"
      ]
     },
     "metadata": {},
     "output_type": "display_data"
    },
    {
     "ename": "KeyboardInterrupt",
     "evalue": "",
     "output_type": "error",
     "traceback": [
      "\u001b[0;31m---------------------------------------------------------------------------\u001b[0m",
      "\u001b[0;31mKeyboardInterrupt\u001b[0m                         Traceback (most recent call last)",
      "Cell \u001b[0;32mIn[4], line 1\u001b[0m\n\u001b[0;32m----> 1\u001b[0m \u001b[43mpage_navigation\u001b[49m\u001b[43m(\u001b[49m\u001b[43m)\u001b[49m\n",
      "Cell \u001b[0;32mIn[3], line 12\u001b[0m, in \u001b[0;36mpage_navigation\u001b[0;34m()\u001b[0m\n\u001b[1;32m      8\u001b[0m links   \u001b[38;5;241m=\u001b[39m   [] \n\u001b[1;32m     10\u001b[0m \u001b[38;5;28;01mwhile\u001b[39;00m x \u001b[38;5;241m==\u001b[39m \u001b[38;5;28;01mTrue\u001b[39;00m:\n\u001b[0;32m---> 12\u001b[0m     \u001b[43msleep\u001b[49m\u001b[43m(\u001b[49m\u001b[43mrandint\u001b[49m\u001b[43m(\u001b[49m\u001b[38;5;241;43m0\u001b[39;49m\u001b[43m,\u001b[49m\u001b[38;5;241;43m100\u001b[39;49m\u001b[43m)\u001b[49m\u001b[43m)\u001b[49m \u001b[38;5;66;03m# Устанавливаем рандомное прерывание программы с запросом, чтобы сайт не блочил подключение\u001b[39;00m\n\u001b[1;32m     15\u001b[0m     count \u001b[38;5;241m+\u001b[39m\u001b[38;5;241m=\u001b[39m\u001b[38;5;241m1\u001b[39m\n\u001b[1;32m     17\u001b[0m     \u001b[38;5;66;03m# начинаем со второй страницы при попытке перехода на несуществующую, перебрасывает на первую.         \u001b[39;00m\n",
      "\u001b[0;31mKeyboardInterrupt\u001b[0m: "
     ]
    }
   ],
   "source": [
    "page_navigation()"
   ]
  }
 ],
 "metadata": {
  "kernelspec": {
   "display_name": "Python 3",
   "language": "python",
   "name": "python3"
  },
  "language_info": {
   "codemirror_mode": {
    "name": "ipython",
    "version": 3
   },
   "file_extension": ".py",
   "mimetype": "text/x-python",
   "name": "python",
   "nbconvert_exporter": "python",
   "pygments_lexer": "ipython3",
   "version": "3.10.12"
  }
 },
 "nbformat": 4,
 "nbformat_minor": 2
}
