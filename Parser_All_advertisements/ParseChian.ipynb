{
 "cells": [
  {
   "cell_type": "code",
   "execution_count": 2,
   "metadata": {},
   "outputs": [],
   "source": [
    "import requests\n",
    "from bs4 import BeautifulSoup \n",
    "from rich import print\n",
    "from time import sleep\n",
    "import random\n"
   ]
  },
  {
   "cell_type": "code",
   "execution_count": 21,
   "metadata": {},
   "outputs": [
    {
     "ename": "AttributeError",
     "evalue": "'NoneType' object has no attribute 'attrs'",
     "output_type": "error",
     "traceback": [
      "\u001b[0;31m---------------------------------------------------------------------------\u001b[0m",
      "\u001b[0;31mAttributeError\u001b[0m                            Traceback (most recent call last)",
      "Cell \u001b[0;32mIn[21], line 14\u001b[0m\n\u001b[1;32m     11\u001b[0m     soup     \u001b[38;5;241m=\u001b[39m      BeautifulSoup(response\u001b[38;5;241m.\u001b[39mcontent, \u001b[38;5;124m'\u001b[39m\u001b[38;5;124mhtml.parser\u001b[39m\u001b[38;5;124m'\u001b[39m)\n\u001b[1;32m     13\u001b[0m     price    \u001b[38;5;241m=\u001b[39m      soup\u001b[38;5;241m.\u001b[39mfind(\u001b[38;5;124m'\u001b[39m\u001b[38;5;124mdiv\u001b[39m\u001b[38;5;124m'\u001b[39m,{\u001b[38;5;124m'\u001b[39m\u001b[38;5;124mdate-name\u001b[39m\u001b[38;5;124m'\u001b[39m:\u001b[38;5;124m'\u001b[39m\u001b[38;5;124mPriceInfo\u001b[39m\u001b[38;5;124m'\u001b[39m})\n\u001b[0;32m---> 14\u001b[0m     \u001b[38;5;28mprint\u001b[39m(\u001b[43mprice\u001b[49m\u001b[38;5;241;43m.\u001b[39;49m\u001b[43mattrs\u001b[49m(\u001b[38;5;124m'\u001b[39m\u001b[38;5;124mspan\u001b[39m\u001b[38;5;124m'\u001b[39m))\n\u001b[1;32m     16\u001b[0m     \u001b[38;5;66;03m#content  =      soup.select('.a10a3f92e9--address-line--GRDTb > div:nth-child(1)')[0].get_text()\u001b[39;00m\n\u001b[1;32m     17\u001b[0m \u001b[38;5;66;03m#\u001b[39;00m\n\u001b[1;32m     18\u001b[0m     \u001b[38;5;66;03m#title    =      soup.select('.a10a3f92e9--container--u51hg')[0].get_text()\u001b[39;00m\n\u001b[0;32m   (...)\u001b[0m\n\u001b[1;32m     22\u001b[0m     \u001b[38;5;66;03m#except Exception as e:\u001b[39;00m\n\u001b[1;32m     23\u001b[0m     \u001b[38;5;66;03m#    print(\" Объявление активно\", price, content, title, url)\u001b[39;00m\n",
      "\u001b[0;31mAttributeError\u001b[0m: 'NoneType' object has no attribute 'attrs'"
     ]
    }
   ],
   "source": [
    "urls = ('https://spb.cian.ru/rent/commercial/303822871/',\n",
    "        'https://spb.cian.ru/rent/commercial/307829364/',)\n",
    "\n",
    "headers  =   {'User-Agent':\"Mozilla/5.0 (Windows NT 10.0; Win64; x64) AppleWebKit/537.36 (KHTML, like Gecko) Chrome/109.0.0.0 Safari/537.36\"}\n",
    "\n",
    "for url in urls:\n",
    "\n",
    "\n",
    "    response = requests.get(url=url, headers=headers)\n",
    "\n",
    "    soup     =      BeautifulSoup(response.content, 'html.parser')\n",
    "\n",
    "    price    =      soup.find('div',{'date-name':'PriceInfo'})\n",
    "    print(price.attrs('span'))\n",
    "\n",
    "    #content  =      soup.select('.a10a3f92e9--address-line--GRDTb > div:nth-child(1)')[0].get_text()\n",
    "#\n",
    "    #title    =      soup.select('.a10a3f92e9--container--u51hg')[0].get_text()\n",
    "    #try:\n",
    "    #    status   =      soup.select(\".a10a3f92e9--container--RXoIe\")[0].get_text()\n",
    "    #    print(status, price, content, title, \"\\n\", url)\n",
    "    #except Exception as e:\n",
    "    #    print(\" Объявление активно\", price, content, title, url)\n",
    "    \n"
   ]
  }
 ],
 "metadata": {
  "kernelspec": {
   "display_name": "real_estate_transaction-s4JVtSGh",
   "language": "python",
   "name": "python3"
  },
  "language_info": {
   "codemirror_mode": {
    "name": "ipython",
    "version": 3
   },
   "file_extension": ".py",
   "mimetype": "text/x-python",
   "name": "python",
   "nbconvert_exporter": "python",
   "pygments_lexer": "ipython3",
   "version": "3.12.3"
  }
 },
 "nbformat": 4,
 "nbformat_minor": 2
}
