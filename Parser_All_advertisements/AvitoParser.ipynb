{
 "cells": [
  {
   "cell_type": "code",
   "execution_count": 3,
   "metadata": {},
   "outputs": [
    {
     "data": {
      "text/html": [
       "<pre style=\"white-space:pre;overflow-x:auto;line-height:normal;font-family:Menlo,'DejaVu Sans Mono',consolas,'Courier New',monospace\">Объяление было удалено  \n",
       "<span style=\"color: #0000ff; text-decoration-color: #0000ff; text-decoration: underline\">https://www.avito.ru/sankt-peterburg/kommercheskaya_nedvizhimost/torgovaya_ploschad_122.96_m_3880075333</span>\n",
       "</pre>\n"
      ],
      "text/plain": [
       "Объяление было удалено  \n",
       "\u001b[4;94mhttps://www.avito.ru/sankt-peterburg/kommercheskaya_nedvizhimost/torgovaya_ploschad_122.96_m_3880075333\u001b[0m\n"
      ]
     },
     "metadata": {},
     "output_type": "display_data"
    },
    {
     "data": {
      "text/html": [
       "<pre style=\"white-space:pre;overflow-x:auto;line-height:normal;font-family:Menlo,'DejaVu Sans Mono',consolas,'Courier New',monospace\">Объяление было удалено  \n",
       "<span style=\"color: #0000ff; text-decoration-color: #0000ff; text-decoration: underline\">https://www.avito.ru/sankt-peterburg/kommercheskaya_nedvizhimost/prodazha_pomescheniya_s_arendatorom_bar_zazazu_58_</span>\n",
       "<span style=\"color: #0000ff; text-decoration-color: #0000ff; text-decoration: underline\">m_416138087</span>\n",
       "</pre>\n"
      ],
      "text/plain": [
       "Объяление было удалено  \n",
       "\u001b[4;94mhttps://www.avito.ru/sankt-peterburg/kommercheskaya_nedvizhimost/prodazha_pomescheniya_s_arendatorom_bar_zazazu_58_\u001b[0m\n",
       "\u001b[4;94mm_416138087\u001b[0m\n"
      ]
     },
     "metadata": {},
     "output_type": "display_data"
    },
    {
     "data": {
      "text/html": [
       "<pre style=\"white-space:pre;overflow-x:auto;line-height:normal;font-family:Menlo,'DejaVu Sans Mono',consolas,'Courier New',monospace\">Объяление было удалено  \n",
       "<span style=\"color: #0000ff; text-decoration-color: #0000ff; text-decoration: underline\">https://www.avito.ru/sankt-peterburg/kommercheskaya_nedvizhimost/prodazha_pomescheniya_s_arendatorom_bar_zazazu_58_</span>\n",
       "<span style=\"color: #0000ff; text-decoration-color: #0000ff; text-decoration: underline\">m_4161380871</span>\n",
       "</pre>\n"
      ],
      "text/plain": [
       "Объяление было удалено  \n",
       "\u001b[4;94mhttps://www.avito.ru/sankt-peterburg/kommercheskaya_nedvizhimost/prodazha_pomescheniya_s_arendatorom_bar_zazazu_58_\u001b[0m\n",
       "\u001b[4;94mm_4161380871\u001b[0m\n"
      ]
     },
     "metadata": {},
     "output_type": "display_data"
    }
   ],
   "source": [
    "from selenium import webdriver\n",
    "from selenium.webdriver import ChromeOptions\n",
    "from selenium.webdriver.common.by import By\n",
    "from rich import print as print\n",
    "options = ChromeOptions()\n",
    "urls = (\n",
    "       'https://www.avito.ru/sankt-peterburg/kommercheskaya_nedvizhimost/torgovaya_ploschad_122.96_m_3880075333',\n",
    "       'https://www.avito.ru/sankt-peterburg/kommercheskaya_nedvizhimost/prodazha_pomescheniya_s_arendatorom_bar_zazazu_58_m_416138087',\n",
    "       'https://www.avito.ru/sankt-peterburg/kommercheskaya_nedvizhimost/prodazha_pomescheniya_s_arendatorom_bar_zazazu_58_m_4161380871',\n",
    "       )\n",
    "\n",
    "\n",
    "\n",
    "for url in urls:\n",
    "    options.add_argument(\"--enable-javascript\")\n",
    "    options.add_argument(\"--headless=new\")\n",
    "    browser  =   webdriver.Chrome()\n",
    "\n",
    "    browser.get(url)\n",
    "    browser.add_cookie({\"name\": \"foo\", \"value\": \"bar\"})\n",
    "\n",
    "    try:\n",
    "        status   =  browser.find_element(By.CSS_SELECTOR,'.closed-warning-block-_5cSD').text\n",
    "        price = browser.find_element(By.CSS_SELECTOR, '.style-item-price-main-jpt3x > span:nth-child(1) > span:nth-child(3) > span:nth-child(1)' ).text\n",
    "        \n",
    "        print(status,price,adress, url)\n",
    "    except Exception as e:    \n",
    "        try:\n",
    "            status = 'Активно'\n",
    "            price = browser.find_element(By.CSS_SELECTOR, '.style-item-price-main-jpt3x > span:nth-child(1) > span:nth-child(3) > span:nth-child(1)' ).text\n",
    "            adress = browser.find_element(By.CSS_SELECTOR, '.style-item-address__string-wt61A').text\n",
    "            print (price, status, adress, url)\n",
    "        except Exception as e:\n",
    "            \n",
    "            print(\"Объяление было удалено \", url)\n",
    "\n"
   ]
  }
 ],
 "metadata": {
  "kernelspec": {
   "display_name": "real_estate_transaction-s4JVtSGh",
   "language": "python",
   "name": "python3"
  },
  "language_info": {
   "codemirror_mode": {
    "name": "ipython",
    "version": 3
   },
   "file_extension": ".py",
   "mimetype": "text/x-python",
   "name": "python",
   "nbconvert_exporter": "python",
   "pygments_lexer": "ipython3",
   "version": "3.12.3"
  }
 },
 "nbformat": 4,
 "nbformat_minor": 2
}
