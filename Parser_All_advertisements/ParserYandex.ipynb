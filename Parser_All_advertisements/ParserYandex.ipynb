{
 "cells": [
  {
   "cell_type": "code",
   "execution_count": 8,
   "metadata": {},
   "outputs": [],
   "source": [
    "import requests\n",
    "from bs4 import BeautifulSoup \n",
    "from rich import print\n",
    "from time import sleep\n",
    "import random\n",
    "from selenium import webdriver\n",
    "from selenium.webdriver import ChromeOptions\n",
    "from selenium.webdriver.common.by import By\n",
    "from rich import print as print\n",
    "options = ChromeOptions()"
   ]
  },
  {
   "cell_type": "code",
   "execution_count": 19,
   "metadata": {},
   "outputs": [
    {
     "data": {
      "text/html": [
       "<pre style=\"white-space:pre;overflow-x:auto;line-height:normal;font-family:Menlo,'DejaVu Sans Mono',consolas,'Courier New',monospace\"><span style=\"font-weight: bold\">(</span>\n",
       "    <span style=\"color: #008000; text-decoration-color: #008000\">'3 158 820 ₽ в месяц Объявление активно Бизнес-центр «Сенатор на 18-й линии В.О., 29»'</span>,\n",
       "    <span style=\"color: #008000; text-decoration-color: #008000\">'https://realty.ya.ru/offer/2375074559489126502/'</span>\n",
       "<span style=\"font-weight: bold\">)</span>\n",
       "</pre>\n"
      ],
      "text/plain": [
       "\u001b[1m(\u001b[0m\n",
       "    \u001b[32m'3 158 820 ₽ в месяц Объявление активно Бизнес-центр «Сенатор на 18-й линии В.О., 29»'\u001b[0m,\n",
       "    \u001b[32m'https://realty.ya.ru/offer/2375074559489126502/'\u001b[0m\n",
       "\u001b[1m)\u001b[0m\n"
      ]
     },
     "metadata": {},
     "output_type": "display_data"
    }
   ],
   "source": [
    "from selenium import webdriver\n",
    "from selenium.webdriver import ChromeOptions\n",
    "from selenium.webdriver.common.by import By\n",
    "from rich import print as print\n",
    "options = ChromeOptions()\n",
    "url = \"https://realty.ya.ru/offer/2375074559489126502/\"\n",
    "\n",
    "options.add_argument(\"--enable-javascript\")\n",
    "options.add_argument(\"--headless=new\")\n",
    "browser  =   webdriver.Chrome(options=options)\n",
    "browser.get(url=url)\n",
    "browser.add_cookie({\"name\": \"foo\", \"value\": \"bar\"})\n",
    "price       =   browser.find_element(By.CSS_SELECTOR,'.OfferCardSummaryInfo__price--2FD3C').text\n",
    "adress      =   browser.find_element(By.CSS_SELECTOR,'.OfferCardCommercialInfo__title--1QsZP > a:nth-child(1)').text                           \n",
    "content     =   (price +' Объявление активно '+ adress, url)\n",
    "print(content)\n",
    "browser.close()"
   ]
  },
  {
   "cell_type": "code",
   "execution_count": 6,
   "metadata": {},
   "outputs": [
    {
     "name": "stdout",
     "output_type": "stream",
     "text": [
      "Описание\n",
      "(Opisaniye)\n",
      "\n",
      "\u001b[1mDescription\u001b[22m\n",
      "\n",
      "\u001b[4mОписание\u001b[24m – определения\n",
      "[ \u001b[4mРусский\u001b[24m -> \u001b[1mEnglish\u001b[22m ]\n",
      "\n",
      "имя существительное\n",
      "\u001b[1m    description\u001b[22m\n",
      "        описание, изображение, вид, род, сорт, вычерчивание\n",
      "\u001b[1m    specification\u001b[22m\n",
      "        спецификация, описание, характеристика, определение, технические условия, детализация\n",
      "\u001b[1m    depiction\u001b[22m\n",
      "        описание, изображение, рисунок\n",
      "\u001b[1m    definition\u001b[22m\n",
      "        определение, четкость, описание, резкость, точность, ясность\n",
      "\u001b[1m    declaration\u001b[22m\n",
      "        заявление, декларация, объявление, описание, таможенная декларация, объяснение в любви\n",
      "\u001b[1m    exposition\u001b[22m\n",
      "        экспозиция, изложение, выставка, описание, толкование, разъяснение\n",
      "\u001b[1m    portrayal\u001b[22m\n",
      "        изображение, описание, рисование, рисование портрета\n",
      "\u001b[1m    portrait\u001b[22m\n",
      "        портрет, изображение, описание\n",
      "\u001b[1m    delineation\u001b[22m\n",
      "        описание, план, очерчивание, изображение, очертание, абрис\n",
      "\u001b[1m    recital\u001b[22m\n",
      "        сольный концерт, рассказ, описание, повествование, изложение, декламация\n",
      "\u001b[1m    portraiture\u001b[22m\n",
      "        портрет, портретная живопись, изображение, описание\n",
      "\u001b[1m    circumscribing\u001b[22m\n",
      "        описание\n",
      "\u001b[1m    relation\u001b[22m\n",
      "        связь, отношение, соотношение, зависимость, родственник, описание\n",
      "\u001b[1m    write-up\u001b[22m\n",
      "        письменный отчет, подробный газетный отчет, описание\n",
      "\n",
      "\u001b[4mОписание\u001b[24m\n",
      "    \u001b[1mDescription\u001b[22m, \u001b[1mDetails\u001b[22m\n"
     ]
    }
   ],
   "source": []
  }
 ],
 "metadata": {
  "kernelspec": {
   "display_name": "real_estate_transaction-s4JVtSGh",
   "language": "python",
   "name": "python3"
  },
  "language_info": {
   "codemirror_mode": {
    "name": "ipython",
    "version": 3
   },
   "file_extension": ".py",
   "mimetype": "text/x-python",
   "name": "python",
   "nbconvert_exporter": "python",
   "pygments_lexer": "ipython3",
   "version": "3.10.12"
  }
 },
 "nbformat": 4,
 "nbformat_minor": 2
}
